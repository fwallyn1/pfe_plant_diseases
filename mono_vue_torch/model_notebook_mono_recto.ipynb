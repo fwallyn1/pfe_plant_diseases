{
 "cells": [
  {
   "cell_type": "code",
   "execution_count": 1,
   "id": "f52bdb59-e00e-4067-ab03-8cbc6809650b",
   "metadata": {
    "tags": []
   },
   "outputs": [],
   "source": [
    "%load_ext autoreload\n",
    "%autoreload 2"
   ]
  },
  {
   "cell_type": "markdown",
   "id": "1c0a9053",
   "metadata": {},
   "source": [
    "# Mono View Upper Side"
   ]
  },
  {
   "cell_type": "code",
   "execution_count": 7,
   "id": "d36901ab-b358-44b7-8b95-24bdb5f4e85e",
   "metadata": {
    "tags": []
   },
   "outputs": [],
   "source": [
    "from train_monoview_network import TrainMonoInputModel\n",
    "from mono_view_classification_network import MonoInputModel\n",
    "from config import get_config\n",
    "\n",
    "import torch\n",
    "from tqdm import tqdm\n",
    "from torchvision import datasets\n",
    "from sklearn import preprocessing\n",
    "from sklearn.metrics import confusion_matrix, ConfusionMatrixDisplay, balanced_accuracy_score, accuracy_score\n",
    "import matplotlib\n",
    "import matplotlib.pyplot as plt\n",
    "import numpy as np\n",
    "import pandas as pd\n",
    "import json\n",
    "from copy import deepcopy"
   ]
  },
  {
   "cell_type": "code",
   "execution_count": 3,
   "id": "ee1b5644-01d8-4ce5-bc50-e3fa95060d17",
   "metadata": {
    "tags": []
   },
   "outputs": [],
   "source": [
    "model_config, data_config = get_config()"
   ]
  },
  {
   "cell_type": "code",
   "execution_count": 4,
   "id": "10006bda-3605-4c32-960c-997674b401fb",
   "metadata": {
    "tags": []
   },
   "outputs": [
    {
     "name": "stdout",
     "output_type": "stream",
     "text": [
      "[INFO]: Loading pre-trained weights\n",
      "[INFO]: Freezing hidden layers...\n"
     ]
    }
   ],
   "source": [
    "trainer = TrainMonoInputModel(model_config,data_config)\n",
    "# trainer.train_and_validate()"
   ]
  },
  {
   "cell_type": "code",
   "execution_count": 6,
   "id": "6042797f-e10d-401d-a4cb-53b4fc657cf8",
   "metadata": {
    "tags": []
   },
   "outputs": [
    {
     "name": "stdout",
     "output_type": "stream",
     "text": [
      "[INFO]: Loading pre-trained weights\n",
      "[INFO]: Freezing hidden layers...\n",
      "Loading trained model weights...\n"
     ]
    }
   ],
   "source": [
    "model = model_config['model']            \n",
    "model = MonoInputModel(model,pretrained=True, fine_tune=False, num_classes=7)\n",
    "checkpoint = torch.load(f'{trainer.main_path}/outputs/model_EfficientNet_mono_RECTO_epochs_30_lr_0.001_batch_size_32_pretrained_True_fine_tune_False.pth', map_location=\"cuda\")\n",
    "print('Loading trained model weights...')\n",
    "model.load_state_dict(checkpoint['model_state_dict'])\n",
    "model = model.to(trainer.device)"
   ]
  },
  {
   "cell_type": "markdown",
   "id": "7a57bee5-7850-4463-a710-0482433928f5",
   "metadata": {},
   "source": [
    "## Multiple combinations"
   ]
  },
  {
   "cell_type": "code",
   "execution_count": 9,
   "id": "9bd54c43-611e-450f-8539-0f420abbb9a8",
   "metadata": {
    "tags": []
   },
   "outputs": [],
   "source": [
    "class Identity(torch.nn.Module):\n",
    "    def __init__(self):\n",
    "        super(Identity, self).__init__()\n",
    "        \n",
    "    def forward(self, x):\n",
    "        return x\n",
    "\n",
    "def modified_resnet(model):\n",
    "    model.fc = Identity()\n",
    "    return model\n",
    "\n",
    "def modified_densenet(model):\n",
    "    model.classifier = Identity()\n",
    "    return model "
   ]
  },
  {
   "cell_type": "code",
   "execution_count": 10,
   "id": "88c8ca82-2d68-4f64-8e89-2f4bd18d7271",
   "metadata": {
    "tags": []
   },
   "outputs": [],
   "source": [
    "import torchvision\n",
    "models = [{'model':torchvision.models.efficientnet_b5(weights='IMAGENET1K_V1'),\n",
    "                                      'avgpool':torch.nn.AdaptiveAvgPool2d(1),\n",
    "                                      'last_layer_size':2048,\n",
    "                                      'model_name' : 'EfficientNet',\n",
    "                                       'features' : None\n",
    "          },\n",
    "          {'model':torchvision.models.densenet121(weights='IMAGENET1K_V1'),\n",
    "                                  'avgpool':None,\n",
    "                                  'last_layer_size':1024,\n",
    "                                  'model_name' : 'DenseNet121',\n",
    "                                   'features' : modified_densenet(torchvision.models.densenet121(weights='IMAGENET1K_V1')),\n",
    "            },\n",
    "          {'model':torchvision.models.resnet50(weights='IMAGENET1K_V1'),\n",
    "                                  'avgpool':None,\n",
    "                                  'last_layer_size':2048,\n",
    "                                  'model_name' : 'ResNet50',\n",
    "                                   'features' : modified_resnet(torchvision.models.resnet50(weights='IMAGENET1K_V1'))\n",
    "            },\n",
    "          {'model':torchvision.models.vgg16(weights='IMAGENET1K_V1'),\n",
    "                                  'avgpool':torch.nn.AdaptiveAvgPool2d((1,1)),\n",
    "                                  'last_layer_size':512,\n",
    "                                  'model_name' : 'VGG',\n",
    "                                   'features' : None\n",
    "            },\n",
    "          \n",
    "          {'model':torchvision.models.resnet152(weights='IMAGENET1K_V1'),\n",
    "                                  'avgpool':None,\n",
    "                                  'last_layer_size':2048,\n",
    "                                  'model_name' : 'ResNet152',\n",
    "                                   'features' : modified_resnet(torchvision.models.resnet152(weights='IMAGENET1K_V1'))\n",
    "            }\n",
    "          \n",
    "]"
   ]
  },
  {
   "cell_type": "markdown",
   "id": "081cb95b",
   "metadata": {},
   "source": [
    "## Train and Validate"
   ]
  },
  {
   "cell_type": "code",
   "execution_count": 11,
   "id": "ea735861-c277-4865-8b30-b72dc3cb3a71",
   "metadata": {
    "collapsed": true,
    "jupyter": {
     "outputs_hidden": true
    },
    "tags": []
   },
   "outputs": [
    {
     "data": {
      "text/plain": [
       "'\\nfor model in models :\\n    model_config = {\\'learning_rate\\' : 0.001,\\n                      \"epochs\" : 30,\\n                      \"pretrained\":True,\\n                      \"fine_tune\":False,\\n                        \"model\":model,\\n                     }\\n    trainer = TrainMonoInputModel(model_config,data_config,pretrained=True,fine_tune=False)\\n    save_file = f\"model_{model[\\'model_name\\']}_mono_{trainer.side}_epochs_{trainer.epochs}_lr_{trainer.lr}_batch_size_{trainer.batch_size}_pretrained_{trainer.pretrained}_fine_tune_{trainer.fine_tune}.pth\"\\n    if save_file not in os.listdir(\\'/home/onyxia/work/pfe-deep-learning-maladies-plantes/mono_vue_torch/outputs\\'):\\n        print(model[\\'model_name\\'])\\n        trainer.train_and_validate()'"
      ]
     },
     "execution_count": 11,
     "metadata": {},
     "output_type": "execute_result"
    }
   ],
   "source": [
    "import os\n",
    "\"\"\"\n",
    "for model in models :\n",
    "    model_config = {'learning_rate' : 0.001,\n",
    "                      \"epochs\" : 30,\n",
    "                      \"pretrained\":True,\n",
    "                      \"fine_tune\":False,\n",
    "                        \"model\":model,\n",
    "                     }\n",
    "    trainer = TrainMonoInputModel(model_config,data_config,pretrained=True,fine_tune=False)\n",
    "    save_file = f\"model_{model['model_name']}_mono_{trainer.side}_epochs_{trainer.epochs}_lr_{trainer.lr}_batch_size_{trainer.batch_size}_pretrained_{trainer.pretrained}_fine_tune_{trainer.fine_tune}.pth\"\n",
    "    if save_file not in os.listdir('/home/onyxia/work/pfe-deep-learning-maladies-plantes/mono_vue_torch/outputs'):\n",
    "        print(model['model_name'])\n",
    "        trainer.train_and_validate()\"\"\"\n"
   ]
  },
  {
   "cell_type": "markdown",
   "id": "e1d00dd9-3574-4075-8479-abcb095df1fb",
   "metadata": {},
   "source": [
    "## Models Evaluation"
   ]
  },
  {
   "cell_type": "code",
   "execution_count": 12,
   "id": "bfd18903-13b0-41ae-87cf-5400bee7a284",
   "metadata": {
    "tags": []
   },
   "outputs": [],
   "source": [
    "import ptflops as ptf\n",
    "from sklearn.metrics import confusion_matrix, ConfusionMatrixDisplay, balanced_accuracy_score, accuracy_score, f1_score, precision_score, recall_score, roc_auc_score\n"
   ]
  },
  {
   "cell_type": "code",
   "execution_count": 13,
   "id": "7916489e-cf4c-4da9-8296-16c364f03a7d",
   "metadata": {
    "tags": []
   },
   "outputs": [
    {
     "name": "stderr",
     "output_type": "stream",
     "text": [
      "100%|██████████| 91/91 [00:32<00:00,  2.79it/s]\n"
     ]
    }
   ],
   "source": [
    "y_obs = []\n",
    "for i, recto in tqdm(enumerate(trainer.testloader), total=len(trainer.testloader)):\n",
    "        image_recto, labels = recto\n",
    "        y_obs.append(labels.tolist())\n",
    "y_obs = [item for sublist in y_obs for item in sublist]"
   ]
  },
  {
   "cell_type": "code",
   "execution_count": 14,
   "id": "371928bf-7556-4688-9ad3-1c551078618c",
   "metadata": {
    "tags": []
   },
   "outputs": [
    {
     "name": "stdout",
     "output_type": "stream",
     "text": [
      "[INFO]: Loading pre-trained weights\n",
      "[INFO]: Freezing hidden layers...\n",
      "[INFO]: Loading pre-trained weights\n",
      "[INFO]: Freezing hidden layers...\n"
     ]
    },
    {
     "data": {
      "application/vnd.jupyter.widget-view+json": {
       "model_id": "891b7be35f264b679b7ad03eecc0a7ee",
       "version_major": 2,
       "version_minor": 0
      },
      "text/plain": [
       "  0%|          | 0/91 [00:00<?, ?it/s]"
      ]
     },
     "metadata": {},
     "output_type": "display_data"
    },
    {
     "name": "stdout",
     "output_type": "stream",
     "text": [
      "[INFO]: Loading pre-trained weights\n",
      "[INFO]: Freezing hidden layers...\n",
      "[INFO]: Loading pre-trained weights\n",
      "[INFO]: Freezing hidden layers...\n"
     ]
    },
    {
     "data": {
      "application/vnd.jupyter.widget-view+json": {
       "model_id": "bca2e435b8394741b6f54edba1976e0d",
       "version_major": 2,
       "version_minor": 0
      },
      "text/plain": [
       "  0%|          | 0/91 [00:00<?, ?it/s]"
      ]
     },
     "metadata": {},
     "output_type": "display_data"
    },
    {
     "name": "stdout",
     "output_type": "stream",
     "text": [
      "[INFO]: Loading pre-trained weights\n",
      "[INFO]: Freezing hidden layers...\n",
      "[INFO]: Loading pre-trained weights\n",
      "[INFO]: Freezing hidden layers...\n"
     ]
    },
    {
     "data": {
      "application/vnd.jupyter.widget-view+json": {
       "model_id": "6d23973aace04f958b0f9eab9f2c698d",
       "version_major": 2,
       "version_minor": 0
      },
      "text/plain": [
       "  0%|          | 0/91 [00:00<?, ?it/s]"
      ]
     },
     "metadata": {},
     "output_type": "display_data"
    },
    {
     "name": "stdout",
     "output_type": "stream",
     "text": [
      "[INFO]: Loading pre-trained weights\n",
      "[INFO]: Freezing hidden layers...\n",
      "[INFO]: Loading pre-trained weights\n",
      "[INFO]: Freezing hidden layers...\n"
     ]
    },
    {
     "data": {
      "application/vnd.jupyter.widget-view+json": {
       "model_id": "f43427a542bb4e97b9d9228c4f0b5ed4",
       "version_major": 2,
       "version_minor": 0
      },
      "text/plain": [
       "  0%|          | 0/91 [00:00<?, ?it/s]"
      ]
     },
     "metadata": {},
     "output_type": "display_data"
    },
    {
     "name": "stdout",
     "output_type": "stream",
     "text": [
      "[INFO]: Loading pre-trained weights\n",
      "[INFO]: Freezing hidden layers...\n",
      "[INFO]: Loading pre-trained weights\n",
      "[INFO]: Freezing hidden layers...\n"
     ]
    },
    {
     "data": {
      "application/vnd.jupyter.widget-view+json": {
       "model_id": "9a91ddaf4a76440cb29a8fb846aec6ce",
       "version_major": 2,
       "version_minor": 0
      },
      "text/plain": [
       "  0%|          | 0/91 [00:00<?, ?it/s]"
      ]
     },
     "metadata": {},
     "output_type": "display_data"
    }
   ],
   "source": [
    "import os\n",
    "#all_models_weight = [f for f in os.listdir('/home/onyxia/work/pfe-deep-learning-maladies-plantes/multi_vue_pytorch/outputs') if f.endswith(\".pth\")]\n",
    "lb=[\"Alt\",\"Big\",\"Mac\",\"Mil\",\"Myc\",\"Pse\",\"Syl\"]\n",
    "le = preprocessing.LabelEncoder()\n",
    "le.fit(lb)\n",
    "all_outputs = {}\n",
    "for modelR in models :\n",
    "    temp = {}\n",
    "    model_config = {'learning_rate' : 0.001,\n",
    "                  \"epochs\" : 30,\n",
    "                  \"pretrained\":True,\n",
    "                  \"fine_tune\":False,\n",
    "                    \"model\": deepcopy(modelR),\n",
    "                 }\n",
    "    trainer = TrainMonoInputModel(model_config,data_config)\n",
    "    model = MonoInputModel(modelR,pretrained=True, fine_tune=False, num_classes=7)\n",
    "    checkpoint = torch.load(f'{trainer.main_path}/outputs/model_{model.name}_mono_{trainer.side}_epochs_{trainer.epochs}_lr_{trainer.lr}_batch_size_{trainer.batch_size}_pretrained_{trainer.pretrained}_fine_tune_{trainer.fine_tune}.pth', map_location=\"cuda\")\n",
    "    #model.load_state_dict({cle: checkpoint['model_state_dict'][cle] for cle in checkpoint['model_state_dict'].keys() if not cle.startswith(\"modelRecto.\") and not cle.startswith(\"modelVerso.\")})\n",
    "    model.load_state_dict(checkpoint['model_state_dict'])\n",
    "    model = model.to(trainer.device)\n",
    "    trainer.model = model\n",
    "    preds, max_probs, all_probs = trainer.predict(trainer.testloader)\n",
    "    macs,_ = ptf.get_model_complexity_info(trainer.model, (3, 224, 224), as_strings=False,\n",
    "                                               print_per_layer_stat=False, verbose=False)\n",
    "    all_outputs[model.name] = {\n",
    "     \"pred\" : le.inverse_transform(preds).tolist(),\n",
    "     \"max_probs\" : max_probs,\n",
    "    \"all_probs\" : all_probs,\n",
    "     \"accuracy\" : accuracy_score(y_obs,preds),\n",
    "     \"balanced_accuracy\" : balanced_accuracy_score(y_obs,preds),\n",
    "     \"precision_micro\" : precision_score(y_obs,preds,average=\"micro\"),\n",
    "    \"recall_micro\" : recall_score(y_obs,preds,average=\"micro\"),\n",
    "    \"precision_micro\" : precision_score(y_obs,preds,average=\"micro\"),\n",
    "    \"recall_micro\" : recall_score(y_obs,preds,average=\"micro\"),\n",
    "    \"roc_auc_micro\" : roc_auc_score(y_obs,all_probs,average=\"micro\",multi_class='ovr'),\n",
    "    \"f1_score_micro\" : f1_score(y_obs,preds,average=\"micro\"),\n",
    "    \"precision_weighted\" : precision_score(y_obs,preds,average=\"weighted\"),\n",
    "    \"recall_weighted\" : recall_score(y_obs,preds,average=\"weighted\"),\n",
    "    \"precision_weighted\" : precision_score(y_obs,preds,average=\"weighted\"),\n",
    "    \"recall_weighted\" : recall_score(y_obs,preds,average=\"weighted\"),\n",
    "    \"roc_auc_weighted\" : roc_auc_score(y_obs,all_probs,average=\"weighted\",multi_class='ovo'),\n",
    "    \"f1_score_weighted\" : f1_score(y_obs,preds,average=\"weighted\"),\n",
    "     \"nb_trainable_parameters\" : sum(\n",
    "        p.numel() for p in trainer.model.parameters() if p.requires_grad),\n",
    "     \"nb_parameters\" : sum(\n",
    "        p.numel() for p in trainer.model.parameters()),\n",
    "    \"macs\" : macs\n",
    "    }"
   ]
  },
  {
   "cell_type": "code",
   "execution_count": 20,
   "id": "47184fd1-c64c-43db-ba2f-85cf8e106a68",
   "metadata": {
    "tags": []
   },
   "outputs": [],
   "source": [
    "with open(\"outputs/test_results_mono_recto_full.json\",\"w\",encoding='utf-8') as f:\n",
    "    json.dump(all_outputs, f, ensure_ascii=False, indent=4)"
   ]
  },
  {
   "cell_type": "code",
   "execution_count": 21,
   "id": "b8a34d8a",
   "metadata": {
    "tags": []
   },
   "outputs": [],
   "source": [
    "with open(\"outputs/test_results_mono_recto_full.json\") as f:\n",
    "    all_outputs = json.load(f)"
   ]
  },
  {
   "cell_type": "markdown",
   "id": "69cce04d",
   "metadata": {},
   "source": [
    "### Plot macs/accuracy/parameters"
   ]
  },
  {
   "cell_type": "code",
   "execution_count": 19,
   "id": "c0374ecc",
   "metadata": {
    "tags": []
   },
   "outputs": [
    {
     "data": {
      "image/png": "[encoded data removed]",
      "text/plain": [
       "<Figure size 1000x800 with 1 Axes>"
      ]
     },
     "metadata": {},
     "output_type": "display_data"
    }
   ],
   "source": [
    "import matplotlib.pyplot as plt\n",
    "from adjustText import adjust_text\n",
    "# Préparation des données pour le graphique\n",
    "names = []\n",
    "macs = []\n",
    "accuracy = []\n",
    "params = []\n",
    "max_params = max(values['nb_parameters'] for values in all_outputs.values())\n",
    "for name, values in all_outputs.items():\n",
    "    names.append(name)\n",
    "    macs.append(values['macs'] / 1e9)  # Convert MACs to GigaMACs\n",
    "    accuracy.append(values['accuracy'])\n",
    "    params.append((values['nb_parameters'] / max_params) * 1000)\n",
    "\n",
    "fig, ax = plt.subplots(figsize=(10, 8))\n",
    "scatter = ax.scatter(macs, accuracy, s=params, alpha=0.5, c='C0')\n",
    "\n",
    "plt.xlabel('MACs (G)')\n",
    "plt.ylabel('Accuracy')\n",
    "\n",
    "# Format x-axis tick labels as scientific notation with \"G\" unit\n",
    "ax.ticklabel_format(axis='x', style='sci', scilimits=(0, 0))\n",
    "ax.xaxis.offsetText.set_visible(False)\n",
    "ax.xaxis.set_major_formatter('{x:.1f}G')\n",
    "sizes = [10**7, 20*10**6, 50*10**6, 70*10**6]  # Define different sizes for the circles\n",
    "labels = [f'{s/(10**6):.0f}M' for s in sizes]  # Define labels for the legend\n",
    "handles = [plt.scatter([], [], s=(s/max_params)*1000, alpha=0.5,c=\"C0\") for s in sizes]  # Create dummy scatter plots for the legend\n",
    "legend = plt.legend(handles, labels, title='Number of parameters (M)', scatterpoints=1, labelspacing=1.9, loc='lower right',ncol=2,borderpad=1.2)\n",
    "plt.setp(legend.get_title(), fontsize='medium')\n",
    "# Ajout des annotations\n",
    "texts = []\n",
    "for x, y, s in zip(macs, accuracy, names):\n",
    "    texts.append(plt.text(x, y, s))\n",
    "adjust_text(texts, only_move={'points':'y', 'texts':'y'}, arrowprops=dict(arrowstyle=\"->\", color='r', lw=0.5))\n",
    "plt.show()\n",
    "fig.savefig(\"outputs/model_performance_plot_acc_mac.pdf\",format=\"pdf\")"
   ]
  },
  {
   "cell_type": "markdown",
   "id": "7f424d12",
   "metadata": {},
   "source": [
    "### Table with results"
   ]
  },
  {
   "cell_type": "code",
   "execution_count": 24,
   "id": "7a4d716a",
   "metadata": {
    "tags": []
   },
   "outputs": [
    {
     "data": {
      "text/html": [
       "<div>\n",
       "<style scoped>\n",
       "    .dataframe tbody tr th:only-of-type {\n",
       "        vertical-align: middle;\n",
       "    }\n",
       "\n",
       "    .dataframe tbody tr th {\n",
       "        vertical-align: top;\n",
       "    }\n",
       "\n",
       "    .dataframe thead th {\n",
       "        text-align: right;\n",
       "    }\n",
       "</style>\n",
       "<table border=\"1\" class=\"dataframe\">\n",
       "  <thead>\n",
       "    <tr style=\"text-align: right;\">\n",
       "      <th></th>\n",
       "      <th>accuracy</th>\n",
       "      <th>balanced accuracy</th>\n",
       "      <th>precision micro</th>\n",
       "      <th>precision weighted</th>\n",
       "      <th>recall micro</th>\n",
       "      <th>f1-score micro</th>\n",
       "      <th>f1-score weighted</th>\n",
       "      <th>roc auc micro</th>\n",
       "      <th>roc auc weighted</th>\n",
       "    </tr>\n",
       "  </thead>\n",
       "  <tbody>\n",
       "    <tr>\n",
       "      <th>DenseNet121</th>\n",
       "      <td>0.924437</td>\n",
       "      <td>0.920965</td>\n",
       "      <td>0.924437</td>\n",
       "      <td>0.925277</td>\n",
       "      <td>0.924437</td>\n",
       "      <td>0.924437</td>\n",
       "      <td>0.923220</td>\n",
       "      <td>0.994934</td>\n",
       "      <td>0.994030</td>\n",
       "    </tr>\n",
       "    <tr>\n",
       "      <th>ResNet50</th>\n",
       "      <td>0.917158</td>\n",
       "      <td>0.910497</td>\n",
       "      <td>0.917158</td>\n",
       "      <td>0.918397</td>\n",
       "      <td>0.917158</td>\n",
       "      <td>0.917158</td>\n",
       "      <td>0.915686</td>\n",
       "      <td>0.994156</td>\n",
       "      <td>0.993845</td>\n",
       "    </tr>\n",
       "    <tr>\n",
       "      <th>VGG</th>\n",
       "      <td>0.906066</td>\n",
       "      <td>0.902359</td>\n",
       "      <td>0.906066</td>\n",
       "      <td>0.906714</td>\n",
       "      <td>0.906066</td>\n",
       "      <td>0.906066</td>\n",
       "      <td>0.906032</td>\n",
       "      <td>0.993310</td>\n",
       "      <td>0.991792</td>\n",
       "    </tr>\n",
       "    <tr>\n",
       "      <th>ResNet152</th>\n",
       "      <td>0.905719</td>\n",
       "      <td>0.898563</td>\n",
       "      <td>0.905719</td>\n",
       "      <td>0.907734</td>\n",
       "      <td>0.905719</td>\n",
       "      <td>0.905719</td>\n",
       "      <td>0.904485</td>\n",
       "      <td>0.993335</td>\n",
       "      <td>0.992515</td>\n",
       "    </tr>\n",
       "    <tr>\n",
       "      <th>EfficientNet</th>\n",
       "      <td>0.887695</td>\n",
       "      <td>0.880988</td>\n",
       "      <td>0.887695</td>\n",
       "      <td>0.886241</td>\n",
       "      <td>0.887695</td>\n",
       "      <td>0.887695</td>\n",
       "      <td>0.886325</td>\n",
       "      <td>0.989899</td>\n",
       "      <td>0.987937</td>\n",
       "    </tr>\n",
       "  </tbody>\n",
       "</table>\n",
       "</div>"
      ],
      "text/plain": [
       "              accuracy  balanced accuracy  precision micro  \\\n",
       "DenseNet121   0.924437           0.920965         0.924437   \n",
       "ResNet50      0.917158           0.910497         0.917158   \n",
       "VGG           0.906066           0.902359         0.906066   \n",
       "ResNet152     0.905719           0.898563         0.905719   \n",
       "EfficientNet  0.887695           0.880988         0.887695   \n",
       "\n",
       "              precision weighted  recall micro  f1-score micro  \\\n",
       "DenseNet121             0.925277      0.924437        0.924437   \n",
       "ResNet50                0.918397      0.917158        0.917158   \n",
       "VGG                     0.906714      0.906066        0.906066   \n",
       "ResNet152               0.907734      0.905719        0.905719   \n",
       "EfficientNet            0.886241      0.887695        0.887695   \n",
       "\n",
       "              f1-score weighted  roc auc micro  roc auc weighted  \n",
       "DenseNet121            0.923220       0.994934          0.994030  \n",
       "ResNet50               0.915686       0.994156          0.993845  \n",
       "VGG                    0.906032       0.993310          0.991792  \n",
       "ResNet152              0.904485       0.993335          0.992515  \n",
       "EfficientNet           0.886325       0.989899          0.987937  "
      ]
     },
     "execution_count": 24,
     "metadata": {},
     "output_type": "execute_result"
    }
   ],
   "source": [
    "dict_res = {key1: { key2 : all_outputs[key1][key2] for key2 in [\"accuracy\",\"balanced_accuracy\",\"precision_micro\",\"precision_weighted\",\"recall_micro\",\"f1_score_micro\",\"f1_score_weighted\",\"roc_auc_micro\",\"roc_auc_weighted\"]} for key1 in all_outputs.keys() }\n",
    "pd_res = pd.DataFrame(dict_res).transpose()\n",
    "pd_res.columns = [\"accuracy\",\"balanced accuracy\",\"precision micro\",\"precision weighted\",\"recall micro\",\"f1-score micro\",\"f1-score weighted\",\"roc auc micro\",\"roc auc weighted\"]\n",
    "pd_res.sort_values(by=\"accuracy\",ascending=False)"
   ]
  },
  {
   "cell_type": "markdown",
   "id": "e916fa4a",
   "metadata": {},
   "source": [
    "#### Matrice de confusion pour le meilleur modèle"
   ]
  },
  {
   "cell_type": "code",
   "execution_count": 34,
   "id": "629efd69",
   "metadata": {
    "tags": []
   },
   "outputs": [
    {
     "data": {
      "image/png": "[encoded data removed]",
      "text/plain": [
       "<Figure size 1000x800 with 1 Axes>"
      ]
     },
     "metadata": {},
     "output_type": "display_data"
    },
    {
     "data": {
      "image/png": "[encoded data removed]",
      "text/plain": [
       "<Figure size 640x480 with 2 Axes>"
      ]
     },
     "metadata": {},
     "output_type": "display_data"
    },
    {
     "name": "stdout",
     "output_type": "stream",
     "text": [
      "Accuracy : 0.9244367417677642\n",
      "Balanced Accuracy : 0.9209652467223836\n"
     ]
    }
   ],
   "source": [
    "y_pred=all_outputs['DenseNet121']['pred']\n",
    "#y_obs=real_labels\n",
    "# let's use sklearn\n",
    "lb=[\"Alt\",\"Big\",\"Mac\",\"Mil\",\"Myc\",\"Pse\",\"Syl\"]\n",
    "le = preprocessing.LabelEncoder()\n",
    "le.fit(lb)\n",
    "#y_pred=le.inverse_transform(y_pred)\n",
    "#y_obs=le.inverse_transform(y_obs)\n",
    "fig, ax = plt.subplots(figsize=(10, 8))\n",
    "disp = ConfusionMatrixDisplay(confusion_matrix=confusion_matrix(y_obs,\n",
    "y_pred,labels=lb),display_labels=lb)\n",
    "disp.plot()\n",
    "plt.show()\n",
    "print(\"Accuracy : \"+str(accuracy_score(y_obs, y_pred)))\n",
    "print(\"Balanced Accuracy : \"+str(balanced_accuracy_score(y_obs, y_pred)))\n",
    "\n",
    "fig.savefig(\"outputs/cmatrixR.png\",format=\"png\")"
   ]
  }
 ],
 "metadata": {
  "kernelspec": {
   "display_name": "Python 3 (ipykernel)",
   "language": "python",
   "name": "python3"
  },
  "language_info": {
   "codemirror_mode": {
    "name": "ipython",
    "version": 3
   },
   "file_extension": ".py",
   "mimetype": "text/x-python",
   "name": "python",
   "nbconvert_exporter": "python",
   "pygments_lexer": "ipython3",
   "version": "3.10.9"
  },
  "vscode": {
   "interpreter": {
    "hash": "3fa046f995eb80ac40c0869a1f9df46519f4ada8b8c395ef25dd1aa1a1a2fc63"
   }
  }
 },
 "nbformat": 4,
 "nbformat_minor": 5
}
