{
 "cells": [
  {
   "cell_type": "code",
   "execution_count": 2,
   "id": "d36901ab-b358-44b7-8b95-24bdb5f4e85e",
   "metadata": {
    "tags": []
   },
   "outputs": [],
   "source": [
    "from train_monoview_network import TrainMonoInputModel\n",
    "from mono_view_classification_network import MonoInputModel\n",
    "from config import get_config\n",
    "\n",
    "import torch\n",
    "from tqdm import tqdm\n",
    "from torchvision import datasets\n",
    "from sklearn import preprocessing\n",
    "from sklearn.metrics import confusion_matrix, ConfusionMatrixDisplay, balanced_accuracy_score, accuracy_score\n",
    "import matplotlib\n",
    "import matplotlib.pyplot as plt\n",
    "import numpy as np\n",
    "import pandas as pd\n",
    "import json\n",
    "from copy import deepcopy"
   ]
  },
  {
   "cell_type": "markdown",
   "id": "729d0a91",
   "metadata": {},
   "source": [
    "# Mono view lower side"
   ]
  },
  {
   "cell_type": "code",
   "execution_count": 3,
   "id": "ee1b5644-01d8-4ce5-bc50-e3fa95060d17",
   "metadata": {
    "tags": []
   },
   "outputs": [],
   "source": [
    "model_config, data_config = get_config('VERSO')"
   ]
  },
  {
   "cell_type": "code",
   "execution_count": 4,
   "id": "10006bda-3605-4c32-960c-997674b401fb",
   "metadata": {
    "tags": []
   },
   "outputs": [
    {
     "name": "stdout",
     "output_type": "stream",
     "text": [
      "[INFO]: Loading pre-trained weights\n",
      "[INFO]: Freezing hidden layers...\n"
     ]
    }
   ],
   "source": [
    "trainer = TrainMonoInputModel(model_config,data_config)\n",
    "# trainer.train_and_validate()"
   ]
  },
  {
   "cell_type": "code",
   "execution_count": 4,
   "id": "f07e997c-6f9e-4195-9ea7-beb637cf5568",
   "metadata": {},
   "outputs": [
    {
     "data": {
      "text/plain": [
       "'cuda'"
      ]
     },
     "execution_count": 4,
     "metadata": {},
     "output_type": "execute_result"
    }
   ],
   "source": [
    "trainer.device"
   ]
  },
  {
   "cell_type": "code",
   "execution_count": 5,
   "id": "6042797f-e10d-401d-a4cb-53b4fc657cf8",
   "metadata": {},
   "outputs": [
    {
     "name": "stdout",
     "output_type": "stream",
     "text": [
      "[INFO]: Loading pre-trained weights\n",
      "[INFO]: Freezing hidden layers...\n",
      "Loading trained model weights...\n"
     ]
    }
   ],
   "source": [
    "model = model_config['model']            \n",
    "model = MonoInputModel(model,pretrained=True, fine_tune=False, num_classes=7)\n",
    "checkpoint = torch.load(f'{trainer.main_path}/outputs/model_EfficientNet_mono_VERSO_epochs_30_lr_0.001_batch_size_32_pretrained_True_fine_tune_False.pth', map_location=\"cuda\")\n",
    "print('Loading trained model weights...')\n",
    "model.load_state_dict(checkpoint['model_state_dict'])\n",
    "model = model.to(trainer.device)"
   ]
  },
  {
   "cell_type": "markdown",
   "id": "f6ef2c6e-c8b7-4a54-95e9-903eaaabb496",
   "metadata": {},
   "source": [
    "## Multiple combinations"
   ]
  },
  {
   "cell_type": "code",
   "execution_count": 5,
   "id": "f1949d7d-a9cb-451b-af53-88577c8c5dd6",
   "metadata": {
    "tags": []
   },
   "outputs": [],
   "source": [
    "class Identity(torch.nn.Module):\n",
    "    def __init__(self):\n",
    "        super(Identity, self).__init__()\n",
    "        \n",
    "    def forward(self, x):\n",
    "        return x\n",
    "\n",
    "def modified_resnet(model):\n",
    "    model.fc = Identity()\n",
    "    return model\n",
    "\n",
    "def modified_densenet(model):\n",
    "    model.classifier = Identity()\n",
    "    return model "
   ]
  },
  {
   "cell_type": "code",
   "execution_count": 6,
   "id": "f21e9906-b9a7-42cd-adc9-98770cdd973c",
   "metadata": {
    "tags": []
   },
   "outputs": [],
   "source": [
    "import torchvision\n",
    "models = [{'model':torchvision.models.efficientnet_b5(weights='IMAGENET1K_V1'),\n",
    "                                      'avgpool':torch.nn.AdaptiveAvgPool2d(1),\n",
    "                                      'last_layer_size':2048,\n",
    "                                      'model_name' : 'EfficientNet',\n",
    "                                       'features' : None\n",
    "          },\n",
    "          {'model':torchvision.models.densenet121(weights='IMAGENET1K_V1'),\n",
    "                                  'avgpool':None,\n",
    "                                  'last_layer_size':1024,\n",
    "                                  'model_name' : 'DenseNet121',\n",
    "                                   'features' : modified_densenet(torchvision.models.densenet121(weights='IMAGENET1K_V1')),\n",
    "            },\n",
    "          {'model':torchvision.models.resnet50(weights='IMAGENET1K_V1'),\n",
    "                                  'avgpool':None,\n",
    "                                  'last_layer_size':2048,\n",
    "                                  'model_name' : 'ResNet50',\n",
    "                                   'features' : modified_resnet(torchvision.models.resnet50(weights='IMAGENET1K_V1'))\n",
    "            },\n",
    "          {'model':torchvision.models.vgg16(weights='IMAGENET1K_V1'),\n",
    "                                  'avgpool':torch.nn.AdaptiveAvgPool2d((1,1)),\n",
    "                                  'last_layer_size':512,\n",
    "                                  'model_name' : 'VGG',\n",
    "                                   'features' : None\n",
    "            },\n",
    "          \n",
    "          {'model':torchvision.models.resnet152(weights='IMAGENET1K_V1'),\n",
    "                                  'avgpool':None,\n",
    "                                  'last_layer_size':2048,\n",
    "                                  'model_name' : 'ResNet152',\n",
    "                                   'features' : modified_resnet(torchvision.models.resnet152(weights='IMAGENET1K_V1'))\n",
    "            }\n",
    "          \n",
    "]"
   ]
  },
  {
   "cell_type": "markdown",
   "id": "6db67ad8",
   "metadata": {},
   "source": [
    "### Train Models"
   ]
  },
  {
   "cell_type": "code",
   "execution_count": null,
   "id": "21fcf847-3a56-4014-8af0-90933f2494a8",
   "metadata": {
    "collapsed": true,
    "jupyter": {
     "outputs_hidden": true
    },
    "tags": []
   },
   "outputs": [],
   "source": [
    "import os\n",
    "\"\"\"\n",
    "for model in models :\n",
    "    model_config = {'learning_rate' : 0.001,\n",
    "                      \"epochs\" : 30,\n",
    "                      \"pretrained\":True,\n",
    "                      \"fine_tune\":False,\n",
    "                        \"model\":model,\n",
    "                     }\n",
    "    trainer = TrainMonoInputModel(model_config,data_config,pretrained=True,fine_tune=False)\n",
    "    save_file = f\"model_{model['model_name']}_mono_{trainer.side}_epochs_{trainer.epochs}_lr_{trainer.lr}_batch_size_{trainer.batch_size}_pretrained_{trainer.pretrained}_fine_tune_{trainer.fine_tune}.pth\"\n",
    "    if save_file not in os.listdir('/home/onyxia/work/pfe-deep-learning-maladies-plantes/mono_vue_torch/outputs'):\n",
    "        print(model['model_name'])\n",
    "        trainer.train_and_validate()\"\"\""
   ]
  },
  {
   "cell_type": "markdown",
   "id": "e3363ee0-3eaa-4884-82c9-0f13e39987a0",
   "metadata": {},
   "source": [
    "## Models Evaluation"
   ]
  },
  {
   "cell_type": "code",
   "execution_count": 7,
   "id": "135001aa-3621-4a84-96e7-f503ff66667b",
   "metadata": {
    "tags": []
   },
   "outputs": [],
   "source": [
    "import ptflops as ptf\n",
    "from sklearn.metrics import confusion_matrix, ConfusionMatrixDisplay, balanced_accuracy_score, accuracy_score, f1_score, precision_score, recall_score, roc_auc_score\n"
   ]
  },
  {
   "cell_type": "code",
   "execution_count": 8,
   "id": "850648d8-9380-4828-9dfe-153c6083be56",
   "metadata": {
    "tags": []
   },
   "outputs": [
    {
     "name": "stderr",
     "output_type": "stream",
     "text": [
      "100%|██████████| 91/91 [02:38<00:00,  1.74s/it]\n"
     ]
    }
   ],
   "source": [
    "y_obs = []\n",
    "for i, recto in tqdm(enumerate(trainer.testloader), total=len(trainer.testloader)):\n",
    "        image_recto, labels = recto\n",
    "        y_obs.append(labels.tolist())\n",
    "y_obs = [item for sublist in y_obs for item in sublist]"
   ]
  },
  {
   "cell_type": "code",
   "execution_count": 9,
   "id": "bca64f1c-d131-42eb-801c-afb23807d7a1",
   "metadata": {
    "tags": []
   },
   "outputs": [
    {
     "name": "stdout",
     "output_type": "stream",
     "text": [
      "[INFO]: Loading pre-trained weights\n",
      "[INFO]: Freezing hidden layers...\n",
      "[INFO]: Loading pre-trained weights\n",
      "[INFO]: Freezing hidden layers...\n"
     ]
    },
    {
     "data": {
      "application/vnd.jupyter.widget-view+json": {
       "model_id": "0e64b21c759c4c08a6c93a56937c8964",
       "version_major": 2,
       "version_minor": 0
      },
      "text/plain": [
       "  0%|          | 0/91 [00:00<?, ?it/s]"
      ]
     },
     "metadata": {},
     "output_type": "display_data"
    },
    {
     "name": "stdout",
     "output_type": "stream",
     "text": [
      "[INFO]: Loading pre-trained weights\n",
      "[INFO]: Freezing hidden layers...\n",
      "[INFO]: Loading pre-trained weights\n",
      "[INFO]: Freezing hidden layers...\n"
     ]
    },
    {
     "data": {
      "application/vnd.jupyter.widget-view+json": {
       "model_id": "1b2c384158dc49f385ec6fe68e198297",
       "version_major": 2,
       "version_minor": 0
      },
      "text/plain": [
       "  0%|          | 0/91 [00:00<?, ?it/s]"
      ]
     },
     "metadata": {},
     "output_type": "display_data"
    },
    {
     "name": "stdout",
     "output_type": "stream",
     "text": [
      "[INFO]: Loading pre-trained weights\n",
      "[INFO]: Freezing hidden layers...\n",
      "[INFO]: Loading pre-trained weights\n",
      "[INFO]: Freezing hidden layers...\n"
     ]
    },
    {
     "data": {
      "application/vnd.jupyter.widget-view+json": {
       "model_id": "a54dea7a093a48199e24212191d9eb7b",
       "version_major": 2,
       "version_minor": 0
      },
      "text/plain": [
       "  0%|          | 0/91 [00:00<?, ?it/s]"
      ]
     },
     "metadata": {},
     "output_type": "display_data"
    },
    {
     "name": "stdout",
     "output_type": "stream",
     "text": [
      "[INFO]: Loading pre-trained weights\n",
      "[INFO]: Freezing hidden layers...\n",
      "[INFO]: Loading pre-trained weights\n",
      "[INFO]: Freezing hidden layers...\n"
     ]
    },
    {
     "data": {
      "application/vnd.jupyter.widget-view+json": {
       "model_id": "5c212bb32b99447a8072e17938ecd95a",
       "version_major": 2,
       "version_minor": 0
      },
      "text/plain": [
       "  0%|          | 0/91 [00:00<?, ?it/s]"
      ]
     },
     "metadata": {},
     "output_type": "display_data"
    },
    {
     "name": "stdout",
     "output_type": "stream",
     "text": [
      "[INFO]: Loading pre-trained weights\n",
      "[INFO]: Freezing hidden layers...\n",
      "[INFO]: Loading pre-trained weights\n",
      "[INFO]: Freezing hidden layers...\n"
     ]
    },
    {
     "data": {
      "application/vnd.jupyter.widget-view+json": {
       "model_id": "38b8ebb0f5354fd0b9d7e0aa31f58557",
       "version_major": 2,
       "version_minor": 0
      },
      "text/plain": [
       "  0%|          | 0/91 [00:00<?, ?it/s]"
      ]
     },
     "metadata": {},
     "output_type": "display_data"
    }
   ],
   "source": [
    "import os\n",
    "#all_models_weight = [f for f in os.listdir('/home/onyxia/work/pfe-deep-learning-maladies-plantes/multi_vue_pytorch/outputs') if f.endswith(\".pth\")]\n",
    "lb=[\"Alt\",\"Big\",\"Mac\",\"Mil\",\"Myc\",\"Pse\",\"Syl\"]\n",
    "le = preprocessing.LabelEncoder()\n",
    "le.fit(lb)\n",
    "all_outputs = {}\n",
    "for modelV in models :\n",
    "    temp = {}\n",
    "    model_config = {'learning_rate' : 0.001,\n",
    "                  \"epochs\" : 30,\n",
    "                  \"pretrained\":True,\n",
    "                  \"fine_tune\":False,\n",
    "                    \"model\":deepcopy(modelV),\n",
    "                 }\n",
    "    trainer = TrainMonoInputModel(model_config,data_config)\n",
    "    model = MonoInputModel(modelV,pretrained=True, fine_tune=False, num_classes=7)\n",
    "    checkpoint = torch.load(f'{trainer.main_path}/outputs/model_{model.name}_mono_{trainer.side}_epochs_{trainer.epochs}_lr_{trainer.lr}_batch_size_{trainer.batch_size}_pretrained_{trainer.pretrained}_fine_tune_{trainer.fine_tune}.pth', map_location=\"cuda\")\n",
    "    #model.load_state_dict({cle: checkpoint['model_state_dict'][cle] for cle in checkpoint['model_state_dict'].keys() if not cle.startswith(\"modelRecto.\") and not cle.startswith(\"modelVerso.\")})\n",
    "    model.load_state_dict(checkpoint['model_state_dict'])\n",
    "    model = model.to(trainer.device)\n",
    "    trainer.model = model\n",
    "    preds, max_probs, all_probs = trainer.predict(trainer.testloader)\n",
    "    macs,_ = ptf.get_model_complexity_info(trainer.model, (3, 224, 224), as_strings=False,\n",
    "                                               print_per_layer_stat=False, verbose=False)\n",
    "    all_outputs[model.name] = {\n",
    "     \"pred\" : le.inverse_transform(preds).tolist(),\n",
    "     \"max_probs\" : max_probs,\n",
    "    \"all_probs\" : all_probs,\n",
    "     \"accuracy\" : accuracy_score(y_obs,preds),\n",
    "     \"balanced_accuracy\" : balanced_accuracy_score(y_obs,preds),\n",
    "     \"precision_micro\" : precision_score(y_obs,preds,average=\"micro\"),\n",
    "    \"recall_micro\" : recall_score(y_obs,preds,average=\"micro\"),\n",
    "    \"precision_micro\" : precision_score(y_obs,preds,average=\"micro\"),\n",
    "    \"recall_micro\" : recall_score(y_obs,preds,average=\"micro\"),\n",
    "    \"roc_auc_micro\" : roc_auc_score(y_obs,all_probs,average=\"micro\",multi_class='ovr'),\n",
    "    \"f1_score_micro\" : f1_score(y_obs,preds,average=\"micro\"),\n",
    "    \"precision_weighted\" : precision_score(y_obs,preds,average=\"weighted\"),\n",
    "    \"recall_weighted\" : recall_score(y_obs,preds,average=\"weighted\"),\n",
    "    \"precision_weighted\" : precision_score(y_obs,preds,average=\"weighted\"),\n",
    "    \"recall_weighted\" : recall_score(y_obs,preds,average=\"weighted\"),\n",
    "    \"roc_auc_weighted\" : roc_auc_score(y_obs,all_probs,average=\"weighted\",multi_class='ovo'),\n",
    "    \"f1_score_weighted\" : f1_score(y_obs,preds,average=\"weighted\"),\n",
    "     \"nb_trainable_parameters\" : sum(\n",
    "        p.numel() for p in trainer.model.parameters() if p.requires_grad),\n",
    "     \"nb_parameters\" : sum(\n",
    "        p.numel() for p in trainer.model.parameters()),\n",
    "    \"macs\" : macs\n",
    "    }"
   ]
  },
  {
   "cell_type": "code",
   "execution_count": 10,
   "id": "ce2be005-ef62-45a1-9b4f-6e7d0b236f7d",
   "metadata": {
    "tags": []
   },
   "outputs": [],
   "source": [
    "import json\n",
    "with open(\"outputs/test_results_mono_verso_full.json\",\"w\",encoding='utf-8') as f:\n",
    "    json.dump(all_outputs, f, ensure_ascii=False, indent=4)"
   ]
  },
  {
   "cell_type": "code",
   "execution_count": 11,
   "id": "27566023",
   "metadata": {
    "tags": []
   },
   "outputs": [],
   "source": [
    "with open(\"outputs/test_results_mono_verso_full.json\") as f:\n",
    "    all_outputs = json.load(f)"
   ]
  },
  {
   "cell_type": "markdown",
   "id": "eb6f6bcd",
   "metadata": {},
   "source": [
    "### Plot macs/accuracy/parameters"
   ]
  },
  {
   "cell_type": "code",
   "execution_count": 12,
   "id": "76fc03f5",
   "metadata": {
    "tags": []
   },
   "outputs": [
    {
     "data": {
      "image/png": "[encoded data removed]",
      "text/plain": [
       "<Figure size 1000x800 with 1 Axes>"
      ]
     },
     "metadata": {},
     "output_type": "display_data"
    }
   ],
   "source": [
    "import matplotlib.pyplot as plt\n",
    "from adjustText import adjust_text\n",
    "# Préparation des données pour le graphique\n",
    "names = []\n",
    "macs = []\n",
    "accuracy = []\n",
    "params = []\n",
    "max_params = max(values['nb_parameters'] for values in all_outputs.values())\n",
    "for name, values in all_outputs.items():\n",
    "    names.append(name)\n",
    "    macs.append(values['macs'] / 1e9)  # Convert MACs to GigaMACs\n",
    "    accuracy.append(values['accuracy'])\n",
    "    params.append((values['nb_parameters'] / max_params) * 1000)\n",
    "\n",
    "fig, ax = plt.subplots(figsize=(10, 8))\n",
    "scatter = ax.scatter(macs, accuracy, s=params, alpha=0.5, c='C0')\n",
    "\n",
    "plt.xlabel('MACs (G)')\n",
    "plt.ylabel('Accuracy')\n",
    "\n",
    "# Format x-axis tick labels as scientific notation with \"G\" unit\n",
    "ax.ticklabel_format(axis='x', style='sci', scilimits=(0, 0))\n",
    "ax.xaxis.offsetText.set_visible(False)\n",
    "ax.xaxis.set_major_formatter('{x:.1f}G')\n",
    "sizes = [10**7, 20*10**6, 50*10**6, 70*10**6]  # Define different sizes for the circles\n",
    "labels = [f'{s/(10**6):.0f}M' for s in sizes]  # Define labels for the legend\n",
    "handles = [plt.scatter([], [], s=(s/max_params)*1000, alpha=0.5,c=\"C0\") for s in sizes]  # Create dummy scatter plots for the legend\n",
    "legend = plt.legend(handles, labels, title='Number of parameters (M)', scatterpoints=1, labelspacing=1.9, loc='lower right',ncol=2,borderpad=1.2)\n",
    "plt.setp(legend.get_title(), fontsize='medium')\n",
    "# Ajout des annotations\n",
    "texts = []\n",
    "for x, y, s in zip(macs, accuracy, names):\n",
    "    texts.append(plt.text(x, y, s))\n",
    "adjust_text(texts, only_move={'points':'y', 'texts':'y'}, arrowprops=dict(arrowstyle=\"->\", color='r', lw=0.5))\n",
    "plt.show()\n",
    "fig.savefig(\"outputs/model_performance_plot_acc_mac.pdf\",format=\"pdf\")"
   ]
  },
  {
   "cell_type": "markdown",
   "id": "c9bb547d",
   "metadata": {},
   "source": [
    "### Table with results"
   ]
  },
  {
   "cell_type": "code",
   "execution_count": 13,
   "id": "2dce390c",
   "metadata": {
    "tags": []
   },
   "outputs": [
    {
     "data": {
      "text/html": [
       "<div>\n",
       "<style scoped>\n",
       "    .dataframe tbody tr th:only-of-type {\n",
       "        vertical-align: middle;\n",
       "    }\n",
       "\n",
       "    .dataframe tbody tr th {\n",
       "        vertical-align: top;\n",
       "    }\n",
       "\n",
       "    .dataframe thead th {\n",
       "        text-align: right;\n",
       "    }\n",
       "</style>\n",
       "<table border=\"1\" class=\"dataframe\">\n",
       "  <thead>\n",
       "    <tr style=\"text-align: right;\">\n",
       "      <th></th>\n",
       "      <th>accuracy</th>\n",
       "      <th>balanced accuracy</th>\n",
       "      <th>precision micro</th>\n",
       "      <th>precision weighted</th>\n",
       "      <th>recall micro</th>\n",
       "      <th>f1-score micro</th>\n",
       "      <th>f1-score weighted</th>\n",
       "    </tr>\n",
       "  </thead>\n",
       "  <tbody>\n",
       "    <tr>\n",
       "      <th>DenseNet121</th>\n",
       "      <td>0.920277</td>\n",
       "      <td>0.915080</td>\n",
       "      <td>0.920277</td>\n",
       "      <td>0.920429</td>\n",
       "      <td>0.920277</td>\n",
       "      <td>0.920277</td>\n",
       "      <td>0.919459</td>\n",
       "    </tr>\n",
       "    <tr>\n",
       "      <th>ResNet152</th>\n",
       "      <td>0.916464</td>\n",
       "      <td>0.911198</td>\n",
       "      <td>0.916464</td>\n",
       "      <td>0.917087</td>\n",
       "      <td>0.916464</td>\n",
       "      <td>0.916464</td>\n",
       "      <td>0.916078</td>\n",
       "    </tr>\n",
       "    <tr>\n",
       "      <th>ResNet50</th>\n",
       "      <td>0.914731</td>\n",
       "      <td>0.908497</td>\n",
       "      <td>0.914731</td>\n",
       "      <td>0.916755</td>\n",
       "      <td>0.914731</td>\n",
       "      <td>0.914731</td>\n",
       "      <td>0.914549</td>\n",
       "    </tr>\n",
       "    <tr>\n",
       "      <th>VGG</th>\n",
       "      <td>0.880416</td>\n",
       "      <td>0.873513</td>\n",
       "      <td>0.880416</td>\n",
       "      <td>0.881986</td>\n",
       "      <td>0.880416</td>\n",
       "      <td>0.880416</td>\n",
       "      <td>0.880037</td>\n",
       "    </tr>\n",
       "    <tr>\n",
       "      <th>EfficientNet</th>\n",
       "      <td>0.875910</td>\n",
       "      <td>0.869203</td>\n",
       "      <td>0.875910</td>\n",
       "      <td>0.874803</td>\n",
       "      <td>0.875910</td>\n",
       "      <td>0.875910</td>\n",
       "      <td>0.874337</td>\n",
       "    </tr>\n",
       "  </tbody>\n",
       "</table>\n",
       "</div>"
      ],
      "text/plain": [
       "              accuracy  balanced accuracy  precision micro  \\\n",
       "DenseNet121   0.920277           0.915080         0.920277   \n",
       "ResNet152     0.916464           0.911198         0.916464   \n",
       "ResNet50      0.914731           0.908497         0.914731   \n",
       "VGG           0.880416           0.873513         0.880416   \n",
       "EfficientNet  0.875910           0.869203         0.875910   \n",
       "\n",
       "              precision weighted  recall micro  f1-score micro  \\\n",
       "DenseNet121             0.920429      0.920277        0.920277   \n",
       "ResNet152               0.917087      0.916464        0.916464   \n",
       "ResNet50                0.916755      0.914731        0.914731   \n",
       "VGG                     0.881986      0.880416        0.880416   \n",
       "EfficientNet            0.874803      0.875910        0.875910   \n",
       "\n",
       "              f1-score weighted  \n",
       "DenseNet121            0.919459  \n",
       "ResNet152              0.916078  \n",
       "ResNet50               0.914549  \n",
       "VGG                    0.880037  \n",
       "EfficientNet           0.874337  "
      ]
     },
     "execution_count": 13,
     "metadata": {},
     "output_type": "execute_result"
    }
   ],
   "source": [
    "dict_res = {key1: { key2 : all_outputs[key1][key2] for key2 in [\"accuracy\",\"balanced_accuracy\",\"precision_micro\",\"precision_weighted\",\"recall_micro\",\"f1_score_micro\",\"f1_score_weighted\"]} for key1 in all_outputs.keys() }\n",
    "pd_res = pd.DataFrame(dict_res).transpose()\n",
    "pd_res.columns = [\"accuracy\",\"balanced accuracy\",\"precision micro\",\"precision weighted\",\"recall micro\",\"f1-score micro\",\"f1-score weighted\"]\n",
    "pd_res.sort_values(by=\"accuracy\",ascending=False)"
   ]
  },
  {
   "cell_type": "markdown",
   "id": "e6e4200c",
   "metadata": {},
   "source": [
    "#### Matrice de confusion pour le meilleur modèle"
   ]
  },
  {
   "cell_type": "code",
   "execution_count": 14,
   "id": "dc841aa6",
   "metadata": {
    "tags": []
   },
   "outputs": [
    {
     "data": {
      "image/png": "[encoded data removed]",
      "text/plain": [
       "<Figure size 640x480 with 2 Axes>"
      ]
     },
     "metadata": {},
     "output_type": "display_data"
    },
    {
     "name": "stdout",
     "output_type": "stream",
     "text": [
      "Accuracy : 0.9202772963604853\n",
      "Balanced Accuracy : 0.915080248015487\n"
     ]
    }
   ],
   "source": [
    "y_pred=all_outputs['DenseNet121']['pred']\n",
    "#y_obs=real_labels\n",
    "# let's use sklearn\n",
    "lb=[\"Alt\",\"Big\",\"Mac\",\"Mil\",\"Myc\",\"Pse\",\"Syl\"]\n",
    "le = preprocessing.LabelEncoder()\n",
    "le.fit(lb)\n",
    "#y_pred=le.inverse_transform(y_pred)\n",
    "y_obs=le.inverse_transform(y_obs)\n",
    "\n",
    "disp = ConfusionMatrixDisplay(confusion_matrix=confusion_matrix(y_obs,\n",
    "y_pred,labels=lb),display_labels=lb)\n",
    "disp.plot()\n",
    "plt.show()\n",
    "print(\"Accuracy : \"+str(accuracy_score(y_obs, y_pred)))\n",
    "print(\"Balanced Accuracy : \"+str(balanced_accuracy_score(y_obs, y_pred)))"
   ]
  }
 ],
 "metadata": {
  "kernelspec": {
   "display_name": "Python 3 (ipykernel)",
   "language": "python",
   "name": "python3"
  },
  "language_info": {
   "codemirror_mode": {
    "name": "ipython",
    "version": 3
   },
   "file_extension": ".py",
   "mimetype": "text/x-python",
   "name": "python",
   "nbconvert_exporter": "python",
   "pygments_lexer": "ipython3",
   "version": "3.10.9"
  },
  "vscode": {
   "interpreter": {
    "hash": "3fa046f995eb80ac40c0869a1f9df46519f4ada8b8c395ef25dd1aa1a1a2fc63"
   }
  }
 },
 "nbformat": 4,
 "nbformat_minor": 5
}
