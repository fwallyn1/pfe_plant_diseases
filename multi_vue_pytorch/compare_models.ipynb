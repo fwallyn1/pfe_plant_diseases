{
 "cells": [
  {
   "cell_type": "code",
   "execution_count": 1,
   "id": "ffd1b694-5560-436a-87bd-c9b23cde7e0d",
   "metadata": {
    "tags": []
   },
   "outputs": [],
   "source": [
    "%load_ext autoreload\n",
    "%autoreload 2"
   ]
  },
  {
   "cell_type": "markdown",
   "id": "38ea9b84",
   "metadata": {},
   "source": [
    "# Comapare all the models on test set"
   ]
  },
  {
   "cell_type": "code",
   "execution_count": 2,
   "id": "37066516-c52d-43ad-875a-860dd80b8db2",
   "metadata": {
    "tags": []
   },
   "outputs": [],
   "source": [
    "from train_multiview_network import TrainMultiInputModel\n",
    "from multi_view_classification_network import MultiInputModel\n",
    "from config import get_config\n",
    "import torch\n",
    "import torchvision\n",
    "from torchvision.models.feature_extraction import create_feature_extractor\n",
    "from tqdm import tqdm\n",
    "from torchvision import datasets\n",
    "from sklearn import preprocessing\n",
    "from sklearn.metrics import confusion_matrix, ConfusionMatrixDisplay, balanced_accuracy_score, accuracy_score, f1_score, precision_score, recall_score, roc_auc_score\n",
    "import matplotlib\n",
    "import matplotlib.pyplot as plt\n",
    "import numpy as np\n",
    "import pandas as pd\n",
    "import ptflops as ptf\n",
    "import os\n",
    "#from fvcore.nn import FlopCountAnalysis, flop_count\n",
    "from copy import copy, deepcopy\n",
    "import json\n"
   ]
  },
  {
   "cell_type": "code",
   "execution_count": 3,
   "id": "c8764e32-631f-4b34-9af8-13de8aabf039",
   "metadata": {
    "tags": []
   },
   "outputs": [],
   "source": [
    "class Identity(torch.nn.Module):\n",
    "    def __init__(self):\n",
    "        super(Identity, self).__init__()\n",
    "        \n",
    "    def forward(self, x):\n",
    "        return x\n",
    "\n",
    "def modified_resnet(model):\n",
    "    model.fc = Identity()\n",
    "    return model\n",
    "\n",
    "def modified_densenet(model):\n",
    "    model.classifier = Identity()\n",
    "    return model "
   ]
  },
  {
   "cell_type": "code",
   "execution_count": 4,
   "id": "3817f4cc-789f-4705-a901-087eb11f5374",
   "metadata": {
    "tags": []
   },
   "outputs": [],
   "source": [
    "models = [{'model':torchvision.models.efficientnet_b5(weights='IMAGENET1K_V1'),\n",
    "                                      'avgpool':torch.nn.AdaptiveAvgPool2d(1),\n",
    "                                      'last_layer_size':2048,\n",
    "                                      'model_name' : 'EfficientNet',\n",
    "                                       'features' : None\n",
    "          },\n",
    "          {'model':torchvision.models.densenet121(weights='IMAGENET1K_V1'),\n",
    "                                  'avgpool':None,\n",
    "                                  'last_layer_size':1024,\n",
    "                                  'model_name' : 'DenseNet121',\n",
    "                                   'features' : modified_densenet(torchvision.models.densenet121(weights='IMAGENET1K_V1')),\n",
    "            },\n",
    "          {'model':torchvision.models.resnet50(weights='IMAGENET1K_V1'),\n",
    "                                  'avgpool':None,\n",
    "                                  'last_layer_size':2048,\n",
    "                                  'model_name' : 'ResNet50',\n",
    "                                   'features' : modified_resnet(torchvision.models.resnet50(weights='IMAGENET1K_V1'))\n",
    "            },\n",
    "          {'model':torchvision.models.vgg16(weights='IMAGENET1K_V1'),\n",
    "                                  'avgpool':torch.nn.AdaptiveAvgPool2d((1,1)),\n",
    "                                  'last_layer_size':512,\n",
    "                                  'model_name' : 'VGG',\n",
    "                                   'features' : None\n",
    "            },\n",
    "          \n",
    "          {'model':torchvision.models.resnet152(weights='IMAGENET1K_V1'),\n",
    "                                  'avgpool':None,\n",
    "                                  'last_layer_size':2048,\n",
    "                                  'model_name' : 'ResNet152',\n",
    "                                   'features' : modified_resnet(torchvision.models.resnet152(weights='IMAGENET1K_V1'))\n",
    "            }\n",
    "          \n",
    "]"
   ]
  },
  {
   "cell_type": "code",
   "execution_count": 5,
   "id": "f13cec49-6ebe-42f1-91f7-500adac61a8c",
   "metadata": {
    "tags": []
   },
   "outputs": [],
   "source": [
    "_, data_config = get_config()"
   ]
  },
  {
   "cell_type": "code",
   "execution_count": 6,
   "id": "56f214ec-67e2-4fb6-a1ef-ac3a277fd4b4",
   "metadata": {
    "tags": []
   },
   "outputs": [],
   "source": [
    "model_config = {'learning_rate' : 0.001,\n",
    "                      \"epochs\" : 30,\n",
    "                      \"pretrained\":True,\n",
    "                      \"fine_tune\":False,\n",
    "                        \"model_recto\":{'model':torchvision.models.resnet50(weights='IMAGENET1K_V1'),\n",
    "                                  'avgpool':None,\n",
    "                                  'last_layer_size':2048,\n",
    "                                  'model_name' : 'ResNet50',\n",
    "                                   'features' : modified_resnet(torchvision.models.resnet50(weights='IMAGENET1K_V1'))\n",
    "            },\n",
    "                        \"model_verso\":{'model':torchvision.models.resnet50(weights='IMAGENET1K_V1'),\n",
    "                                  'avgpool':None,\n",
    "                                  'last_layer_size':2048,\n",
    "                                  'model_name' : 'ResNet50',\n",
    "                                   'features' : modified_resnet(torchvision.models.resnet50(weights='IMAGENET1K_V1'))\n",
    "            },\n",
    "                     }"
   ]
  },
  {
   "cell_type": "code",
   "execution_count": 7,
   "id": "91437b86-3739-49bb-83ae-ae53d9f00273",
   "metadata": {
    "tags": []
   },
   "outputs": [
    {
     "name": "stdout",
     "output_type": "stream",
     "text": [
      "[INFO]: Loading pre-trained weights\n",
      "[INFO]: Freezing hidden layers...\n"
     ]
    }
   ],
   "source": [
    "trainer = TrainMultiInputModel(model_config,data_config)"
   ]
  },
  {
   "cell_type": "code",
   "execution_count": 34,
   "id": "9b05b280",
   "metadata": {},
   "outputs": [
    {
     "data": {
      "text/plain": [
       "58172487"
      ]
     },
     "execution_count": 34,
     "metadata": {},
     "output_type": "execute_result"
    }
   ],
   "source": [
    "sum( p.numel() for p in trainer.model.parameters())"
   ]
  },
  {
   "cell_type": "code",
   "execution_count": 22,
   "id": "698604f3",
   "metadata": {},
   "outputs": [
    {
     "data": {
      "text/plain": [
       "23536711"
      ]
     },
     "execution_count": 22,
     "metadata": {},
     "output_type": "execute_result"
    }
   ],
   "source": [
    "all_outputs[\"ResNet50_ResNet50\"]['nb_parameters']"
   ]
  },
  {
   "cell_type": "code",
   "execution_count": 45,
   "id": "eed20ca8",
   "metadata": {},
   "outputs": [
    {
     "name": "stderr",
     "output_type": "stream",
     "text": [
      "100%|██████████| 73/73 [00:25<00:00,  2.83it/s]"
     ]
    },
    {
     "name": "stdout",
     "output_type": "stream",
     "text": [
      "Counter({0: 395, 3: 357, 6: 356, 5: 315, 4: 309, 2: 309, 1: 266})\n",
      "2307\n",
      "[13.39, 13.65, 15.43, 13.39, 17.12, 15.47, 11.53]\n"
     ]
    },
    {
     "name": "stderr",
     "output_type": "stream",
     "text": [
      "\n"
     ]
    }
   ],
   "source": [
    "y_train = []\n",
    "for i, recto in tqdm(enumerate(trainer.trainRectoloader), total=len(trainer.trainVersoloader)):\n",
    "        _, labels = recto\n",
    "        y_train.append(labels.tolist())\n",
    "y_train = [item for sublist in y_train for item in sublist]\n",
    "from collections import Counter\n",
    "print(Counter(y_train))\n",
    "print(len(y_train))\n",
    "print(list(map(lambda x : round(x/len(y_train)*100,2),Counter(y_train).values())))"
   ]
  },
  {
   "cell_type": "code",
   "execution_count": 44,
   "id": "0f6f4d48",
   "metadata": {},
   "outputs": [
    {
     "name": "stderr",
     "output_type": "stream",
     "text": [
      "100%|██████████| 19/19 [00:06<00:00,  2.88it/s]"
     ]
    },
    {
     "name": "stdout",
     "output_type": "stream",
     "text": [
      "Counter({0: 99, 3: 90, 6: 89, 5: 79, 4: 77, 2: 77, 1: 66})\n",
      "577\n",
      "[13.69, 17.16, 13.34, 15.6, 11.44, 13.34, 15.42]\n"
     ]
    },
    {
     "name": "stderr",
     "output_type": "stream",
     "text": [
      "\n"
     ]
    }
   ],
   "source": [
    "y_valid = []\n",
    "for i, recto in tqdm(enumerate(trainer.validRectoloader), total=len(trainer.validRectoloader)):\n",
    "        _, labels = recto\n",
    "        y_valid.append(labels.tolist())\n",
    "y_valid = [item for sublist in y_valid for item in sublist]\n",
    "print(Counter(y_valid))\n",
    "print(len(y_valid))\n",
    "print(list(map(lambda x : round(x/len(y_valid)*100,2),Counter(y_valid).values())))"
   ]
  },
  {
   "cell_type": "code",
   "execution_count": 8,
   "id": "c0693cf3-d0d6-412e-8d69-ccda78664ca0",
   "metadata": {
    "tags": []
   },
   "outputs": [],
   "source": [
    "def input_constructor(input_res):\n",
    "            recto = torch.ones(()).new_empty((1, *input_res),\n",
    "                                                     device=trainer.device) \n",
    "            verso = torch.ones(()).new_empty((1, *input_res),\n",
    "                                                     device=trainer.device)\n",
    "            return {\"two_views\": [recto,verso]}"
   ]
  },
  {
   "cell_type": "code",
   "execution_count": 9,
   "id": "50a3e1d0-ca95-44f6-9e67-9b3de2d0b815",
   "metadata": {
    "tags": []
   },
   "outputs": [
    {
     "name": "stderr",
     "output_type": "stream",
     "text": [
      "100%|██████████| 91/91 [00:30<00:00,  2.94it/s]"
     ]
    },
    {
     "name": "stdout",
     "output_type": "stream",
     "text": [
      "2885\n"
     ]
    },
    {
     "name": "stderr",
     "output_type": "stream",
     "text": [
      "\n"
     ]
    }
   ],
   "source": [
    "y_obs = []\n",
    "for i, recto in tqdm(enumerate(trainer.testRectoloader), total=len(trainer.testVersoloader)):\n",
    "        _, labels = recto\n",
    "        y_obs.append(labels.tolist())\n",
    "y_obs = [item for sublist in y_obs for item in sublist]\n",
    "#print(Counter(y_obs))\n",
    "print(len(y_obs))\n",
    "#print(list(map(lambda x : round(x/len(y_obs)*100,1),Counter(y_obs).values())))"
   ]
  },
  {
   "cell_type": "code",
   "execution_count": 10,
   "id": "eb087474",
   "metadata": {
    "tags": []
   },
   "outputs": [],
   "source": [
    "try :\n",
    "    with open(\"outputs/test_results_full_evalmode.json\") as f:\n",
    "        all_outputs = json.load(f)\n",
    "except :\n",
    "    all_outputs = {}"
   ]
  },
  {
   "cell_type": "code",
   "execution_count": null,
   "id": "e3951429",
   "metadata": {},
   "outputs": [],
   "source": []
  },
  {
   "cell_type": "code",
   "execution_count": 62,
   "id": "02dde0d1",
   "metadata": {},
   "outputs": [
    {
     "data": {
      "text/plain": [
       "dict_keys(['EfficientNet_EfficientNet', 'EfficientNet_DenseNet121', 'EfficientNet_ResNet50', 'EfficientNet_VGG', 'EfficientNet_ResNet152', 'DenseNet121_EfficientNet', 'DenseNet121_DenseNet121', 'DenseNet121_ResNet50', 'DenseNet121_VGG', 'DenseNet121_ResNet152', 'ResNet50_EfficientNet', 'ResNet50_DenseNet121', 'ResNet50_ResNet50', 'ResNet50_VGG', 'ResNet50_ResNet152', 'VGG_EfficientNet', 'VGG_DenseNet121', 'VGG_ResNet50', 'VGG_VGG', 'VGG_ResNet152', 'ResNet152_EfficientNet', 'ResNet152_DenseNet121', 'ResNet152_ResNet50', 'ResNet152_VGG', 'ResNet152_ResNet152'])"
      ]
     },
     "execution_count": 62,
     "metadata": {},
     "output_type": "execute_result"
    }
   ],
   "source": [
    "all_outputs.keys()"
   ]
  },
  {
   "cell_type": "code",
   "execution_count": 13,
   "id": "d0427076",
   "metadata": {},
   "outputs": [
    {
     "name": "stdout",
     "output_type": "stream",
     "text": [
      "STEP 1/25\n",
      "[INFO]: Loading pre-trained weights\n",
      "[INFO]: Freezing hidden layers...\n",
      "[INFO]: Loading pre-trained weights\n",
      "[INFO]: Freezing hidden layers...\n",
      "28369463\n",
      "STEP 2/25\n",
      "[INFO]: Loading pre-trained weights\n",
      "[INFO]: Freezing hidden layers...\n",
      "[INFO]: Loading pre-trained weights\n",
      "[INFO]: Freezing hidden layers...\n",
      "35316151\n",
      "STEP 3/25\n",
      "[INFO]: Loading pre-trained weights\n",
      "[INFO]: Freezing hidden layers...\n",
      "[INFO]: Loading pre-trained weights\n",
      "[INFO]: Freezing hidden layers...\n",
      "51877495\n",
      "STEP 4/25\n",
      "[INFO]: Loading pre-trained weights\n",
      "[INFO]: Freezing hidden layers...\n",
      "[INFO]: Loading pre-trained weights\n",
      "[INFO]: Freezing hidden layers...\n",
      "43073399\n",
      "STEP 5/25\n",
      "[INFO]: Loading pre-trained weights\n",
      "[INFO]: Freezing hidden layers...\n",
      "[INFO]: Loading pre-trained weights\n",
      "[INFO]: Freezing hidden layers...\n",
      "86513271\n",
      "STEP 6/25\n",
      "[INFO]: Loading pre-trained weights\n",
      "[INFO]: Freezing hidden layers...\n",
      "[INFO]: Loading pre-trained weights\n",
      "[INFO]: Freezing hidden layers...\n",
      "35316151\n",
      "STEP 7/25\n",
      "[INFO]: Loading pre-trained weights\n",
      "[INFO]: Freezing hidden layers...\n",
      "[INFO]: Loading pre-trained weights\n",
      "[INFO]: Freezing hidden layers...\n",
      "6968199\n",
      "STEP 8/25\n",
      "[INFO]: Loading pre-trained weights\n",
      "[INFO]: Freezing hidden layers...\n",
      "[INFO]: Loading pre-trained weights\n",
      "[INFO]: Freezing hidden layers...\n",
      "30483399\n",
      "STEP 9/25\n",
      "[INFO]: Loading pre-trained weights\n",
      "[INFO]: Freezing hidden layers...\n",
      "[INFO]: Loading pre-trained weights\n",
      "[INFO]: Freezing hidden layers...\n",
      "21679303\n",
      "STEP 10/25\n",
      "[INFO]: Loading pre-trained weights\n",
      "[INFO]: Freezing hidden layers...\n",
      "[INFO]: Loading pre-trained weights\n",
      "[INFO]: Freezing hidden layers...\n",
      "65119175\n",
      "STEP 11/25\n",
      "[INFO]: Loading pre-trained weights\n",
      "[INFO]: Freezing hidden layers...\n",
      "[INFO]: Loading pre-trained weights\n",
      "[INFO]: Freezing hidden layers...\n",
      "51877495\n",
      "STEP 12/25\n",
      "[INFO]: Loading pre-trained weights\n",
      "[INFO]: Freezing hidden layers...\n",
      "[INFO]: Loading pre-trained weights\n",
      "[INFO]: Freezing hidden layers...\n",
      "30483399\n",
      "STEP 13/25\n",
      "[INFO]: Loading pre-trained weights\n",
      "[INFO]: Freezing hidden layers...\n",
      "[INFO]: Loading pre-trained weights\n",
      "[INFO]: Freezing hidden layers...\n",
      "23536711\n",
      "STEP 14/25\n",
      "[INFO]: Loading pre-trained weights\n",
      "[INFO]: Freezing hidden layers...\n",
      "[INFO]: Loading pre-trained weights\n",
      "[INFO]: Freezing hidden layers...\n",
      "38240647\n",
      "STEP 15/25\n",
      "[INFO]: Loading pre-trained weights\n",
      "[INFO]: Freezing hidden layers...\n",
      "[INFO]: Loading pre-trained weights\n",
      "[INFO]: Freezing hidden layers...\n",
      "81680519\n",
      "STEP 16/25\n",
      "[INFO]: Loading pre-trained weights\n",
      "[INFO]: Freezing hidden layers...\n",
      "[INFO]: Loading pre-trained weights\n",
      "[INFO]: Freezing hidden layers...\n",
      "43073399\n",
      "STEP 17/25\n",
      "[INFO]: Loading pre-trained weights\n",
      "[INFO]: Freezing hidden layers...\n",
      "[INFO]: Loading pre-trained weights\n",
      "[INFO]: Freezing hidden layers...\n",
      "21679303\n",
      "STEP 18/25\n",
      "[INFO]: Loading pre-trained weights\n",
      "[INFO]: Freezing hidden layers...\n",
      "[INFO]: Loading pre-trained weights\n",
      "[INFO]: Freezing hidden layers...\n",
      "38240647\n",
      "STEP 19/25\n",
      "[INFO]: Loading pre-trained weights\n",
      "[INFO]: Freezing hidden layers...\n",
      "[INFO]: Loading pre-trained weights\n",
      "[INFO]: Freezing hidden layers...\n",
      "14721863\n",
      "STEP 20/25\n",
      "[INFO]: Loading pre-trained weights\n",
      "[INFO]: Freezing hidden layers...\n",
      "[INFO]: Loading pre-trained weights\n",
      "[INFO]: Freezing hidden layers...\n",
      "72876423\n",
      "STEP 21/25\n",
      "[INFO]: Loading pre-trained weights\n",
      "[INFO]: Freezing hidden layers...\n",
      "[INFO]: Loading pre-trained weights\n",
      "[INFO]: Freezing hidden layers...\n",
      "86513271\n",
      "STEP 22/25\n",
      "[INFO]: Loading pre-trained weights\n",
      "[INFO]: Freezing hidden layers...\n",
      "[INFO]: Loading pre-trained weights\n",
      "[INFO]: Freezing hidden layers...\n",
      "65119175\n",
      "STEP 23/25\n",
      "[INFO]: Loading pre-trained weights\n",
      "[INFO]: Freezing hidden layers...\n",
      "[INFO]: Loading pre-trained weights\n",
      "[INFO]: Freezing hidden layers...\n",
      "81680519\n",
      "STEP 24/25\n",
      "[INFO]: Loading pre-trained weights\n",
      "[INFO]: Freezing hidden layers...\n",
      "[INFO]: Loading pre-trained weights\n",
      "[INFO]: Freezing hidden layers...\n",
      "72876423\n",
      "STEP 25/25\n",
      "[INFO]: Loading pre-trained weights\n",
      "[INFO]: Freezing hidden layers...\n",
      "[INFO]: Loading pre-trained weights\n",
      "[INFO]: Freezing hidden layers...\n",
      "58172487\n"
     ]
    }
   ],
   "source": [
    "step = 0\n",
    "for modelR in models :\n",
    "   for modelV in models :\n",
    "      step += 1 \n",
    "      print(f\"STEP {step}/25\")\n",
    "      temp = {}\n",
    "      model_config = {'learning_rate' : 0.001,\n",
    "                     \"epochs\" : 30,\n",
    "                     \"pretrained\":True,\n",
    "                     \"fine_tune\":False,\n",
    "                     \"model_recto\":modelR,\n",
    "                     \"model_verso\":modelV,\n",
    "                  }\n",
    "      torch.cuda.empty_cache()\n",
    "      trainer = TrainMultiInputModel(model_config,data_config)\n",
    "      model_recto = modelR\n",
    "      model_verso =   modelV\n",
    "      model = MultiInputModel(model_recto,model_verso,pretrained=True, fine_tune=False, num_classes=7)\n",
    "      #checkpoint = torch.load(f'{trainer.main_path}/outputs/model_recto_{modelR[\"model_name\"]}_model_verso_{modelV[\"model_name\"]}_epochs_30_lr_0.001_batch_size_32_pretrained_True_fine_tune_False.pth', map_location=\"cuda\")\n",
    "      #model.load_state_dict(checkpoint['model_state_dict'])\n",
    "      #model = model.to(trainer.device)\n",
    "      print(sum(\n",
    "         p.numel() for p in model.parameters()))  "
   ]
  },
  {
   "cell_type": "code",
   "execution_count": 29,
   "id": "3ec12d34",
   "metadata": {
    "tags": []
   },
   "outputs": [
    {
     "data": {
      "text/plain": [
       "True"
      ]
     },
     "execution_count": 29,
     "metadata": {},
     "output_type": "execute_result"
    }
   ],
   "source": [
    "\"EfficientNet_EfficientNet\" in all_outputs.keys()"
   ]
  },
  {
   "cell_type": "code",
   "execution_count": 11,
   "id": "e8487cec-d193-4c63-a9ef-dbfbdb68ebe6",
   "metadata": {
    "tags": []
   },
   "outputs": [
    {
     "name": "stdout",
     "output_type": "stream",
     "text": [
      "EfficientNet_VGG\n",
      "STEP 4/25\n",
      "[INFO]: Loading pre-trained weights\n",
      "[INFO]: Freezing hidden layers...\n",
      "[INFO]: Loading pre-trained weights\n",
      "[INFO]: Freezing hidden layers...\n",
      "EfficientNet_ResNet152\n",
      "STEP 5/25\n",
      "[INFO]: Loading pre-trained weights\n",
      "[INFO]: Freezing hidden layers...\n",
      "[INFO]: Loading pre-trained weights\n",
      "[INFO]: Freezing hidden layers...\n"
     ]
    },
    {
     "data": {
      "application/vnd.jupyter.widget-view+json": {
       "model_id": "42886f2e16b64f5095fc962a41f25e64",
       "version_major": 2,
       "version_minor": 0
      },
      "text/plain": [
       "  0%|          | 0/91 [00:00<?, ?it/s]"
      ]
     },
     "metadata": {},
     "output_type": "display_data"
    },
    {
     "name": "stdout",
     "output_type": "stream",
     "text": [
      "Warning! No positional inputs found for a module, assuming batch size is 1.\n",
      "ResNet50_EfficientNet\n",
      "STEP 11/25\n",
      "[INFO]: Loading pre-trained weights\n",
      "[INFO]: Freezing hidden layers...\n",
      "[INFO]: Loading pre-trained weights\n",
      "[INFO]: Freezing hidden layers...\n"
     ]
    },
    {
     "data": {
      "application/vnd.jupyter.widget-view+json": {
       "model_id": "15017b6387b74fffa812db43faf8351a",
       "version_major": 2,
       "version_minor": 0
      },
      "text/plain": [
       "  0%|          | 0/91 [00:00<?, ?it/s]"
      ]
     },
     "metadata": {},
     "output_type": "display_data"
    },
    {
     "name": "stdout",
     "output_type": "stream",
     "text": [
      "Warning! No positional inputs found for a module, assuming batch size is 1.\n",
      "ResNet50_VGG\n",
      "STEP 14/25\n",
      "[INFO]: Loading pre-trained weights\n",
      "[INFO]: Freezing hidden layers...\n",
      "[INFO]: Loading pre-trained weights\n",
      "[INFO]: Freezing hidden layers...\n"
     ]
    },
    {
     "data": {
      "application/vnd.jupyter.widget-view+json": {
       "model_id": "1ecf24ac652a4feba45e2b96a87dbee5",
       "version_major": 2,
       "version_minor": 0
      },
      "text/plain": [
       "  0%|          | 0/91 [00:00<?, ?it/s]"
      ]
     },
     "metadata": {},
     "output_type": "display_data"
    },
    {
     "name": "stdout",
     "output_type": "stream",
     "text": [
      "Warning! No positional inputs found for a module, assuming batch size is 1.\n",
      "ResNet50_ResNet152\n",
      "STEP 15/25\n",
      "[INFO]: Loading pre-trained weights\n",
      "[INFO]: Freezing hidden layers...\n",
      "[INFO]: Loading pre-trained weights\n",
      "[INFO]: Freezing hidden layers...\n"
     ]
    },
    {
     "data": {
      "application/vnd.jupyter.widget-view+json": {
       "model_id": "6b33f8a8524145168c09cd236d241979",
       "version_major": 2,
       "version_minor": 0
      },
      "text/plain": [
       "  0%|          | 0/91 [00:00<?, ?it/s]"
      ]
     },
     "metadata": {},
     "output_type": "display_data"
    },
    {
     "name": "stdout",
     "output_type": "stream",
     "text": [
      "Warning! No positional inputs found for a module, assuming batch size is 1.\n",
      "VGG_EfficientNet\n",
      "STEP 16/25\n",
      "[INFO]: Loading pre-trained weights\n",
      "[INFO]: Freezing hidden layers...\n",
      "[INFO]: Loading pre-trained weights\n",
      "[INFO]: Freezing hidden layers...\n"
     ]
    },
    {
     "data": {
      "application/vnd.jupyter.widget-view+json": {
       "model_id": "197b08f8b9064d1195eff0bba3d0a152",
       "version_major": 2,
       "version_minor": 0
      },
      "text/plain": [
       "  0%|          | 0/91 [00:00<?, ?it/s]"
      ]
     },
     "metadata": {},
     "output_type": "display_data"
    },
    {
     "name": "stdout",
     "output_type": "stream",
     "text": [
      "Warning! No positional inputs found for a module, assuming batch size is 1.\n",
      "VGG_DenseNet121\n",
      "STEP 17/25\n",
      "[INFO]: Loading pre-trained weights\n",
      "[INFO]: Freezing hidden layers...\n",
      "[INFO]: Loading pre-trained weights\n",
      "[INFO]: Freezing hidden layers...\n"
     ]
    },
    {
     "data": {
      "application/vnd.jupyter.widget-view+json": {
       "model_id": "66e033bb96044fd3a487bb7a01d00ec3",
       "version_major": 2,
       "version_minor": 0
      },
      "text/plain": [
       "  0%|          | 0/91 [00:00<?, ?it/s]"
      ]
     },
     "metadata": {},
     "output_type": "display_data"
    },
    {
     "name": "stdout",
     "output_type": "stream",
     "text": [
      "Warning! No positional inputs found for a module, assuming batch size is 1.\n",
      "VGG_ResNet50\n",
      "STEP 18/25\n",
      "[INFO]: Loading pre-trained weights\n",
      "[INFO]: Freezing hidden layers...\n",
      "[INFO]: Loading pre-trained weights\n",
      "[INFO]: Freezing hidden layers...\n"
     ]
    },
    {
     "data": {
      "application/vnd.jupyter.widget-view+json": {
       "model_id": "8f41442e488d4fb3b07b4dd15f8ca896",
       "version_major": 2,
       "version_minor": 0
      },
      "text/plain": [
       "  0%|          | 0/91 [00:00<?, ?it/s]"
      ]
     },
     "metadata": {},
     "output_type": "display_data"
    },
    {
     "name": "stdout",
     "output_type": "stream",
     "text": [
      "Warning! No positional inputs found for a module, assuming batch size is 1.\n",
      "VGG_VGG\n",
      "STEP 19/25\n",
      "[INFO]: Loading pre-trained weights\n",
      "[INFO]: Freezing hidden layers...\n",
      "[INFO]: Loading pre-trained weights\n",
      "[INFO]: Freezing hidden layers...\n"
     ]
    },
    {
     "data": {
      "application/vnd.jupyter.widget-view+json": {
       "model_id": "12775f61838549e2870be35cc13453e7",
       "version_major": 2,
       "version_minor": 0
      },
      "text/plain": [
       "  0%|          | 0/91 [00:00<?, ?it/s]"
      ]
     },
     "metadata": {},
     "output_type": "display_data"
    },
    {
     "name": "stdout",
     "output_type": "stream",
     "text": [
      "Warning! No positional inputs found for a module, assuming batch size is 1.\n",
      "VGG_ResNet152\n",
      "STEP 20/25\n",
      "[INFO]: Loading pre-trained weights\n",
      "[INFO]: Freezing hidden layers...\n",
      "[INFO]: Loading pre-trained weights\n",
      "[INFO]: Freezing hidden layers...\n"
     ]
    },
    {
     "data": {
      "application/vnd.jupyter.widget-view+json": {
       "model_id": "c12cb46a77a2444d8d0f5e56677f30ad",
       "version_major": 2,
       "version_minor": 0
      },
      "text/plain": [
       "  0%|          | 0/91 [00:00<?, ?it/s]"
      ]
     },
     "metadata": {},
     "output_type": "display_data"
    },
    {
     "name": "stdout",
     "output_type": "stream",
     "text": [
      "Warning! No positional inputs found for a module, assuming batch size is 1.\n",
      "ResNet152_EfficientNet\n",
      "STEP 21/25\n",
      "[INFO]: Loading pre-trained weights\n",
      "[INFO]: Freezing hidden layers...\n",
      "[INFO]: Loading pre-trained weights\n",
      "[INFO]: Freezing hidden layers...\n"
     ]
    },
    {
     "data": {
      "application/vnd.jupyter.widget-view+json": {
       "model_id": "55e7cfb102d44445a0f6a51fa1a8dc51",
       "version_major": 2,
       "version_minor": 0
      },
      "text/plain": [
       "  0%|          | 0/91 [00:00<?, ?it/s]"
      ]
     },
     "metadata": {},
     "output_type": "display_data"
    },
    {
     "name": "stdout",
     "output_type": "stream",
     "text": [
      "Warning! No positional inputs found for a module, assuming batch size is 1.\n",
      "ResNet152_DenseNet121\n",
      "STEP 22/25\n",
      "[INFO]: Loading pre-trained weights\n",
      "[INFO]: Freezing hidden layers...\n",
      "[INFO]: Loading pre-trained weights\n",
      "[INFO]: Freezing hidden layers...\n"
     ]
    },
    {
     "data": {
      "application/vnd.jupyter.widget-view+json": {
       "model_id": "e511ff0e99e844cfa1e7ef43cd867ab8",
       "version_major": 2,
       "version_minor": 0
      },
      "text/plain": [
       "  0%|          | 0/91 [00:00<?, ?it/s]"
      ]
     },
     "metadata": {},
     "output_type": "display_data"
    },
    {
     "name": "stdout",
     "output_type": "stream",
     "text": [
      "Warning! No positional inputs found for a module, assuming batch size is 1.\n",
      "ResNet152_ResNet50\n",
      "STEP 23/25\n",
      "[INFO]: Loading pre-trained weights\n",
      "[INFO]: Freezing hidden layers...\n",
      "[INFO]: Loading pre-trained weights\n",
      "[INFO]: Freezing hidden layers...\n"
     ]
    },
    {
     "data": {
      "application/vnd.jupyter.widget-view+json": {
       "model_id": "fcc5ec740531448989175544ca38656a",
       "version_major": 2,
       "version_minor": 0
      },
      "text/plain": [
       "  0%|          | 0/91 [00:00<?, ?it/s]"
      ]
     },
     "metadata": {},
     "output_type": "display_data"
    },
    {
     "name": "stdout",
     "output_type": "stream",
     "text": [
      "Warning! No positional inputs found for a module, assuming batch size is 1.\n",
      "ResNet152_VGG\n",
      "STEP 24/25\n",
      "[INFO]: Loading pre-trained weights\n",
      "[INFO]: Freezing hidden layers...\n",
      "[INFO]: Loading pre-trained weights\n",
      "[INFO]: Freezing hidden layers...\n"
     ]
    },
    {
     "data": {
      "application/vnd.jupyter.widget-view+json": {
       "model_id": "a0cbbc0bc70243a3b82dae970e5d87e4",
       "version_major": 2,
       "version_minor": 0
      },
      "text/plain": [
       "  0%|          | 0/91 [00:00<?, ?it/s]"
      ]
     },
     "metadata": {},
     "output_type": "display_data"
    },
    {
     "name": "stdout",
     "output_type": "stream",
     "text": [
      "Warning! No positional inputs found for a module, assuming batch size is 1.\n",
      "ResNet152_ResNet152\n",
      "STEP 25/25\n",
      "[INFO]: Loading pre-trained weights\n",
      "[INFO]: Freezing hidden layers...\n",
      "[INFO]: Loading pre-trained weights\n",
      "[INFO]: Freezing hidden layers...\n"
     ]
    },
    {
     "data": {
      "application/vnd.jupyter.widget-view+json": {
       "model_id": "270d49cce99944e78f4dc9d7319502b6",
       "version_major": 2,
       "version_minor": 0
      },
      "text/plain": [
       "  0%|          | 0/91 [00:00<?, ?it/s]"
      ]
     },
     "metadata": {},
     "output_type": "display_data"
    },
    {
     "name": "stdout",
     "output_type": "stream",
     "text": [
      "Warning! No positional inputs found for a module, assuming batch size is 1.\n"
     ]
    }
   ],
   "source": [
    "import os\n",
    "#all_models_weight = [f for f in os.listdir('/home/onyxia/work/pfe-deep-learning-maladies-plantes/multi_vue_pytorch/outputs') if f.endswith(\".pth\")]\n",
    "#all_outputs = {}\n",
    "lb=[\"Alt\",\"Big\",\"Mac\",\"Mil\",\"Myc\",\"Pse\",\"Syl\"]\n",
    "le = preprocessing.LabelEncoder()\n",
    "le.fit(lb)\n",
    "step = 0\n",
    "for modelR in models :\n",
    "    for modelV in models :\n",
    "        step += 1 \n",
    "        if f\"{modelR['model_name']}_{modelV['model_name']}\" not in all_outputs.keys():\n",
    "            print(f\"{modelR['model_name']}_{modelV['model_name']}\")\n",
    "            print(f\"STEP {step}/25\")\n",
    "            temp = {}\n",
    "            model_config = {'learning_rate' : 0.001,\n",
    "                        \"epochs\" : 30,\n",
    "                        \"pretrained\":True,\n",
    "                        \"fine_tune\":False,\n",
    "                        \"model_recto\":deepcopy(modelR),\n",
    "                        \"model_verso\":deepcopy(modelV),\n",
    "                     }\n",
    "            torch.cuda.empty_cache()\n",
    "            trainer = TrainMultiInputModel(model_config,data_config)\n",
    "            model_recto = modelR\n",
    "            model_verso =   modelV           \n",
    "            model = MultiInputModel(model_recto,model_verso,pretrained=True, fine_tune=False, num_classes=7)\n",
    "            try :\n",
    "             checkpoint = torch.load(f'{trainer.main_path}/outputs/model_recto_{modelR[\"model_name\"]}_model_verso_{modelV[\"model_name\"]}_epochs_30_lr_0.001_batch_size_32_pretrained_True_fine_tune_False.pth', map_location=\"cuda\")\n",
    "             #model.load_state_dict({cle: checkpoint['model_state_dict'][cle] for cle in checkpoint['model_state_dict'].keys() if not cle.startswith(\"modelRecto.\") and not cle.startswith(\"modelVerso.\")})\n",
    "             model.load_state_dict(checkpoint['model_state_dict'])\n",
    "             model = model.to(trainer.device)\n",
    "             trainer.model = model\n",
    "             preds, max_probs, all_probs = trainer.predict(trainer.testRectoloader,trainer.testVersoloader)\n",
    "             macs,_ = ptf.get_model_complexity_info(trainer.model, (3, 224, 224), as_strings=False,\n",
    "                                                       print_per_layer_stat=False, verbose=False,input_constructor = input_constructor)\n",
    "             all_outputs[model.name] = {\n",
    "             \"pred\" : le.inverse_transform(preds).tolist(),\n",
    "             \"max_probs\" : max_probs,\n",
    "             \"all_probs\" : all_probs,\n",
    "             \"accuracy\" : accuracy_score(y_obs,preds),\n",
    "             \"balanced_accuracy\" : balanced_accuracy_score(y_obs,preds),\n",
    "             \"precision_micro\" : precision_score(y_obs,preds,average=\"micro\"),\n",
    "             \"recall_micro\" : recall_score(y_obs,preds,average=\"micro\"),\n",
    "             \"precision_micro\" : precision_score(y_obs,preds,average=\"micro\"),\n",
    "             \"recall_micro\" : recall_score(y_obs,preds,average=\"micro\"),\n",
    "             \"roc_auc_micro\" : roc_auc_score(y_obs,all_probs,average=\"micro\",multi_class='ovr'),\n",
    "             \"f1_score_micro\" : f1_score(y_obs,preds,average=\"micro\"),\n",
    "             \"precision_weighted\" : precision_score(y_obs,preds,average=\"weighted\"),\n",
    "             \"recall_weighted\" : recall_score(y_obs,preds,average=\"weighted\"),\n",
    "             \"precision_weighted\" : precision_score(y_obs,preds,average=\"weighted\"),\n",
    "             \"recall_weighted\" : recall_score(y_obs,preds,average=\"weighted\"),\n",
    "             \"roc_auc_weighted\" : roc_auc_score(y_obs,all_probs,average=\"weighted\",multi_class='ovo'),\n",
    "             \"f1_score_weighted\" : f1_score(y_obs,preds,average=\"weighted\"),\n",
    "             \"nb_trainable_parameters\" : sum(\n",
    "                p.numel() for p in model.parameters() if p.requires_grad),\n",
    "             \"nb_parameters\" : sum(\n",
    "                p.numel() for p in model.parameters()),\n",
    "             \"macs\" : macs\n",
    "             }\n",
    "            except:\n",
    "                pass"
   ]
  },
  {
   "cell_type": "code",
   "execution_count": 12,
   "id": "8bc498c7-76bf-4373-96eb-93e4b06e1e7d",
   "metadata": {
    "tags": []
   },
   "outputs": [],
   "source": [
    "with open(\"outputs/test_results_full_evalmode.json\",\"w\",encoding='utf-8') as f:\n",
    "    json.dump(all_outputs, f, ensure_ascii=False, indent=4)"
   ]
  },
  {
   "cell_type": "code",
   "execution_count": 13,
   "id": "93ac0c4d",
   "metadata": {
    "tags": []
   },
   "outputs": [],
   "source": [
    "with open(\"outputs/test_results_full_evalmode.json\") as f:\n",
    "    all_outputs = json.load(f)"
   ]
  },
  {
   "cell_type": "code",
   "execution_count": 14,
   "id": "b2dd915e",
   "metadata": {
    "tags": []
   },
   "outputs": [],
   "source": [
    "all_outputs = {k:v for k,v in all_outputs.items() if \"EfficientNetV2\" not in k}"
   ]
  },
  {
   "cell_type": "code",
   "execution_count": 16,
   "id": "809cdde1",
   "metadata": {
    "tags": []
   },
   "outputs": [
    {
     "data": {
      "text/plain": [
       "dict_keys(['EfficientNet_EfficientNet', 'EfficientNet_DenseNet121', 'EfficientNet_ResNet50', 'DenseNet121_EfficientNet', 'DenseNet121_DenseNet121', 'DenseNet121_ResNet50', 'DenseNet121_VGG', 'DenseNet121_ResNet152', 'ResNet50_DenseNet121', 'ResNet50_ResNet50'])"
      ]
     },
     "execution_count": 16,
     "metadata": {},
     "output_type": "execute_result"
    }
   ],
   "source": [
    "all_outputs.keys()"
   ]
  },
  {
   "cell_type": "code",
   "execution_count": 51,
   "id": "55042da7",
   "metadata": {},
   "outputs": [
    {
     "data": {
      "text/plain": [
       "array([1.39220550e+07, 3.53161510e+07, 4.70447430e+07, 7.28764230e+07,\n",
       "       1.16316295e+08])"
      ]
     },
     "execution_count": 51,
     "metadata": {},
     "output_type": "execute_result"
    }
   ],
   "source": [
    "np.quantile([all_outputs[model]['nb_parameters'] for model in all_outputs.keys()],q=[0,0.25,0.5,0.75,1])"
   ]
  },
  {
   "cell_type": "markdown",
   "id": "a7bcb691-93ca-421a-a9a8-8d8837718b96",
   "metadata": {},
   "source": [
    "### Plot macs/accuracy/parameters"
   ]
  },
  {
   "cell_type": "code",
   "execution_count": 13,
   "id": "7f5cf7ba-1383-4b8e-9f51-15dd0711bd48",
   "metadata": {
    "tags": []
   },
   "outputs": [
    {
     "name": "stdout",
     "output_type": "stream",
     "text": [
      "20M<=50M\n",
      "['<20M', '20M<=50M', '50M<=80M', '>80M']\n"
     ]
    },
    {
     "data": {
      "image/png": "[encoded data removed]",
      "text/plain": [
       "<Figure size 1000x800 with 1 Axes>"
      ]
     },
     "metadata": {},
     "output_type": "display_data"
    }
   ],
   "source": [
    "import matplotlib.pyplot as plt\n",
    "from adjustText import adjust_text\n",
    "# Préparation des données pour le graphique\n",
    "names = []\n",
    "macs = []\n",
    "accuracy = []\n",
    "params = []\n",
    "max_params = max(values['nb_parameters'] for values in all_outputs.values())\n",
    "for name, values in all_outputs.items():\n",
    "    names.append(name)\n",
    "    macs.append(values['macs'] / 1e9)  # Convert MACs to GigaMACs\n",
    "    accuracy.append(values['accuracy'])\n",
    "    params.append((values['nb_parameters'] / max_params) * 1000)\n",
    "\n",
    "# Define color intervals and corresponding colors\n",
    "sizes = [20*10**6, 50*10**6, 80*10**6]\n",
    "colors = ['forestgreen', 'royalblue', 'orangered', 'purple']\n",
    "\n",
    "# Create a function to map values to colors based on predefined intervals\n",
    "def map_value_to_color(value, intervals, colors):\n",
    "    for i, interval in enumerate(intervals):\n",
    "        if value <= (interval/max_params)*1000:\n",
    "            return colors[i]\n",
    "    return colors[-1]\n",
    "\n",
    "# Map each value in params to a color based on the predefined intervals\n",
    "point_colors = [map_value_to_color(param, sizes, colors) for param in params]\n",
    "fig, ax = plt.subplots(figsize=(10, 8))\n",
    "scatter = ax.scatter(x=macs, y=accuracy, s=params, alpha=0.5, c=point_colors)\n",
    "\n",
    "plt.xlabel('MACs (G)')\n",
    "plt.ylabel('Accuracy')\n",
    "\n",
    "# Format x-axis tick labels as scientific notation with \"G\" unit\n",
    "ax.ticklabel_format(axis='x', style='sci', scilimits=(0, 0))\n",
    "ax.xaxis.offsetText.set_visible(False)\n",
    "ax.xaxis.set_major_formatter('{x:.1f}G')\n",
    "labels = []\n",
    "for i in range(len(sizes)):\n",
    "    if i == 0:\n",
    "        labels.append(f\"<{sizes[i]/(10**6):.0f}M\")\n",
    "    elif i == len(sizes)-1:\n",
    "        labels.append(f'{sizes[i-1]/(10**6):.0f}M<={sizes[i]/(10**6):.0f}M')\n",
    "        labels.append(f'>{sizes[i]/(10**6):.0f}M')\n",
    "    else :\n",
    "        print(f'{sizes[i-1]/(10**6):.0f}M<={sizes[i]/(10**6):.0f}M')\n",
    "        labels.append(f'{sizes[i-1]/(10**6):.0f}M<={sizes[i]/(10**6):.0f}M') # Define labels for the legend\n",
    "print(labels)\n",
    "handles = [plt.scatter([], [], s=(s/max_params)*1000, alpha=0.5,c=map_value_to_color((s/max_params)*1000, sizes, colors)) for s in sizes+[100*10**6]]  # Create dummy scatter plots for the legend\n",
    "legend = plt.legend(handles, labels, title='Number of parameters (M)', scatterpoints=1, labelspacing=2, loc='upper right',ncol=2,borderpad=1.2)\n",
    "plt.setp(legend.get_title(), fontsize='medium')\n",
    "# Ajout des annotations\n",
    "texts = []\n",
    "for x, y, s in zip(macs, accuracy, names):\n",
    "    texts.append(plt.text(x, y, s))\n",
    "adjust_text(texts, only_move={'points':'y', 'texts':'y'}, arrowprops=dict(arrowstyle=\"->\", color='r', lw=0.5))\n",
    "plt.show()\n",
    "fig.savefig(\"outputs/model_performance_plot_acc_mac.pdf\",format=\"pdf\")"
   ]
  },
  {
   "cell_type": "markdown",
   "id": "f4d19695-8520-4322-a594-3d005ef91f07",
   "metadata": {},
   "source": [
    "### Table with results"
   ]
  },
  {
   "cell_type": "code",
   "execution_count": 14,
   "id": "ff39a132-1aa6-45c7-9c95-497cbea5ed50",
   "metadata": {
    "tags": []
   },
   "outputs": [
    {
     "data": {
      "text/html": [
       "<div>\n",
       "<style scoped>\n",
       "    .dataframe tbody tr th:only-of-type {\n",
       "        vertical-align: middle;\n",
       "    }\n",
       "\n",
       "    .dataframe tbody tr th {\n",
       "        vertical-align: top;\n",
       "    }\n",
       "\n",
       "    .dataframe thead th {\n",
       "        text-align: right;\n",
       "    }\n",
       "</style>\n",
       "<table border=\"1\" class=\"dataframe\">\n",
       "  <thead>\n",
       "    <tr style=\"text-align: right;\">\n",
       "      <th></th>\n",
       "      <th>accuracy</th>\n",
       "      <th>balanced accuracy</th>\n",
       "      <th>precision micro</th>\n",
       "      <th>precision weighted</th>\n",
       "      <th>recall micro</th>\n",
       "      <th>f1-score micro</th>\n",
       "      <th>f1-score weighted</th>\n",
       "      <th>roc auc micro</th>\n",
       "      <th>roc auc weighted</th>\n",
       "    </tr>\n",
       "  </thead>\n",
       "  <tbody>\n",
       "    <tr>\n",
       "      <th>DenseNet121_ResNet152</th>\n",
       "      <td>0.955</td>\n",
       "      <td>0.952</td>\n",
       "      <td>0.955</td>\n",
       "      <td>0.955</td>\n",
       "      <td>0.955</td>\n",
       "      <td>0.955</td>\n",
       "      <td>0.955</td>\n",
       "      <td>0.998</td>\n",
       "      <td>0.998</td>\n",
       "    </tr>\n",
       "    <tr>\n",
       "      <th>ResNet50_DenseNet121</th>\n",
       "      <td>0.954</td>\n",
       "      <td>0.951</td>\n",
       "      <td>0.954</td>\n",
       "      <td>0.954</td>\n",
       "      <td>0.954</td>\n",
       "      <td>0.954</td>\n",
       "      <td>0.953</td>\n",
       "      <td>0.998</td>\n",
       "      <td>0.998</td>\n",
       "    </tr>\n",
       "    <tr>\n",
       "      <th>VGG_DenseNet121</th>\n",
       "      <td>0.954</td>\n",
       "      <td>0.953</td>\n",
       "      <td>0.954</td>\n",
       "      <td>0.955</td>\n",
       "      <td>0.954</td>\n",
       "      <td>0.954</td>\n",
       "      <td>0.954</td>\n",
       "      <td>0.998</td>\n",
       "      <td>0.998</td>\n",
       "    </tr>\n",
       "    <tr>\n",
       "      <th>ResNet50_ResNet50</th>\n",
       "      <td>0.952</td>\n",
       "      <td>0.948</td>\n",
       "      <td>0.952</td>\n",
       "      <td>0.952</td>\n",
       "      <td>0.952</td>\n",
       "      <td>0.952</td>\n",
       "      <td>0.952</td>\n",
       "      <td>0.998</td>\n",
       "      <td>0.997</td>\n",
       "    </tr>\n",
       "    <tr>\n",
       "      <th>DenseNet121_EfficientNet</th>\n",
       "      <td>0.951</td>\n",
       "      <td>0.948</td>\n",
       "      <td>0.951</td>\n",
       "      <td>0.951</td>\n",
       "      <td>0.951</td>\n",
       "      <td>0.951</td>\n",
       "      <td>0.951</td>\n",
       "      <td>0.998</td>\n",
       "      <td>0.997</td>\n",
       "    </tr>\n",
       "    <tr>\n",
       "      <th>VGG_VGG</th>\n",
       "      <td>0.951</td>\n",
       "      <td>0.948</td>\n",
       "      <td>0.951</td>\n",
       "      <td>0.951</td>\n",
       "      <td>0.951</td>\n",
       "      <td>0.951</td>\n",
       "      <td>0.951</td>\n",
       "      <td>0.997</td>\n",
       "      <td>0.997</td>\n",
       "    </tr>\n",
       "    <tr>\n",
       "      <th>EfficientNet_DenseNet121</th>\n",
       "      <td>0.951</td>\n",
       "      <td>0.948</td>\n",
       "      <td>0.951</td>\n",
       "      <td>0.951</td>\n",
       "      <td>0.951</td>\n",
       "      <td>0.951</td>\n",
       "      <td>0.951</td>\n",
       "      <td>0.998</td>\n",
       "      <td>0.997</td>\n",
       "    </tr>\n",
       "    <tr>\n",
       "      <th>DenseNet121_VGG</th>\n",
       "      <td>0.950</td>\n",
       "      <td>0.948</td>\n",
       "      <td>0.950</td>\n",
       "      <td>0.951</td>\n",
       "      <td>0.950</td>\n",
       "      <td>0.950</td>\n",
       "      <td>0.950</td>\n",
       "      <td>0.998</td>\n",
       "      <td>0.997</td>\n",
       "    </tr>\n",
       "    <tr>\n",
       "      <th>DenseNet121_DenseNet121</th>\n",
       "      <td>0.949</td>\n",
       "      <td>0.946</td>\n",
       "      <td>0.949</td>\n",
       "      <td>0.949</td>\n",
       "      <td>0.949</td>\n",
       "      <td>0.949</td>\n",
       "      <td>0.949</td>\n",
       "      <td>0.998</td>\n",
       "      <td>0.998</td>\n",
       "    </tr>\n",
       "    <tr>\n",
       "      <th>DenseNet121_ResNet50</th>\n",
       "      <td>0.948</td>\n",
       "      <td>0.945</td>\n",
       "      <td>0.948</td>\n",
       "      <td>0.949</td>\n",
       "      <td>0.948</td>\n",
       "      <td>0.948</td>\n",
       "      <td>0.947</td>\n",
       "      <td>0.998</td>\n",
       "      <td>0.998</td>\n",
       "    </tr>\n",
       "    <tr>\n",
       "      <th>VGG_EfficientNet</th>\n",
       "      <td>0.948</td>\n",
       "      <td>0.945</td>\n",
       "      <td>0.948</td>\n",
       "      <td>0.948</td>\n",
       "      <td>0.948</td>\n",
       "      <td>0.948</td>\n",
       "      <td>0.948</td>\n",
       "      <td>0.997</td>\n",
       "      <td>0.997</td>\n",
       "    </tr>\n",
       "    <tr>\n",
       "      <th>VGG_ResNet50</th>\n",
       "      <td>0.947</td>\n",
       "      <td>0.943</td>\n",
       "      <td>0.947</td>\n",
       "      <td>0.947</td>\n",
       "      <td>0.947</td>\n",
       "      <td>0.947</td>\n",
       "      <td>0.946</td>\n",
       "      <td>0.998</td>\n",
       "      <td>0.997</td>\n",
       "    </tr>\n",
       "    <tr>\n",
       "      <th>ResNet50_ResNet152</th>\n",
       "      <td>0.947</td>\n",
       "      <td>0.944</td>\n",
       "      <td>0.947</td>\n",
       "      <td>0.948</td>\n",
       "      <td>0.947</td>\n",
       "      <td>0.947</td>\n",
       "      <td>0.947</td>\n",
       "      <td>0.998</td>\n",
       "      <td>0.998</td>\n",
       "    </tr>\n",
       "    <tr>\n",
       "      <th>ResNet50_EfficientNet</th>\n",
       "      <td>0.945</td>\n",
       "      <td>0.942</td>\n",
       "      <td>0.945</td>\n",
       "      <td>0.945</td>\n",
       "      <td>0.945</td>\n",
       "      <td>0.945</td>\n",
       "      <td>0.944</td>\n",
       "      <td>0.998</td>\n",
       "      <td>0.997</td>\n",
       "    </tr>\n",
       "    <tr>\n",
       "      <th>ResNet152_DenseNet121</th>\n",
       "      <td>0.944</td>\n",
       "      <td>0.940</td>\n",
       "      <td>0.944</td>\n",
       "      <td>0.944</td>\n",
       "      <td>0.944</td>\n",
       "      <td>0.944</td>\n",
       "      <td>0.943</td>\n",
       "      <td>0.998</td>\n",
       "      <td>0.997</td>\n",
       "    </tr>\n",
       "    <tr>\n",
       "      <th>VGG_ResNet152</th>\n",
       "      <td>0.943</td>\n",
       "      <td>0.940</td>\n",
       "      <td>0.943</td>\n",
       "      <td>0.944</td>\n",
       "      <td>0.943</td>\n",
       "      <td>0.943</td>\n",
       "      <td>0.943</td>\n",
       "      <td>0.997</td>\n",
       "      <td>0.997</td>\n",
       "    </tr>\n",
       "    <tr>\n",
       "      <th>EfficientNet_ResNet152</th>\n",
       "      <td>0.943</td>\n",
       "      <td>0.941</td>\n",
       "      <td>0.943</td>\n",
       "      <td>0.945</td>\n",
       "      <td>0.943</td>\n",
       "      <td>0.943</td>\n",
       "      <td>0.943</td>\n",
       "      <td>0.997</td>\n",
       "      <td>0.997</td>\n",
       "    </tr>\n",
       "    <tr>\n",
       "      <th>ResNet50_VGG</th>\n",
       "      <td>0.941</td>\n",
       "      <td>0.938</td>\n",
       "      <td>0.941</td>\n",
       "      <td>0.943</td>\n",
       "      <td>0.941</td>\n",
       "      <td>0.941</td>\n",
       "      <td>0.941</td>\n",
       "      <td>0.998</td>\n",
       "      <td>0.998</td>\n",
       "    </tr>\n",
       "    <tr>\n",
       "      <th>EfficientNet_ResNet50</th>\n",
       "      <td>0.940</td>\n",
       "      <td>0.936</td>\n",
       "      <td>0.940</td>\n",
       "      <td>0.940</td>\n",
       "      <td>0.940</td>\n",
       "      <td>0.940</td>\n",
       "      <td>0.940</td>\n",
       "      <td>0.997</td>\n",
       "      <td>0.997</td>\n",
       "    </tr>\n",
       "    <tr>\n",
       "      <th>ResNet152_EfficientNet</th>\n",
       "      <td>0.940</td>\n",
       "      <td>0.937</td>\n",
       "      <td>0.940</td>\n",
       "      <td>0.941</td>\n",
       "      <td>0.940</td>\n",
       "      <td>0.940</td>\n",
       "      <td>0.939</td>\n",
       "      <td>0.997</td>\n",
       "      <td>0.997</td>\n",
       "    </tr>\n",
       "    <tr>\n",
       "      <th>ResNet152_VGG</th>\n",
       "      <td>0.935</td>\n",
       "      <td>0.931</td>\n",
       "      <td>0.935</td>\n",
       "      <td>0.936</td>\n",
       "      <td>0.935</td>\n",
       "      <td>0.935</td>\n",
       "      <td>0.934</td>\n",
       "      <td>0.997</td>\n",
       "      <td>0.996</td>\n",
       "    </tr>\n",
       "    <tr>\n",
       "      <th>ResNet152_ResNet152</th>\n",
       "      <td>0.931</td>\n",
       "      <td>0.927</td>\n",
       "      <td>0.931</td>\n",
       "      <td>0.934</td>\n",
       "      <td>0.931</td>\n",
       "      <td>0.931</td>\n",
       "      <td>0.930</td>\n",
       "      <td>0.996</td>\n",
       "      <td>0.996</td>\n",
       "    </tr>\n",
       "    <tr>\n",
       "      <th>ResNet152_ResNet50</th>\n",
       "      <td>0.927</td>\n",
       "      <td>0.920</td>\n",
       "      <td>0.927</td>\n",
       "      <td>0.933</td>\n",
       "      <td>0.927</td>\n",
       "      <td>0.927</td>\n",
       "      <td>0.927</td>\n",
       "      <td>0.996</td>\n",
       "      <td>0.996</td>\n",
       "    </tr>\n",
       "    <tr>\n",
       "      <th>EfficientNet_EfficientNet</th>\n",
       "      <td>0.927</td>\n",
       "      <td>0.921</td>\n",
       "      <td>0.927</td>\n",
       "      <td>0.926</td>\n",
       "      <td>0.927</td>\n",
       "      <td>0.927</td>\n",
       "      <td>0.926</td>\n",
       "      <td>0.996</td>\n",
       "      <td>0.995</td>\n",
       "    </tr>\n",
       "  </tbody>\n",
       "</table>\n",
       "</div>"
      ],
      "text/plain": [
       "                           accuracy  balanced accuracy  precision micro  \\\n",
       "DenseNet121_ResNet152         0.955              0.952            0.955   \n",
       "ResNet50_DenseNet121          0.954              0.951            0.954   \n",
       "VGG_DenseNet121               0.954              0.953            0.954   \n",
       "ResNet50_ResNet50             0.952              0.948            0.952   \n",
       "DenseNet121_EfficientNet      0.951              0.948            0.951   \n",
       "VGG_VGG                       0.951              0.948            0.951   \n",
       "EfficientNet_DenseNet121      0.951              0.948            0.951   \n",
       "DenseNet121_VGG               0.950              0.948            0.950   \n",
       "DenseNet121_DenseNet121       0.949              0.946            0.949   \n",
       "DenseNet121_ResNet50          0.948              0.945            0.948   \n",
       "VGG_EfficientNet              0.948              0.945            0.948   \n",
       "VGG_ResNet50                  0.947              0.943            0.947   \n",
       "ResNet50_ResNet152            0.947              0.944            0.947   \n",
       "ResNet50_EfficientNet         0.945              0.942            0.945   \n",
       "ResNet152_DenseNet121         0.944              0.940            0.944   \n",
       "VGG_ResNet152                 0.943              0.940            0.943   \n",
       "EfficientNet_ResNet152        0.943              0.941            0.943   \n",
       "ResNet50_VGG                  0.941              0.938            0.941   \n",
       "EfficientNet_ResNet50         0.940              0.936            0.940   \n",
       "ResNet152_EfficientNet        0.940              0.937            0.940   \n",
       "ResNet152_VGG                 0.935              0.931            0.935   \n",
       "ResNet152_ResNet152           0.931              0.927            0.931   \n",
       "ResNet152_ResNet50            0.927              0.920            0.927   \n",
       "EfficientNet_EfficientNet     0.927              0.921            0.927   \n",
       "\n",
       "                           precision weighted  recall micro  f1-score micro  \\\n",
       "DenseNet121_ResNet152                   0.955         0.955           0.955   \n",
       "ResNet50_DenseNet121                    0.954         0.954           0.954   \n",
       "VGG_DenseNet121                         0.955         0.954           0.954   \n",
       "ResNet50_ResNet50                       0.952         0.952           0.952   \n",
       "DenseNet121_EfficientNet                0.951         0.951           0.951   \n",
       "VGG_VGG                                 0.951         0.951           0.951   \n",
       "EfficientNet_DenseNet121                0.951         0.951           0.951   \n",
       "DenseNet121_VGG                         0.951         0.950           0.950   \n",
       "DenseNet121_DenseNet121                 0.949         0.949           0.949   \n",
       "DenseNet121_ResNet50                    0.949         0.948           0.948   \n",
       "VGG_EfficientNet                        0.948         0.948           0.948   \n",
       "VGG_ResNet50                            0.947         0.947           0.947   \n",
       "ResNet50_ResNet152                      0.948         0.947           0.947   \n",
       "ResNet50_EfficientNet                   0.945         0.945           0.945   \n",
       "ResNet152_DenseNet121                   0.944         0.944           0.944   \n",
       "VGG_ResNet152                           0.944         0.943           0.943   \n",
       "EfficientNet_ResNet152                  0.945         0.943           0.943   \n",
       "ResNet50_VGG                            0.943         0.941           0.941   \n",
       "EfficientNet_ResNet50                   0.940         0.940           0.940   \n",
       "ResNet152_EfficientNet                  0.941         0.940           0.940   \n",
       "ResNet152_VGG                           0.936         0.935           0.935   \n",
       "ResNet152_ResNet152                     0.934         0.931           0.931   \n",
       "ResNet152_ResNet50                      0.933         0.927           0.927   \n",
       "EfficientNet_EfficientNet               0.926         0.927           0.927   \n",
       "\n",
       "                           f1-score weighted  roc auc micro  roc auc weighted  \n",
       "DenseNet121_ResNet152                  0.955          0.998             0.998  \n",
       "ResNet50_DenseNet121                   0.953          0.998             0.998  \n",
       "VGG_DenseNet121                        0.954          0.998             0.998  \n",
       "ResNet50_ResNet50                      0.952          0.998             0.997  \n",
       "DenseNet121_EfficientNet               0.951          0.998             0.997  \n",
       "VGG_VGG                                0.951          0.997             0.997  \n",
       "EfficientNet_DenseNet121               0.951          0.998             0.997  \n",
       "DenseNet121_VGG                        0.950          0.998             0.997  \n",
       "DenseNet121_DenseNet121                0.949          0.998             0.998  \n",
       "DenseNet121_ResNet50                   0.947          0.998             0.998  \n",
       "VGG_EfficientNet                       0.948          0.997             0.997  \n",
       "VGG_ResNet50                           0.946          0.998             0.997  \n",
       "ResNet50_ResNet152                     0.947          0.998             0.998  \n",
       "ResNet50_EfficientNet                  0.944          0.998             0.997  \n",
       "ResNet152_DenseNet121                  0.943          0.998             0.997  \n",
       "VGG_ResNet152                          0.943          0.997             0.997  \n",
       "EfficientNet_ResNet152                 0.943          0.997             0.997  \n",
       "ResNet50_VGG                           0.941          0.998             0.998  \n",
       "EfficientNet_ResNet50                  0.940          0.997             0.997  \n",
       "ResNet152_EfficientNet                 0.939          0.997             0.997  \n",
       "ResNet152_VGG                          0.934          0.997             0.996  \n",
       "ResNet152_ResNet152                    0.930          0.996             0.996  \n",
       "ResNet152_ResNet50                     0.927          0.996             0.996  \n",
       "EfficientNet_EfficientNet              0.926          0.996             0.995  "
      ]
     },
     "execution_count": 14,
     "metadata": {},
     "output_type": "execute_result"
    }
   ],
   "source": [
    "dict_res = {key1: { key2 : round(all_outputs[key1][key2],3) for key2 in [\"accuracy\",\"balanced_accuracy\",\"precision_micro\",\"precision_weighted\",\"recall_micro\",\"f1_score_micro\",\"f1_score_weighted\",\"roc_auc_micro\",\"roc_auc_weighted\"]} for key1 in all_outputs.keys() }\n",
    "pd_res = pd.DataFrame(dict_res).transpose()\n",
    "pd_res.columns = [\"accuracy\",\"balanced accuracy\",\"precision micro\",\"precision weighted\",\"recall micro\",\"f1-score micro\",\"f1-score weighted\",\"roc auc micro\",\"roc auc weighted\"]\n",
    "pd_res = pd_res.sort_values(by=\"accuracy\",ascending=False)\n",
    "pd_res"
   ]
  },
  {
   "cell_type": "code",
   "execution_count": 19,
   "id": "b78d3ae6",
   "metadata": {},
   "outputs": [
    {
     "name": "stdout",
     "output_type": "stream",
     "text": [
      "\\begin{tabular}{lrrrrrrrrr}\n",
      " & accuracy & balanced accuracy & precision micro & precision weighted & recall micro & f1-score micro & f1-score weighted & roc auc micro & roc auc weighted \\\\\n",
      "DenseNet121_ResNet152 & 0.950000 & 0.947000 & 0.950000 & 0.951000 & 0.950000 & 0.950000 & 0.950000 & 0.997000 & 0.997000 \\\\\n",
      "ResNet50_ResNet50 & 0.949000 & 0.946000 & 0.949000 & 0.949000 & 0.949000 & 0.949000 & 0.949000 & 0.997000 & 0.997000 \\\\\n",
      "ResNet50_DenseNet121 & 0.946000 & 0.943000 & 0.946000 & 0.946000 & 0.946000 & 0.946000 & 0.946000 & 0.998000 & 0.997000 \\\\\n",
      "DenseNet121_ResNet50 & 0.945000 & 0.942000 & 0.945000 & 0.946000 & 0.945000 & 0.945000 & 0.945000 & 0.997000 & 0.997000 \\\\\n",
      "ResNet50_ResNet152 & 0.945000 & 0.942000 & 0.945000 & 0.946000 & 0.945000 & 0.945000 & 0.944000 & 0.998000 & 0.997000 \\\\\n",
      "VGG_DenseNet121 & 0.944000 & 0.942000 & 0.944000 & 0.946000 & 0.944000 & 0.944000 & 0.944000 & 0.997000 & 0.996000 \\\\\n",
      "ResNet50_EfficientNet & 0.941000 & 0.938000 & 0.941000 & 0.942000 & 0.941000 & 0.941000 & 0.941000 & 0.998000 & 0.997000 \\\\\n",
      "VGG_VGG & 0.941000 & 0.937000 & 0.941000 & 0.941000 & 0.941000 & 0.941000 & 0.941000 & 0.996000 & 0.995000 \\\\\n",
      "VGG_EfficientNet & 0.939000 & 0.936000 & 0.939000 & 0.939000 & 0.939000 & 0.939000 & 0.939000 & 0.997000 & 0.996000 \\\\\n",
      "DenseNet121_EfficientNet & 0.938000 & 0.934000 & 0.938000 & 0.938000 & 0.938000 & 0.938000 & 0.937000 & 0.997000 & 0.996000 \\\\\n",
      "ResNet152_DenseNet121 & 0.938000 & 0.933000 & 0.938000 & 0.938000 & 0.938000 & 0.938000 & 0.937000 & 0.997000 & 0.997000 \\\\\n",
      "VGG_ResNet152 & 0.938000 & 0.935000 & 0.938000 & 0.940000 & 0.938000 & 0.938000 & 0.938000 & 0.997000 & 0.996000 \\\\\n",
      "VGG_ResNet50 & 0.938000 & 0.934000 & 0.938000 & 0.939000 & 0.938000 & 0.938000 & 0.937000 & 0.997000 & 0.997000 \\\\\n",
      "DenseNet121_VGG & 0.937000 & 0.934000 & 0.937000 & 0.937000 & 0.937000 & 0.937000 & 0.937000 & 0.997000 & 0.996000 \\\\\n",
      "EfficientNet_ResNet50 & 0.937000 & 0.932000 & 0.937000 & 0.937000 & 0.937000 & 0.937000 & 0.936000 & 0.997000 & 0.996000 \\\\\n",
      "EfficientNet_VGG & 0.936000 & 0.932000 & 0.936000 & 0.936000 & 0.936000 & 0.936000 & 0.936000 & 0.996000 & 0.995000 \\\\\n",
      "ResNet50_VGG & 0.936000 & 0.933000 & 0.936000 & 0.938000 & 0.936000 & 0.936000 & 0.936000 & 0.997000 & 0.997000 \\\\\n",
      "EfficientNet_DenseNet121 & 0.934000 & 0.930000 & 0.934000 & 0.934000 & 0.934000 & 0.934000 & 0.934000 & 0.996000 & 0.995000 \\\\\n",
      "EfficientNet_ResNet152 & 0.933000 & 0.929000 & 0.933000 & 0.935000 & 0.933000 & 0.933000 & 0.933000 & 0.997000 & 0.996000 \\\\\n",
      "ResNet152_EfficientNet & 0.933000 & 0.929000 & 0.933000 & 0.933000 & 0.933000 & 0.933000 & 0.932000 & 0.997000 & 0.996000 \\\\\n",
      "DenseNet121_DenseNet121 & 0.933000 & 0.928000 & 0.933000 & 0.933000 & 0.933000 & 0.933000 & 0.932000 & 0.997000 & 0.996000 \\\\\n",
      "ResNet152_VGG & 0.929000 & 0.925000 & 0.929000 & 0.930000 & 0.929000 & 0.929000 & 0.929000 & 0.996000 & 0.995000 \\\\\n",
      "ResNet152_ResNet50 & 0.929000 & 0.921000 & 0.929000 & 0.934000 & 0.929000 & 0.929000 & 0.929000 & 0.995000 & 0.996000 \\\\\n",
      "ResNet152_ResNet152 & 0.919000 & 0.913000 & 0.919000 & 0.922000 & 0.919000 & 0.919000 & 0.918000 & 0.996000 & 0.996000 \\\\\n",
      "EfficientNet_EfficientNet & 0.916000 & 0.911000 & 0.916000 & 0.916000 & 0.916000 & 0.916000 & 0.916000 & 0.995000 & 0.993000 \\\\\n",
      "\\end{tabular}\n",
      "\n"
     ]
    }
   ],
   "source": [
    "print(pd_res.style.to_latex())"
   ]
  },
  {
   "cell_type": "markdown",
   "id": "79dcc969-0b6a-4fd7-b2e2-21e818a41fda",
   "metadata": {},
   "source": [
    "#### Matrice de confusion pour le meilleur modèle"
   ]
  },
  {
   "cell_type": "code",
   "execution_count": 18,
   "id": "a955e146",
   "metadata": {},
   "outputs": [
    {
     "data": {
      "image/png": "[encoded data removed]",
      "text/plain": [
       "<Figure size 640x480 with 2 Axes>"
      ]
     },
     "metadata": {},
     "output_type": "display_data"
    },
    {
     "name": "stdout",
     "output_type": "stream",
     "text": [
      "Accuracy : 0.9493934142114385\n",
      "Balanced Accuracy : 0.9458212674969332\n"
     ]
    }
   ],
   "source": [
    "y_pred=all_outputs['ResNet50_ResNet50']['pred']\n",
    "#y_obs=real_labels\n",
    "# let's use sklearn\n",
    "lb=[\"Alt\",\"Big\",\"Mac\",\"Mil\",\"Myc\",\"Pse\",\"Syl\"]\n",
    "le = preprocessing.LabelEncoder()\n",
    "le.fit(lb)\n",
    "#y_pred=le.inverse_transform(y_pred)\n",
    "y_obs=le.inverse_transform(y_obs)\n",
    "\n",
    "disp = ConfusionMatrixDisplay(confusion_matrix=confusion_matrix(y_obs,\n",
    "y_pred,labels=lb),display_labels=lb)\n",
    "disp.plot()\n",
    "plt.show()\n",
    "print(\"Accuracy : \"+str(accuracy_score(y_obs, y_pred)))\n",
    "print(\"Balanced Accuracy : \"+str(balanced_accuracy_score(y_obs, y_pred)))"
   ]
  },
  {
   "cell_type": "markdown",
   "id": "16d311f7-6255-4a58-b975-217514234f82",
   "metadata": {},
   "source": [
    "## MC DROPOUT"
   ]
  },
  {
   "cell_type": "code",
   "execution_count": null,
   "id": "1b4d9a25-50ff-4b92-b4d3-656c765ee49b",
   "metadata": {},
   "outputs": [],
   "source": []
  }
 ],
 "metadata": {
  "kernelspec": {
   "display_name": "Python 3 (ipykernel)",
   "language": "python",
   "name": "python3"
  },
  "language_info": {
   "codemirror_mode": {
    "name": "ipython",
    "version": 3
   },
   "file_extension": ".py",
   "mimetype": "text/x-python",
   "name": "python",
   "nbconvert_exporter": "python",
   "pygments_lexer": "ipython3",
   "version": "3.10.9"
  },
  "vscode": {
   "interpreter": {
    "hash": "3fa046f995eb80ac40c0869a1f9df46519f4ada8b8c395ef25dd1aa1a1a2fc63"
   }
  }
 },
 "nbformat": 4,
 "nbformat_minor": 5
}
