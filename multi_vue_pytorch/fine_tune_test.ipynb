{
 "cells": [
  {
   "cell_type": "code",
   "execution_count": 1,
   "id": "78c60569-739e-48be-a8af-f843c2639521",
   "metadata": {
    "tags": []
   },
   "outputs": [],
   "source": [
    "%load_ext autoreload\n",
    "%autoreload 2"
   ]
  },
  {
   "cell_type": "code",
   "execution_count": 2,
   "id": "b5580db1-7d64-413b-99d4-c62c9ba879aa",
   "metadata": {
    "tags": []
   },
   "outputs": [],
   "source": [
    "from train_multiview_network import TrainMultiInputModel\n",
    "from multi_view_classification_network import MultiInputModel\n",
    "from config import get_config\n",
    "import torch\n",
    "import torchvision\n",
    "from torchvision.models.feature_extraction import create_feature_extractor\n",
    "from tqdm import tqdm\n",
    "from torchvision import datasets\n",
    "from sklearn import preprocessing\n",
    "from sklearn.metrics import confusion_matrix, ConfusionMatrixDisplay, balanced_accuracy_score, accuracy_score, f1_score, precision_score, recall_score, roc_auc_score\n",
    "import matplotlib\n",
    "import matplotlib.pyplot as plt\n",
    "import numpy as np\n",
    "import pandas as pd\n",
    "import ptflops as ptf\n",
    "import os\n",
    "from copy import deepcopy"
   ]
  },
  {
   "cell_type": "code",
   "execution_count": 5,
   "id": "8b0e6357-366b-4d16-8ae4-c9cd90aef27a",
   "metadata": {
    "tags": []
   },
   "outputs": [
    {
     "name": "stdout",
     "output_type": "stream",
     "text": [
      "[INFO]: Loading pre-trained weights\n",
      "[INFO]: Fine-tuning last features layers...\n",
      "[INFO]: Number of training images: 2307,2307\n",
      "[INFO]: Number of validation images: 577,577\n",
      "[INFO]: Class names: ['Alt', 'Big', 'Mac', 'Mil', 'Myc', 'Pse', 'Syl']\n",
      "\n",
      "Computation device: cuda\n",
      "Learning rate: 2e-05\n",
      "Epochs to train for: 10\n",
      "\n",
      "33,615,815 total parameters.\n",
      "33,615,815 training parameters.\n",
      "[INFO]: Epoch 1 of 10\n",
      "Training\n"
     ]
    },
    {
     "data": {
      "application/vnd.jupyter.widget-view+json": {
       "model_id": "2e63061f89174d87b563879e2cbc4dc0",
       "version_major": 2,
       "version_minor": 0
      },
      "text/plain": [
       "  0%|          | 0/73 [00:00<?, ?it/s]"
      ]
     },
     "metadata": {},
     "output_type": "display_data"
    },
    {
     "name": "stdout",
     "output_type": "stream",
     "text": [
      "Validation\n"
     ]
    },
    {
     "data": {
      "application/vnd.jupyter.widget-view+json": {
       "model_id": "95e9a61e538543d79882d8c4465f8d4c",
       "version_major": 2,
       "version_minor": 0
      },
      "text/plain": [
       "  0%|          | 0/19 [00:00<?, ?it/s]"
      ]
     },
     "metadata": {},
     "output_type": "display_data"
    },
    {
     "name": "stdout",
     "output_type": "stream",
     "text": [
      "Training loss: 1.186, training acc: 68.704\n",
      "Validation loss: 0.335, validation acc: 94.801\n",
      "--------------------------------------------------\n",
      "[INFO]: Epoch 2 of 10\n",
      "Training\n"
     ]
    },
    {
     "data": {
      "application/vnd.jupyter.widget-view+json": {
       "model_id": "f92ba5117fd941a483fe4d16190673e1",
       "version_major": 2,
       "version_minor": 0
      },
      "text/plain": [
       "  0%|          | 0/73 [00:00<?, ?it/s]"
      ]
     },
     "metadata": {},
     "output_type": "display_data"
    },
    {
     "name": "stdout",
     "output_type": "stream",
     "text": [
      "Validation\n"
     ]
    },
    {
     "data": {
      "application/vnd.jupyter.widget-view+json": {
       "model_id": "1f107fc4a2864c38bb89674a1f7b665d",
       "version_major": 2,
       "version_minor": 0
      },
      "text/plain": [
       "  0%|          | 0/19 [00:00<?, ?it/s]"
      ]
     },
     "metadata": {},
     "output_type": "display_data"
    },
    {
     "name": "stdout",
     "output_type": "stream",
     "text": [
      "Training loss: 0.261, training acc: 94.322\n",
      "Validation loss: 0.119, validation acc: 96.707\n",
      "--------------------------------------------------\n",
      "[INFO]: Epoch 3 of 10\n",
      "Training\n"
     ]
    },
    {
     "data": {
      "application/vnd.jupyter.widget-view+json": {
       "model_id": "108fd78788c445e18adfa205f0a258eb",
       "version_major": 2,
       "version_minor": 0
      },
      "text/plain": [
       "  0%|          | 0/73 [00:00<?, ?it/s]"
      ]
     },
     "metadata": {},
     "output_type": "display_data"
    },
    {
     "name": "stdout",
     "output_type": "stream",
     "text": [
      "Validation\n"
     ]
    },
    {
     "data": {
      "application/vnd.jupyter.widget-view+json": {
       "model_id": "f46f3bd8b05141c6804c87eb12de1752",
       "version_major": 2,
       "version_minor": 0
      },
      "text/plain": [
       "  0%|          | 0/19 [00:00<?, ?it/s]"
      ]
     },
     "metadata": {},
     "output_type": "display_data"
    },
    {
     "name": "stdout",
     "output_type": "stream",
     "text": [
      "Training loss: 0.104, training acc: 97.659\n",
      "Validation loss: 0.085, validation acc: 96.880\n",
      "--------------------------------------------------\n",
      "[INFO]: Epoch 4 of 10\n",
      "Training\n"
     ]
    },
    {
     "data": {
      "application/vnd.jupyter.widget-view+json": {
       "model_id": "b96411968533414c9c2ac8df6f8c44e9",
       "version_major": 2,
       "version_minor": 0
      },
      "text/plain": [
       "  0%|          | 0/73 [00:00<?, ?it/s]"
      ]
     },
     "metadata": {},
     "output_type": "display_data"
    },
    {
     "name": "stdout",
     "output_type": "stream",
     "text": [
      "Validation\n"
     ]
    },
    {
     "data": {
      "application/vnd.jupyter.widget-view+json": {
       "model_id": "c6024987a9f843278761865828739326",
       "version_major": 2,
       "version_minor": 0
      },
      "text/plain": [
       "  0%|          | 0/19 [00:00<?, ?it/s]"
      ]
     },
     "metadata": {},
     "output_type": "display_data"
    },
    {
     "name": "stdout",
     "output_type": "stream",
     "text": [
      "Training loss: 0.047, training acc: 99.306\n",
      "Validation loss: 0.091, validation acc: 96.707\n",
      "--------------------------------------------------\n",
      "[INFO]: Epoch 5 of 10\n",
      "Training\n"
     ]
    },
    {
     "data": {
      "application/vnd.jupyter.widget-view+json": {
       "model_id": "0e3218658cf14e87be2aed6fc510048c",
       "version_major": 2,
       "version_minor": 0
      },
      "text/plain": [
       "  0%|          | 0/73 [00:00<?, ?it/s]"
      ]
     },
     "metadata": {},
     "output_type": "display_data"
    },
    {
     "name": "stdout",
     "output_type": "stream",
     "text": [
      "Validation\n"
     ]
    },
    {
     "data": {
      "application/vnd.jupyter.widget-view+json": {
       "model_id": "a96b69700b274af2a394dfd16609fe43",
       "version_major": 2,
       "version_minor": 0
      },
      "text/plain": [
       "  0%|          | 0/19 [00:00<?, ?it/s]"
      ]
     },
     "metadata": {},
     "output_type": "display_data"
    },
    {
     "name": "stdout",
     "output_type": "stream",
     "text": [
      "Training loss: 0.027, training acc: 99.480\n",
      "Validation loss: 0.082, validation acc: 97.227\n",
      "--------------------------------------------------\n",
      "[INFO]: Epoch 6 of 10\n",
      "Training\n"
     ]
    },
    {
     "data": {
      "application/vnd.jupyter.widget-view+json": {
       "model_id": "897829b8d90f40149a82f194e9be706c",
       "version_major": 2,
       "version_minor": 0
      },
      "text/plain": [
       "  0%|          | 0/73 [00:00<?, ?it/s]"
      ]
     },
     "metadata": {},
     "output_type": "display_data"
    },
    {
     "name": "stdout",
     "output_type": "stream",
     "text": [
      "Validation\n"
     ]
    },
    {
     "data": {
      "application/vnd.jupyter.widget-view+json": {
       "model_id": "2f44bf3693024ab4a33bd3dad41b8576",
       "version_major": 2,
       "version_minor": 0
      },
      "text/plain": [
       "  0%|          | 0/19 [00:00<?, ?it/s]"
      ]
     },
     "metadata": {},
     "output_type": "display_data"
    },
    {
     "name": "stdout",
     "output_type": "stream",
     "text": [
      "Training loss: 0.017, training acc: 99.870\n",
      "Validation loss: 0.089, validation acc: 97.574\n",
      "--------------------------------------------------\n",
      "[INFO]: Epoch 7 of 10\n",
      "Training\n"
     ]
    },
    {
     "data": {
      "application/vnd.jupyter.widget-view+json": {
       "model_id": "0ded1a450d33485da5e32019fcfba1d4",
       "version_major": 2,
       "version_minor": 0
      },
      "text/plain": [
       "  0%|          | 0/73 [00:00<?, ?it/s]"
      ]
     },
     "metadata": {},
     "output_type": "display_data"
    },
    {
     "name": "stdout",
     "output_type": "stream",
     "text": [
      "Validation\n"
     ]
    },
    {
     "data": {
      "application/vnd.jupyter.widget-view+json": {
       "model_id": "f6b9636890e544e49740a83b3e9636cf",
       "version_major": 2,
       "version_minor": 0
      },
      "text/plain": [
       "  0%|          | 0/19 [00:00<?, ?it/s]"
      ]
     },
     "metadata": {},
     "output_type": "display_data"
    },
    {
     "name": "stdout",
     "output_type": "stream",
     "text": [
      "Training loss: 0.011, training acc: 99.913\n",
      "Validation loss: 0.081, validation acc: 97.574\n",
      "--------------------------------------------------\n",
      "[INFO]: Epoch 8 of 10\n",
      "Training\n"
     ]
    },
    {
     "data": {
      "application/vnd.jupyter.widget-view+json": {
       "model_id": "5878925bd7e74a6c8075768754ecf4ed",
       "version_major": 2,
       "version_minor": 0
      },
      "text/plain": [
       "  0%|          | 0/73 [00:00<?, ?it/s]"
      ]
     },
     "metadata": {},
     "output_type": "display_data"
    },
    {
     "name": "stdout",
     "output_type": "stream",
     "text": [
      "Validation\n"
     ]
    },
    {
     "data": {
      "application/vnd.jupyter.widget-view+json": {
       "model_id": "906c0395b0e24f6ba37b9d7eccb2ce36",
       "version_major": 2,
       "version_minor": 0
      },
      "text/plain": [
       "  0%|          | 0/19 [00:00<?, ?it/s]"
      ]
     },
     "metadata": {},
     "output_type": "display_data"
    },
    {
     "name": "stdout",
     "output_type": "stream",
     "text": [
      "Training loss: 0.006, training acc: 100.000\n",
      "Validation loss: 0.077, validation acc: 97.574\n",
      "--------------------------------------------------\n",
      "[INFO]: Epoch 9 of 10\n",
      "Training\n"
     ]
    },
    {
     "data": {
      "application/vnd.jupyter.widget-view+json": {
       "model_id": "9b712f3cade84c6ca49fb7c970d6d415",
       "version_major": 2,
       "version_minor": 0
      },
      "text/plain": [
       "  0%|          | 0/73 [00:00<?, ?it/s]"
      ]
     },
     "metadata": {},
     "output_type": "display_data"
    },
    {
     "name": "stdout",
     "output_type": "stream",
     "text": [
      "Validation\n"
     ]
    },
    {
     "data": {
      "application/vnd.jupyter.widget-view+json": {
       "model_id": "44129e102465456493d8832972f454ff",
       "version_major": 2,
       "version_minor": 0
      },
      "text/plain": [
       "  0%|          | 0/19 [00:00<?, ?it/s]"
      ]
     },
     "metadata": {},
     "output_type": "display_data"
    },
    {
     "name": "stdout",
     "output_type": "stream",
     "text": [
      "Training loss: 0.004, training acc: 100.000\n",
      "Validation loss: 0.079, validation acc: 97.227\n",
      "--------------------------------------------------\n",
      "[INFO]: Epoch 10 of 10\n",
      "Training\n"
     ]
    },
    {
     "data": {
      "application/vnd.jupyter.widget-view+json": {
       "model_id": "5188c5f2109c443e8ad3eb6ddac8e0db",
       "version_major": 2,
       "version_minor": 0
      },
      "text/plain": [
       "  0%|          | 0/73 [00:00<?, ?it/s]"
      ]
     },
     "metadata": {},
     "output_type": "display_data"
    },
    {
     "name": "stdout",
     "output_type": "stream",
     "text": [
      "Validation\n"
     ]
    },
    {
     "data": {
      "application/vnd.jupyter.widget-view+json": {
       "model_id": "c51b2026a9564956a5e44021c45f590d",
       "version_major": 2,
       "version_minor": 0
      },
      "text/plain": [
       "  0%|          | 0/19 [00:00<?, ?it/s]"
      ]
     },
     "metadata": {},
     "output_type": "display_data"
    },
    {
     "name": "stdout",
     "output_type": "stream",
     "text": [
      "Training loss: 0.003, training acc: 100.000\n",
      "Validation loss: 0.082, validation acc: 97.400\n",
      "--------------------------------------------------\n"
     ]
    },
    {
     "data": {
      "image/png": "[encoded data removed]",
      "text/plain": [
       "<Figure size 1000x700 with 1 Axes>"
      ]
     },
     "metadata": {},
     "output_type": "display_data"
    },
    {
     "data": {
      "image/png": "[encoded data removed]",
      "text/plain": [
       "<Figure size 1000x700 with 1 Axes>"
      ]
     },
     "metadata": {},
     "output_type": "display_data"
    }
   ],
   "source": [
    "class Identity(torch.nn.Module):\n",
    "    def __init__(self):\n",
    "        super(Identity, self).__init__()\n",
    "        \n",
    "    def forward(self, x):\n",
    "        return x\n",
    "\n",
    "def modified_resnet(model):\n",
    "    model.fc = Identity()\n",
    "    return model\n",
    "\n",
    "def modified_densenet(model):\n",
    "    model.classifier = Identity()\n",
    "    return model \n",
    "\n",
    "DATA_CONFIG={\n",
    "                'ROOT_DIR': '/home/onyxia/work/data/Images_ROI/Images_ROI_Typ_for_multiview/',\n",
    "                'VALID_SPLIT': 0.2,\n",
    "                'TEST_SPLIT': 0.5,\n",
    "                'IMAGE_SIZE': 224,  # Image size of resize when applying transforms.\n",
    "                'BATCH_SIZE': 32,\n",
    "                'NUM_WORKERS': 0\n",
    "                }\n",
    "\n",
    "torch.cuda.empty_cache()\n",
    "models = [{'model':torchvision.models.efficientnet_b5(weights='IMAGENET1K_V1'),\n",
    "                                      'avgpool':torch.nn.AdaptiveAvgPool2d(1),\n",
    "                                      'last_layer_size':2048,\n",
    "                                      'model_name' : 'EfficientNet',\n",
    "                                       'features' : None\n",
    "          },\n",
    "          {'model':torchvision.models.densenet121(weights='IMAGENET1K_V1'),\n",
    "                                  'avgpool':None,\n",
    "                                  'last_layer_size':1024,\n",
    "                                  'model_name' : 'DenseNet121',\n",
    "                                   'features' : modified_densenet(torchvision.models.densenet121(weights='IMAGENET1K_V1')),\n",
    "            },\n",
    "          {'model':torchvision.models.resnet50(weights='IMAGENET1K_V1'),\n",
    "                                  'avgpool':None,\n",
    "                                  'last_layer_size':2048,\n",
    "                                  'model_name' : 'ResNet50',\n",
    "                                   'features' : modified_resnet(torchvision.models.resnet50(weights='IMAGENET1K_V1'))\n",
    "            },\n",
    "          {'model':torchvision.models.vgg16(weights='IMAGENET1K_V1'),\n",
    "                                  'avgpool':torch.nn.AdaptiveAvgPool2d((1,1)),\n",
    "                                  'last_layer_size':512,\n",
    "                                  'model_name' : 'VGG',\n",
    "                                   'features' : None\n",
    "            },\n",
    "          \n",
    "          {'model':torchvision.models.resnet152(weights='IMAGENET1K_V1'),\n",
    "                                  'avgpool':None,\n",
    "                                  'last_layer_size':2048,\n",
    "                                  'model_name' : 'ResNet152',\n",
    "                                   'features' : modified_resnet(torchvision.models.resnet152(weights='IMAGENET1K_V1'))\n",
    "            }\n",
    "          \n",
    "]\n",
    "\n",
    "model_config = {'learning_rate' : 0.00002,\n",
    "                \"epochs\" : 10,\n",
    "                \"pretrained\":True,\n",
    "                \"fine_tune\":True,\n",
    "                \"model_recto\": deepcopy(models[2]),\n",
    "                \"model_verso\": deepcopy(models[1]),\n",
    "                         }\n",
    "torch.cuda.empty_cache()\n",
    "trainer = TrainMultiInputModel(model_config,DATA_CONFIG)\n",
    "trainer.train_and_validate()"
   ]
  },
  {
   "cell_type": "code",
   "execution_count": 6,
   "id": "f9cb1474-8247-4965-a179-1ecba4de37e0",
   "metadata": {
    "tags": []
   },
   "outputs": [
    {
     "name": "stderr",
     "output_type": "stream",
     "text": [
      "100%|██████████| 91/91 [00:32<00:00,  2.77it/s]"
     ]
    },
    {
     "name": "stdout",
     "output_type": "stream",
     "text": [
      "2885\n"
     ]
    },
    {
     "name": "stderr",
     "output_type": "stream",
     "text": [
      "\n"
     ]
    }
   ],
   "source": [
    "y_obs = []\n",
    "for i, recto in tqdm(enumerate(trainer.testRectoloader), total=len(trainer.testVersoloader)):\n",
    "        _, labels = recto\n",
    "        y_obs.append(labels.tolist())\n",
    "y_obs = [item for sublist in y_obs for item in sublist]\n",
    "#print(Counter(y_obs))\n",
    "print(len(y_obs))"
   ]
  },
  {
   "cell_type": "code",
   "execution_count": 8,
   "id": "afcb8c65-d6d5-425e-8af3-fe4c06d19ed0",
   "metadata": {
    "tags": []
   },
   "outputs": [
    {
     "name": "stdout",
     "output_type": "stream",
     "text": [
      "[INFO]: Loading pre-trained weights\n",
      "[INFO]: Fine-tuning last features layers...\n"
     ]
    },
    {
     "data": {
      "application/vnd.jupyter.widget-view+json": {
       "model_id": "fd7a4a5b686a47d186d13582c50e2e20",
       "version_major": 2,
       "version_minor": 0
      },
      "text/plain": [
       "  0%|          | 0/91 [00:00<?, ?it/s]"
      ]
     },
     "metadata": {},
     "output_type": "display_data"
    },
    {
     "name": "stdout",
     "output_type": "stream",
     "text": [
      "Warning! No positional inputs found for a module, assuming batch size is 1.\n"
     ]
    }
   ],
   "source": [
    "def input_constructor(input_res):\n",
    "            recto = torch.ones(()).new_empty((1, *input_res),\n",
    "                                                     device=trainer.device) \n",
    "            verso = torch.ones(()).new_empty((1, *input_res),\n",
    "                                                     device=trainer.device)\n",
    "            return {\"two_views\": [recto,verso]}\n",
    "\n",
    "lb=[\"Alt\",\"Big\",\"Mac\",\"Mil\",\"Myc\",\"Pse\",\"Syl\"]\n",
    "le = preprocessing.LabelEncoder()\n",
    "le.fit(lb)\n",
    "\n",
    "\n",
    "output_res50_dense121 = {}\n",
    "temp = {}\n",
    "model_config = {'learning_rate' : 0.00002,\n",
    "            \"epochs\" : 10,\n",
    "            \"pretrained\":True,\n",
    "            \"fine_tune\":True,\n",
    "            \"model_recto\":deepcopy(models[2]),\n",
    "            \"model_verso\":deepcopy(models[1]),\n",
    "         }\n",
    "torch.cuda.empty_cache()\n",
    "trainer = TrainMultiInputModel(model_config,DATA_CONFIG)\n",
    "#model_recto = models[2]\n",
    "#model_verso =   models[2]           \n",
    "#model = MultiInputModel(model_recto,model_verso,pretrained=True, fine_tune=True,num_classes=7)\n",
    "checkpoint = torch.load(f'{trainer.main_path}/outputs/model_recto_{models[2][\"model_name\"]}_model_verso_{models[1][\"model_name\"]}_epochs_10_lr_2e-05_batch_size_32_pretrained_True_fine_tune_True.pth', map_location=\"cuda\")\n",
    "#model.load_state_dict({cle: checkpoint['model_state_dict'][cle] for cle in checkpoint['model_state_dict'].keys() if not cle.startswith(\"modelRecto.\") and not cle.startswith(\"modelVerso.\")})\n",
    "trainer.model.load_state_dict(checkpoint['model_state_dict'])\n",
    "trainer.model = trainer.model.to(trainer.device)\n",
    "#trainer.model = model\n",
    "preds, max_probs, all_probs = trainer.predict(trainer.testRectoloader,trainer.testVersoloader)\n",
    "macs,_ = ptf.get_model_complexity_info(trainer.model, (3, 224, 224), as_strings=False,\n",
    "                                       print_per_layer_stat=False, verbose=False,input_constructor = input_constructor)\n",
    "output_res50_dense121 = {\n",
    "\"pred\" : le.inverse_transform(preds).tolist(),\n",
    "\"max_probs\" : max_probs,\n",
    "\"all_probs\" : all_probs,\n",
    "\"accuracy\" : accuracy_score(y_obs,preds),\n",
    "\"balanced_accuracy\" : balanced_accuracy_score(y_obs,preds),\n",
    "\"precision_micro\" : precision_score(y_obs,preds,average=\"micro\"),\n",
    "\"recall_micro\" : recall_score(y_obs,preds,average=\"micro\"),\n",
    "\"precision_micro\" : precision_score(y_obs,preds,average=\"micro\"),\n",
    "\"recall_micro\" : recall_score(y_obs,preds,average=\"micro\"),\n",
    "\"roc_auc_micro\" : roc_auc_score(y_obs,all_probs,average=\"micro\",multi_class='ovr'),\n",
    "\"f1_score_micro\" : f1_score(y_obs,preds,average=\"micro\"),\n",
    "\"precision_weighted\" : precision_score(y_obs,preds,average=\"weighted\"),\n",
    "\"recall_weighted\" : recall_score(y_obs,preds,average=\"weighted\"),\n",
    "\"precision_weighted\" : precision_score(y_obs,preds,average=\"weighted\"),\n",
    "\"recall_weighted\" : recall_score(y_obs,preds,average=\"weighted\"),\n",
    "\"roc_auc_weighted\" : roc_auc_score(y_obs,all_probs,average=\"weighted\",multi_class='ovo'),\n",
    "\"f1_score_weighted\" : f1_score(y_obs,preds,average=\"weighted\"),\n",
    "\"nb_trainable_parameters\" : sum(\n",
    "p.numel() for p in trainer.model.parameters() if p.requires_grad),\n",
    "\"nb_parameters\" : sum(\n",
    "p.numel() for p in trainer.model.parameters()),\n",
    "\"macs\" : macs\n",
    "}"
   ]
  },
  {
   "cell_type": "code",
   "execution_count": 9,
   "id": "2a852a39-f9ee-40e6-a93f-8297fcfbe901",
   "metadata": {
    "tags": []
   },
   "outputs": [
    {
     "data": {
      "text/plain": [
       "0.97157712305026"
      ]
     },
     "execution_count": 9,
     "metadata": {},
     "output_type": "execute_result"
    }
   ],
   "source": [
    "output_res50_dense121[\"accuracy\"]"
   ]
  }
 ],
 "metadata": {
  "kernelspec": {
   "display_name": "Python 3 (ipykernel)",
   "language": "python",
   "name": "python3"
  },
  "language_info": {
   "codemirror_mode": {
    "name": "ipython",
    "version": 3
   },
   "file_extension": ".py",
   "mimetype": "text/x-python",
   "name": "python",
   "nbconvert_exporter": "python",
   "pygments_lexer": "ipython3",
   "version": "3.10.9"
  }
 },
 "nbformat": 4,
 "nbformat_minor": 5
}
