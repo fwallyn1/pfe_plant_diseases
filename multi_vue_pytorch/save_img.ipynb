{
 "cells": [
  {
   "cell_type": "code",
   "execution_count": 1,
   "id": "a254bb82-d975-421e-8815-e8da5c8aa7d8",
   "metadata": {
    "tags": []
   },
   "outputs": [],
   "source": [
    "%load_ext autoreload\n",
    "%autoreload 2"
   ]
  },
  {
   "cell_type": "markdown",
   "id": "ae1340f1",
   "metadata": {},
   "source": [
    "# COMPUTE AND SAVE MULTI VIEW GRAD CAM"
   ]
  },
  {
   "cell_type": "code",
   "execution_count": 3,
   "id": "b990ca2f-6681-400a-a628-2ebc1c8b6dda",
   "metadata": {
    "tags": []
   },
   "outputs": [],
   "source": [
    "from train_multiview_network import TrainMultiInputModel\n",
    "from multi_view_classification_network import MultiInputModel\n",
    "from data_loader import CustomDataSet, MultiInputLoader\n",
    "from testMV_GC import GradCam\n",
    "from visualisation_utils import image_net_postprocessing, NormalizeInverse\n",
    "from config import get_config, get_aty_data_config, get_ext_data_config\n",
    "import torch\n",
    "import torch.nn as nn\n",
    "import torch.nn.functional as F\n",
    "from tqdm import tqdm\n",
    "from torchvision import datasets\n",
    "from sklearn import preprocessing\n",
    "from sklearn.metrics import confusion_matrix, ConfusionMatrixDisplay, balanced_accuracy_score, accuracy_score\n",
    "import matplotlib\n",
    "import matplotlib.pyplot as plt\n",
    "import numpy as np\n",
    "import pandas as pd\n",
    "import cv2\n",
    "import os\n",
    "from PIL import Image\n",
    "from pytorch_grad_cam_adapt.activations_and_gradients import ActivationsAndGradients\n",
    "from pytorch_grad_cam_adapt.image import scale_cam_image, tensor2cam, subplot, vis_outs2images_classes,image2cam,tensor2img, show_cam_on_image\n",
    "from pytorch_grad_cam_adapt.model_targets import ClassifierOutputTarget\n",
    "from pytorch_grad_cam_adapt.grad_cam import GradCAM\n",
    "from pytorch_grad_cam_adapt.guided_backprop import GuidedBackpropReLUModel"
   ]
  },
  {
   "cell_type": "markdown",
   "id": "57f670a4-bec8-4ae2-a3db-5e18ff5c8aab",
   "metadata": {},
   "source": [
    "# Save Grad CAM "
   ]
  },
  {
   "cell_type": "code",
   "execution_count": 4,
   "id": "21191e2f-12fa-49f0-91a5-67b2d68ec074",
   "metadata": {
    "tags": []
   },
   "outputs": [
    {
     "name": "stdout",
     "output_type": "stream",
     "text": [
      "[INFO]: Loading pre-trained weights\n",
      "[INFO]: Freezing hidden layers...\n",
      "[INFO]: Loading pre-trained weights\n",
      "[INFO]: Freezing hidden layers...\n",
      "Loading trained model weights...\n"
     ]
    },
    {
     "data": {
      "text/html": [
       "<style>#sk-container-id-1 {color: black;background-color: white;}#sk-container-id-1 pre{padding: 0;}#sk-container-id-1 div.sk-toggleable {background-color: white;}#sk-container-id-1 label.sk-toggleable__label {cursor: pointer;display: block;width: 100%;margin-bottom: 0;padding: 0.3em;box-sizing: border-box;text-align: center;}#sk-container-id-1 label.sk-toggleable__label-arrow:before {content: \"▸\";float: left;margin-right: 0.25em;color: #696969;}#sk-container-id-1 label.sk-toggleable__label-arrow:hover:before {color: black;}#sk-container-id-1 div.sk-estimator:hover label.sk-toggleable__label-arrow:before {color: black;}#sk-container-id-1 div.sk-toggleable__content {max-height: 0;max-width: 0;overflow: hidden;text-align: left;background-color: #f0f8ff;}#sk-container-id-1 div.sk-toggleable__content pre {margin: 0.2em;color: black;border-radius: 0.25em;background-color: #f0f8ff;}#sk-container-id-1 input.sk-toggleable__control:checked~div.sk-toggleable__content {max-height: 200px;max-width: 100%;overflow: auto;}#sk-container-id-1 input.sk-toggleable__control:checked~label.sk-toggleable__label-arrow:before {content: \"▾\";}#sk-container-id-1 div.sk-estimator input.sk-toggleable__control:checked~label.sk-toggleable__label {background-color: #d4ebff;}#sk-container-id-1 div.sk-label input.sk-toggleable__control:checked~label.sk-toggleable__label {background-color: #d4ebff;}#sk-container-id-1 input.sk-hidden--visually {border: 0;clip: rect(1px 1px 1px 1px);clip: rect(1px, 1px, 1px, 1px);height: 1px;margin: -1px;overflow: hidden;padding: 0;position: absolute;width: 1px;}#sk-container-id-1 div.sk-estimator {font-family: monospace;background-color: #f0f8ff;border: 1px dotted black;border-radius: 0.25em;box-sizing: border-box;margin-bottom: 0.5em;}#sk-container-id-1 div.sk-estimator:hover {background-color: #d4ebff;}#sk-container-id-1 div.sk-parallel-item::after {content: \"\";width: 100%;border-bottom: 1px solid gray;flex-grow: 1;}#sk-container-id-1 div.sk-label:hover label.sk-toggleable__label {background-color: #d4ebff;}#sk-container-id-1 div.sk-serial::before {content: \"\";position: absolute;border-left: 1px solid gray;box-sizing: border-box;top: 0;bottom: 0;left: 50%;z-index: 0;}#sk-container-id-1 div.sk-serial {display: flex;flex-direction: column;align-items: center;background-color: white;padding-right: 0.2em;padding-left: 0.2em;position: relative;}#sk-container-id-1 div.sk-item {position: relative;z-index: 1;}#sk-container-id-1 div.sk-parallel {display: flex;align-items: stretch;justify-content: center;background-color: white;position: relative;}#sk-container-id-1 div.sk-item::before, #sk-container-id-1 div.sk-parallel-item::before {content: \"\";position: absolute;border-left: 1px solid gray;box-sizing: border-box;top: 0;bottom: 0;left: 50%;z-index: -1;}#sk-container-id-1 div.sk-parallel-item {display: flex;flex-direction: column;z-index: 1;position: relative;background-color: white;}#sk-container-id-1 div.sk-parallel-item:first-child::after {align-self: flex-end;width: 50%;}#sk-container-id-1 div.sk-parallel-item:last-child::after {align-self: flex-start;width: 50%;}#sk-container-id-1 div.sk-parallel-item:only-child::after {width: 0;}#sk-container-id-1 div.sk-dashed-wrapped {border: 1px dashed gray;margin: 0 0.4em 0.5em 0.4em;box-sizing: border-box;padding-bottom: 0.4em;background-color: white;}#sk-container-id-1 div.sk-label label {font-family: monospace;font-weight: bold;display: inline-block;line-height: 1.2em;}#sk-container-id-1 div.sk-label-container {text-align: center;}#sk-container-id-1 div.sk-container {/* jupyter's `normalize.less` sets `[hidden] { display: none; }` but bootstrap.min.css set `[hidden] { display: none !important; }` so we also need the `!important` here to be able to override the default hidden behavior on the sphinx rendered scikit-learn.org. See: https://github.com/scikit-learn/scikit-learn/issues/21755 */display: inline-block !important;position: relative;}#sk-container-id-1 div.sk-text-repr-fallback {display: none;}</style><div id=\"sk-container-id-1\" class=\"sk-top-container\"><div class=\"sk-text-repr-fallback\"><pre>LabelEncoder()</pre><b>In a Jupyter environment, please rerun this cell to show the HTML representation or trust the notebook. <br />On GitHub, the HTML representation is unable to render, please try loading this page with nbviewer.org.</b></div><div class=\"sk-container\" hidden><div class=\"sk-item\"><div class=\"sk-estimator sk-toggleable\"><input class=\"sk-toggleable__control sk-hidden--visually\" id=\"sk-estimator-id-1\" type=\"checkbox\" checked><label for=\"sk-estimator-id-1\" class=\"sk-toggleable__label sk-toggleable__label-arrow\">LabelEncoder</label><div class=\"sk-toggleable__content\"><pre>LabelEncoder()</pre></div></div></div></div></div>"
      ],
      "text/plain": [
       "LabelEncoder()"
      ]
     },
     "execution_count": 4,
     "metadata": {},
     "output_type": "execute_result"
    }
   ],
   "source": [
    "torch.cuda.empty_cache()\n",
    "model_config, data_config = get_config()\n",
    "trainer = TrainMultiInputModel(model_config,data_config)\n",
    "model_recto = model_config['model_recto']\n",
    "model_verso =   model_config['model_verso']            \n",
    "model = MultiInputModel(model_recto,model_verso,pretrained=True, fine_tune=model_config['fine_tune'], num_classes=7)\n",
    "model_name = 'model_recto_ResNet50_model_verso_ResNet50_epochs_30_lr_0.001_batch_size_32_pretrained_True_fine_tune_False'\n",
    "checkpoint = torch.load(f'{trainer.main_path}/outputs/'+model_name+'.pth', map_location=\"cuda\")\n",
    "print('Loading trained model weights...')\n",
    "model.load_state_dict(checkpoint['model_state_dict'])\n",
    "model = model.to(trainer.device)\n",
    "\n",
    "lb=[\"Alt\",\"Big\",\"Mac\",\"Mil\",\"Myc\",\"Pse\",\"Syl\"]\n",
    "le = preprocessing.LabelEncoder()\n",
    "le.fit(lb) "
   ]
  },
  {
   "cell_type": "code",
   "execution_count": 9,
   "id": "70a00a4d-b425-4322-b394-84ebb4018a8b",
   "metadata": {
    "tags": []
   },
   "outputs": [],
   "source": [
    "target_layers = [[model.modelRecto_features.layer4],[model.modelVerso_features.layer4]]\n",
    "gb_model = GuidedBackpropReLUModel(model=model, use_cuda=True)\n",
    "gc_model = GradCAM(model=model, target_layers=target_layers, use_cuda=True)"
   ]
  },
  {
   "cell_type": "markdown",
   "id": "6a0a8909-2701-46eb-973f-be4bccc085ce",
   "metadata": {},
   "source": [
    "### Retrieve path"
   ]
  },
  {
   "cell_type": "markdown",
   "id": "dd02b81e-5303-404a-b759-e60b379b404a",
   "metadata": {},
   "source": [
    "#### Typique"
   ]
  },
  {
   "cell_type": "code",
   "execution_count": 10,
   "id": "bf67e04d-302d-440b-abf7-6cdfe9b750c6",
   "metadata": {
    "tags": []
   },
   "outputs": [],
   "source": [
    "datasetRecto_test_datafolder = datasets.ImageFolder(\n",
    "           trainer.loader.root_dir +'RECTO', \n",
    "            #transform=(self.get_test_transform())\n",
    "        )\n",
    "datasetVerso_test_datafolder = datasets.ImageFolder(\n",
    "           trainer.loader.root_dir +'VERSO', \n",
    "            #transform=(self.get_test_transform())\n",
    "        )"
   ]
  },
  {
   "cell_type": "code",
   "execution_count": 11,
   "id": "6ef44763-9a42-4adf-aadb-90398cce31bd",
   "metadata": {
    "tags": []
   },
   "outputs": [],
   "source": [
    "PATH_TESTS_DATASET_RECTO = []\n",
    "PATH_TESTS_DATASET_VERSO = []\n",
    "indices = trainer.datasetRecto_test.indices\n",
    "for ind in indices:\n",
    "    PATH_TESTS_DATASET_RECTO.append(os.path.basename(datasetRecto_test_datafolder.samples[ind][0]))\n",
    "    PATH_TESTS_DATASET_VERSO.append(os.path.basename(datasetVerso_test_datafolder.samples[ind][0]))"
   ]
  },
  {
   "cell_type": "markdown",
   "id": "a4069e46-9fd4-454d-9229-f0f7456695c6",
   "metadata": {},
   "source": [
    "#### Aty & Ext"
   ]
  },
  {
   "cell_type": "code",
   "execution_count": 12,
   "id": "9b6bc9c6-2e6d-445e-9186-863f77951017",
   "metadata": {
    "tags": []
   },
   "outputs": [],
   "source": [
    "data_aty_config = get_aty_data_config()\n",
    "data_ext_config = get_ext_data_config()\n",
    "aty_loader = MultiInputLoader(data_aty_config)\n",
    "atydatasetRecto, atydatasetVerso = aty_loader.get_datasets()\n",
    "\n",
    "ext_loader = MultiInputLoader(data_ext_config)\n",
    "extdatasetRecto, extdatasetVerso = ext_loader.get_datasets()"
   ]
  },
  {
   "cell_type": "code",
   "execution_count": 13,
   "id": "6359fc12-9063-4cd1-85ce-9b394523cf36",
   "metadata": {
    "tags": []
   },
   "outputs": [],
   "source": [
    "PATH_ATY_DATASET_RECTO = [os.path.basename(path) for path in atydatasetRecto.all_imgs]\n",
    "PATH_ATY_DATASET_VERSO = [os.path.basename(path) for path in atydatasetVerso.all_imgs]\n",
    "PATH_EXT_DATASET_RECTO = [os.path.basename(path) for path in extdatasetRecto.all_imgs]\n",
    "PATH_EXT_DATASET_VERSO = [os.path.basename(path) for path in extdatasetVerso.all_imgs]"
   ]
  },
  {
   "cell_type": "markdown",
   "id": "d048db8f-88a8-4209-b384-746f074d5691",
   "metadata": {},
   "source": [
    "### Save Image function"
   ]
  },
  {
   "cell_type": "code",
   "execution_count": 18,
   "id": "bdd85930-4bc7-4ff2-a30e-fc4a1e78b3d5",
   "metadata": {
    "tags": []
   },
   "outputs": [
    {
     "name": "stdout",
     "output_type": "stream",
     "text": [
      "model_recto_ResNet50_model_verso_ResNet50_epochs_30_lr_0.001_batch_size_32_pretrained_True_fine_tune_False\n"
     ]
    }
   ],
   "source": [
    "print(model_name)"
   ]
  },
  {
   "cell_type": "code",
   "execution_count": 19,
   "id": "56679cac-988e-471f-9110-73b85988cbf0",
   "metadata": {
    "tags": []
   },
   "outputs": [],
   "source": [
    "if not os.path.exists(os.path.join(\"/home\",\"onyxia\",\"work\",\"gradcam_images\",model_name)):\n",
    "    os.mkdir(os.path.join(\"/\",\"home\",\"onyxia\",\"work\",\"gradcam_images\",\"model_recto_ResNet50_model_verso_ResNet50_epochs_30_lr_0.001_batch_size_32_pretrained_True_fine_tune_False\"))"
   ]
  },
  {
   "cell_type": "code",
   "execution_count": 8,
   "id": "563f6dea-88fd-4b29-a73c-b7f29e5b09c2",
   "metadata": {
    "tags": []
   },
   "outputs": [],
   "source": [
    "if not os.path.exists(os.path.join(\"/home\",\"onyxia\",\"work\",\"gradcam_images\",\"ext_for_report\",model_name)):\n",
    "    os.mkdir(os.path.join(\"/\",\"home\",\"onyxia\",\"work\",\"gradcam_images\",\"ext_for_report\",\"model_recto_ResNet50_model_verso_ResNet50_epochs_30_lr_0.001_batch_size_32_pretrained_True_fine_tune_False\"))"
   ]
  },
  {
   "cell_type": "code",
   "execution_count": 14,
   "id": "ec0370fb-5cfe-4ed3-bbc8-3280c817aa75",
   "metadata": {
    "tags": []
   },
   "outputs": [],
   "source": [
    "def compute_and_save_gradcam(input_recto,input_verso,filenames):\n",
    "    gc_filenames = [os.path.join(\"/home\",\"onyxia\",\"work\",\"gradcam_images\",model_name,os.path.splitext(filenames[0])[0]+\"_GRAD_CAM.jpeg\"),\n",
    "                    os.path.join(\"/home\",\"onyxia\",\"work\",\"gradcam_images\",model_name,os.path.splitext(filenames[1])[0]+\"_GRAD_CAM.jpeg\")]\n",
    "    cam_gb_filenames = [os.path.join(\"/home\",\"onyxia\",\"work\",\"gradcam_images\",model_name,os.path.splitext(filenames[0])[0]+\"_GUIDED_GRAD_CAM.jpeg\"),\n",
    "                        os.path.join(\"/home\",\"onyxia\",\"work\",\"gradcam_images\",model_name,os.path.splitext(filenames[1])[0]+\"_GUIDED_GRAD_CAM.jpeg\")]\n",
    "    gb = gb_model([input_recto,input_verso], target_category=None)\n",
    "    gc = gc_model(input_tensors = [input_recto, input_verso],targets = None)\n",
    "    recto_cam = gc[0][0][0]\n",
    "    recto_gb = gb[0]\n",
    "\n",
    "    verso_cam = gc[0][1][0]\n",
    "    verso_gb = gb[1]\n",
    "\n",
    "    recto_cam_gb = np.zeros(shape=(224,224,3))\n",
    "    verso_cam_gb = np.zeros(shape=(224,224,3))\n",
    "    for i in range(3):                  \n",
    "        recto_cam_gb[:,:,i] = np.multiply(recto_gb[:,:,i],recto_cam)\n",
    "        recto_cam_gb[:,:,i] = recto_cam_gb[:,:,i] - np.min(recto_cam_gb[:,:,i])\n",
    "        recto_cam_gb[:,:,i] = recto_cam_gb[:,:,i] / (1e-7 + np.max(recto_cam_gb[:,:,i]))\n",
    "        recto_cam_gb[:,:,i] = np.float32(recto_cam_gb[:,:,i])\n",
    "        verso_cam_gb[:,:,i] = np.multiply(verso_gb[:,:,i],verso_cam)\n",
    "        verso_cam_gb[:,:,i] = verso_cam_gb[:,:,i] - np.min(verso_cam_gb[:,:,i])\n",
    "        verso_cam_gb[:,:,i] = verso_cam_gb[:,:,i] / (1e-7 + np.max(verso_cam_gb[:,:,i]))\n",
    "        verso_cam_gb[:,:,i] = np.float32(verso_cam_gb[:,:,i])\n",
    "        \n",
    "    recto_cam_gb = cv2.cvtColor(recto_cam_gb.astype('float32'),cv2.COLOR_BGR2RGB)\n",
    "    verso_cam_gb = cv2.cvtColor(verso_cam_gb.astype('float32'),cv2.COLOR_BGR2RGB)\n",
    "    recto_gc = image2cam(image_net_postprocessing(input_recto),recto_cam)\n",
    "    verso_gc = image2cam(image_net_postprocessing(input_verso),verso_cam)\n",
    "    recto_gc = cv2.cvtColor(recto_gc.astype('float32'),cv2.COLOR_BGR2RGB)\n",
    "    verso_gc = cv2.cvtColor(verso_gc.astype('float32'),cv2.COLOR_BGR2RGB)\n",
    "    #Save Image\n",
    "    cv2.imwrite(gc_filenames[0],np.uint8(recto_gc*255))\n",
    "    cv2.imwrite(gc_filenames[1],np.uint8(verso_gc*255))\n",
    "    cv2.imwrite(cam_gb_filenames[0],np.uint8(recto_cam_gb*255))\n",
    "    cv2.imwrite(cam_gb_filenames[1],np.uint8(verso_cam_gb*255))\n",
    "    return gc_filenames, cam_gb_filenames"
   ]
  },
  {
   "cell_type": "markdown",
   "id": "1f2c973e-bf44-414d-8b04-1891e93b79ee",
   "metadata": {},
   "source": [
    "### Typical test images "
   ]
  },
  {
   "cell_type": "code",
   "execution_count": 16,
   "id": "6e50f603-b001-474a-8377-38d3c861aaaa",
   "metadata": {
    "tags": []
   },
   "outputs": [
    {
     "name": "stderr",
     "output_type": "stream",
     "text": [
      "100%|██████████| 2885/2885 [20:09<00:00,  2.38it/s]\n"
     ]
    }
   ],
   "source": [
    "from torch.nn import functional as F\n",
    "model.eval()\n",
    "counter=0\n",
    "outputs_test_preds= []\n",
    "outputs_test_probs = []\n",
    "real_labels = []\n",
    "filename_recto_gc = []\n",
    "filename_verso_gc = []\n",
    "filename_recto_cam_gb = []\n",
    "filename_verso_cam_gb = []\n",
    "model.eval()\n",
    "for i, (recto,verso) in tqdm(enumerate(zip(trainer.datasetRecto_test,trainer.datasetVerso_test)), total=len(trainer.datasetRecto_test)):\n",
    "    with torch.no_grad():\n",
    "        counter += 1\n",
    "        image_recto, label = recto\n",
    "        image_recto = image_recto.unsqueeze(0).to(trainer.device)\n",
    "        image_verso, _ = verso\n",
    "        image_verso = image_verso.unsqueeze(0).to(trainer.device)\n",
    "        # Forward pass.\n",
    "        outputs_test = model([image_recto,image_verso])\n",
    "        outputs_test_prob = F.softmax(outputs_test,dim=1)\n",
    "        prob , pred = torch.max(outputs_test_prob.data, 1)\n",
    "        real_labels.append(label)\n",
    "        outputs_test_preds.append(pred)\n",
    "        outputs_test_probs.append(prob)\n",
    "    # GRAD CAM STUFF\n",
    "    gc_filenames, cam_gb_filenames = compute_and_save_gradcam(image_recto,image_verso,[PATH_TESTS_DATASET_RECTO[i],PATH_TESTS_DATASET_VERSO[i]])\n",
    "    filename_recto_gc.append(os.path.basename(gc_filenames[0]))\n",
    "    filename_verso_gc.append(os.path.basename(gc_filenames [1]))\n",
    "    filename_recto_cam_gb.append(os.path.basename(cam_gb_filenames[0]))\n",
    "    filename_verso_cam_gb.append(os.path.basename(cam_gb_filenames[1]))"
   ]
  },
  {
   "cell_type": "code",
   "execution_count": 68,
   "id": "05e235b4-68f9-4a68-8541-1ac5f499558a",
   "metadata": {
    "tags": []
   },
   "outputs": [],
   "source": [
    "trainer.model = model"
   ]
  },
  {
   "cell_type": "code",
   "execution_count": 17,
   "id": "2531f156-d3e7-4b8d-8f5a-7fda92657e01",
   "metadata": {
    "tags": []
   },
   "outputs": [],
   "source": [
    "df_results_test = pd.DataFrame({\"path_test_data_recto\": PATH_TESTS_DATASET_RECTO,\n",
    "                                \"path_test_data_verso\" : PATH_TESTS_DATASET_VERSO,\n",
    "                                \"outputs_test_preds\" : [out.cpu().numpy()[0] for out in outputs_test_preds],\n",
    "                                \"outputs_test_probs\" : [out.cpu().numpy()[0] for out in outputs_test_probs],\n",
    "                                \"real_labels\" : real_labels,\n",
    "                                \"filename_recto_gc\" : filename_recto_gc,\n",
    "                                \"filename_verso_gc\" : filename_verso_gc,\n",
    "                                \"filename_recto_cam_gb\" : filename_recto_cam_gb,\n",
    "                                \"filename_verso_cam_gb\" : filename_verso_cam_gb})\n",
    "                                "
   ]
  },
  {
   "cell_type": "code",
   "execution_count": 19,
   "id": "9b96f717-4677-44a4-ab6a-667ed01d70a2",
   "metadata": {
    "tags": []
   },
   "outputs": [
    {
     "data": {
      "text/html": [
       "<div>\n",
       "<style scoped>\n",
       "    .dataframe tbody tr th:only-of-type {\n",
       "        vertical-align: middle;\n",
       "    }\n",
       "\n",
       "    .dataframe tbody tr th {\n",
       "        vertical-align: top;\n",
       "    }\n",
       "\n",
       "    .dataframe thead th {\n",
       "        text-align: right;\n",
       "    }\n",
       "</style>\n",
       "<table border=\"1\" class=\"dataframe\">\n",
       "  <thead>\n",
       "    <tr style=\"text-align: right;\">\n",
       "      <th></th>\n",
       "      <th>path_test_data_recto</th>\n",
       "      <th>path_test_data_verso</th>\n",
       "      <th>outputs_test_preds</th>\n",
       "      <th>outputs_test_probs</th>\n",
       "      <th>real_labels</th>\n",
       "      <th>filename_recto_gc</th>\n",
       "      <th>filename_verso_gc</th>\n",
       "      <th>filename_recto_cam_gb</th>\n",
       "      <th>filename_verso_cam_gb</th>\n",
       "    </tr>\n",
       "  </thead>\n",
       "  <tbody>\n",
       "    <tr>\n",
       "      <th>0</th>\n",
       "      <td>Typ_Mac_Rha_1015_Recto.jpeg</td>\n",
       "      <td>Typ_Mac_Rha_1015_Verso.jpeg</td>\n",
       "      <td>5</td>\n",
       "      <td>0.732424</td>\n",
       "      <td>2</td>\n",
       "      <td>Typ_Mac_Rha_1015_Recto_GRAD_CAM.jpeg</td>\n",
       "      <td>Typ_Mac_Rha_1015_Verso_GRAD_CAM.jpeg</td>\n",
       "      <td>Typ_Mac_Rha_1015_Recto_GUIDED_GRAD_CAM.jpeg</td>\n",
       "      <td>Typ_Mac_Rha_1015_Verso_GUIDED_GRAD_CAM.jpeg</td>\n",
       "    </tr>\n",
       "    <tr>\n",
       "      <th>1</th>\n",
       "      <td>Typ_Mil_Rha_4564_Recto.jpeg</td>\n",
       "      <td>Typ_Mil_Rha_4564_Verso.jpeg</td>\n",
       "      <td>3</td>\n",
       "      <td>0.999790</td>\n",
       "      <td>3</td>\n",
       "      <td>Typ_Mil_Rha_4564_Recto_GRAD_CAM.jpeg</td>\n",
       "      <td>Typ_Mil_Rha_4564_Verso_GRAD_CAM.jpeg</td>\n",
       "      <td>Typ_Mil_Rha_4564_Recto_GUIDED_GRAD_CAM.jpeg</td>\n",
       "      <td>Typ_Mil_Rha_4564_Verso_GUIDED_GRAD_CAM.jpeg</td>\n",
       "    </tr>\n",
       "    <tr>\n",
       "      <th>2</th>\n",
       "      <td>Typ_Big_Rhe_1406_Recto.jpeg</td>\n",
       "      <td>Typ_Big_Rhe_1406_Verso.jpeg</td>\n",
       "      <td>5</td>\n",
       "      <td>0.483821</td>\n",
       "      <td>1</td>\n",
       "      <td>Typ_Big_Rhe_1406_Recto_GRAD_CAM.jpeg</td>\n",
       "      <td>Typ_Big_Rhe_1406_Verso_GRAD_CAM.jpeg</td>\n",
       "      <td>Typ_Big_Rhe_1406_Recto_GUIDED_GRAD_CAM.jpeg</td>\n",
       "      <td>Typ_Big_Rhe_1406_Verso_GUIDED_GRAD_CAM.jpeg</td>\n",
       "    </tr>\n",
       "    <tr>\n",
       "      <th>3</th>\n",
       "      <td>Typ_Syl_Rha_0209_Recto.jpeg</td>\n",
       "      <td>Typ_Syl_Rha_0209_Verso.jpeg</td>\n",
       "      <td>6</td>\n",
       "      <td>0.999817</td>\n",
       "      <td>6</td>\n",
       "      <td>Typ_Syl_Rha_0209_Recto_GRAD_CAM.jpeg</td>\n",
       "      <td>Typ_Syl_Rha_0209_Verso_GRAD_CAM.jpeg</td>\n",
       "      <td>Typ_Syl_Rha_0209_Recto_GUIDED_GRAD_CAM.jpeg</td>\n",
       "      <td>Typ_Syl_Rha_0209_Verso_GUIDED_GRAD_CAM.jpeg</td>\n",
       "    </tr>\n",
       "    <tr>\n",
       "      <th>4</th>\n",
       "      <td>Typ_Mil_Rha_5016_Recto.jpeg</td>\n",
       "      <td>Typ_Mil_Rha_5016_Verso.jpeg</td>\n",
       "      <td>3</td>\n",
       "      <td>0.999995</td>\n",
       "      <td>3</td>\n",
       "      <td>Typ_Mil_Rha_5016_Recto_GRAD_CAM.jpeg</td>\n",
       "      <td>Typ_Mil_Rha_5016_Verso_GRAD_CAM.jpeg</td>\n",
       "      <td>Typ_Mil_Rha_5016_Recto_GUIDED_GRAD_CAM.jpeg</td>\n",
       "      <td>Typ_Mil_Rha_5016_Verso_GUIDED_GRAD_CAM.jpeg</td>\n",
       "    </tr>\n",
       "    <tr>\n",
       "      <th>5</th>\n",
       "      <td>Typ_Syl_Rha_0500_Recto.jpeg</td>\n",
       "      <td>Typ_Syl_Rha_0500_Verso.jpeg</td>\n",
       "      <td>6</td>\n",
       "      <td>0.999999</td>\n",
       "      <td>6</td>\n",
       "      <td>Typ_Syl_Rha_0500_Recto_GRAD_CAM.jpeg</td>\n",
       "      <td>Typ_Syl_Rha_0500_Verso_GRAD_CAM.jpeg</td>\n",
       "      <td>Typ_Syl_Rha_0500_Recto_GUIDED_GRAD_CAM.jpeg</td>\n",
       "      <td>Typ_Syl_Rha_0500_Verso_GUIDED_GRAD_CAM.jpeg</td>\n",
       "    </tr>\n",
       "    <tr>\n",
       "      <th>6</th>\n",
       "      <td>Typ_Pse_Rha_1773_Recto.jpeg</td>\n",
       "      <td>Typ_Pse_Rha_1773_Verso.jpeg</td>\n",
       "      <td>5</td>\n",
       "      <td>0.961986</td>\n",
       "      <td>5</td>\n",
       "      <td>Typ_Pse_Rha_1773_Recto_GRAD_CAM.jpeg</td>\n",
       "      <td>Typ_Pse_Rha_1773_Verso_GRAD_CAM.jpeg</td>\n",
       "      <td>Typ_Pse_Rha_1773_Recto_GUIDED_GRAD_CAM.jpeg</td>\n",
       "      <td>Typ_Pse_Rha_1773_Verso_GUIDED_GRAD_CAM.jpeg</td>\n",
       "    </tr>\n",
       "    <tr>\n",
       "      <th>7</th>\n",
       "      <td>Typ_Mac_Rhe_0148_Recto.jpeg</td>\n",
       "      <td>Typ_Mac_Rhe_0148_Verso.jpeg</td>\n",
       "      <td>2</td>\n",
       "      <td>0.998216</td>\n",
       "      <td>2</td>\n",
       "      <td>Typ_Mac_Rhe_0148_Recto_GRAD_CAM.jpeg</td>\n",
       "      <td>Typ_Mac_Rhe_0148_Verso_GRAD_CAM.jpeg</td>\n",
       "      <td>Typ_Mac_Rhe_0148_Recto_GUIDED_GRAD_CAM.jpeg</td>\n",
       "      <td>Typ_Mac_Rhe_0148_Verso_GUIDED_GRAD_CAM.jpeg</td>\n",
       "    </tr>\n",
       "    <tr>\n",
       "      <th>8</th>\n",
       "      <td>Typ_Mil_Rha_4616_Recto.jpeg</td>\n",
       "      <td>Typ_Mil_Rha_4616_Verso.jpeg</td>\n",
       "      <td>3</td>\n",
       "      <td>0.999988</td>\n",
       "      <td>3</td>\n",
       "      <td>Typ_Mil_Rha_4616_Recto_GRAD_CAM.jpeg</td>\n",
       "      <td>Typ_Mil_Rha_4616_Verso_GRAD_CAM.jpeg</td>\n",
       "      <td>Typ_Mil_Rha_4616_Recto_GUIDED_GRAD_CAM.jpeg</td>\n",
       "      <td>Typ_Mil_Rha_4616_Verso_GUIDED_GRAD_CAM.jpeg</td>\n",
       "    </tr>\n",
       "    <tr>\n",
       "      <th>9</th>\n",
       "      <td>Typ_Mil_Rha_4926_Recto.jpeg</td>\n",
       "      <td>Typ_Mil_Rha_4926_Verso.jpeg</td>\n",
       "      <td>3</td>\n",
       "      <td>0.999725</td>\n",
       "      <td>3</td>\n",
       "      <td>Typ_Mil_Rha_4926_Recto_GRAD_CAM.jpeg</td>\n",
       "      <td>Typ_Mil_Rha_4926_Verso_GRAD_CAM.jpeg</td>\n",
       "      <td>Typ_Mil_Rha_4926_Recto_GUIDED_GRAD_CAM.jpeg</td>\n",
       "      <td>Typ_Mil_Rha_4926_Verso_GUIDED_GRAD_CAM.jpeg</td>\n",
       "    </tr>\n",
       "  </tbody>\n",
       "</table>\n",
       "</div>"
      ],
      "text/plain": [
       "          path_test_data_recto         path_test_data_verso  \\\n",
       "0  Typ_Mac_Rha_1015_Recto.jpeg  Typ_Mac_Rha_1015_Verso.jpeg   \n",
       "1  Typ_Mil_Rha_4564_Recto.jpeg  Typ_Mil_Rha_4564_Verso.jpeg   \n",
       "2  Typ_Big_Rhe_1406_Recto.jpeg  Typ_Big_Rhe_1406_Verso.jpeg   \n",
       "3  Typ_Syl_Rha_0209_Recto.jpeg  Typ_Syl_Rha_0209_Verso.jpeg   \n",
       "4  Typ_Mil_Rha_5016_Recto.jpeg  Typ_Mil_Rha_5016_Verso.jpeg   \n",
       "5  Typ_Syl_Rha_0500_Recto.jpeg  Typ_Syl_Rha_0500_Verso.jpeg   \n",
       "6  Typ_Pse_Rha_1773_Recto.jpeg  Typ_Pse_Rha_1773_Verso.jpeg   \n",
       "7  Typ_Mac_Rhe_0148_Recto.jpeg  Typ_Mac_Rhe_0148_Verso.jpeg   \n",
       "8  Typ_Mil_Rha_4616_Recto.jpeg  Typ_Mil_Rha_4616_Verso.jpeg   \n",
       "9  Typ_Mil_Rha_4926_Recto.jpeg  Typ_Mil_Rha_4926_Verso.jpeg   \n",
       "\n",
       "   outputs_test_preds  outputs_test_probs  real_labels  \\\n",
       "0                   5            0.732424            2   \n",
       "1                   3            0.999790            3   \n",
       "2                   5            0.483821            1   \n",
       "3                   6            0.999817            6   \n",
       "4                   3            0.999995            3   \n",
       "5                   6            0.999999            6   \n",
       "6                   5            0.961986            5   \n",
       "7                   2            0.998216            2   \n",
       "8                   3            0.999988            3   \n",
       "9                   3            0.999725            3   \n",
       "\n",
       "                      filename_recto_gc                     filename_verso_gc  \\\n",
       "0  Typ_Mac_Rha_1015_Recto_GRAD_CAM.jpeg  Typ_Mac_Rha_1015_Verso_GRAD_CAM.jpeg   \n",
       "1  Typ_Mil_Rha_4564_Recto_GRAD_CAM.jpeg  Typ_Mil_Rha_4564_Verso_GRAD_CAM.jpeg   \n",
       "2  Typ_Big_Rhe_1406_Recto_GRAD_CAM.jpeg  Typ_Big_Rhe_1406_Verso_GRAD_CAM.jpeg   \n",
       "3  Typ_Syl_Rha_0209_Recto_GRAD_CAM.jpeg  Typ_Syl_Rha_0209_Verso_GRAD_CAM.jpeg   \n",
       "4  Typ_Mil_Rha_5016_Recto_GRAD_CAM.jpeg  Typ_Mil_Rha_5016_Verso_GRAD_CAM.jpeg   \n",
       "5  Typ_Syl_Rha_0500_Recto_GRAD_CAM.jpeg  Typ_Syl_Rha_0500_Verso_GRAD_CAM.jpeg   \n",
       "6  Typ_Pse_Rha_1773_Recto_GRAD_CAM.jpeg  Typ_Pse_Rha_1773_Verso_GRAD_CAM.jpeg   \n",
       "7  Typ_Mac_Rhe_0148_Recto_GRAD_CAM.jpeg  Typ_Mac_Rhe_0148_Verso_GRAD_CAM.jpeg   \n",
       "8  Typ_Mil_Rha_4616_Recto_GRAD_CAM.jpeg  Typ_Mil_Rha_4616_Verso_GRAD_CAM.jpeg   \n",
       "9  Typ_Mil_Rha_4926_Recto_GRAD_CAM.jpeg  Typ_Mil_Rha_4926_Verso_GRAD_CAM.jpeg   \n",
       "\n",
       "                         filename_recto_cam_gb  \\\n",
       "0  Typ_Mac_Rha_1015_Recto_GUIDED_GRAD_CAM.jpeg   \n",
       "1  Typ_Mil_Rha_4564_Recto_GUIDED_GRAD_CAM.jpeg   \n",
       "2  Typ_Big_Rhe_1406_Recto_GUIDED_GRAD_CAM.jpeg   \n",
       "3  Typ_Syl_Rha_0209_Recto_GUIDED_GRAD_CAM.jpeg   \n",
       "4  Typ_Mil_Rha_5016_Recto_GUIDED_GRAD_CAM.jpeg   \n",
       "5  Typ_Syl_Rha_0500_Recto_GUIDED_GRAD_CAM.jpeg   \n",
       "6  Typ_Pse_Rha_1773_Recto_GUIDED_GRAD_CAM.jpeg   \n",
       "7  Typ_Mac_Rhe_0148_Recto_GUIDED_GRAD_CAM.jpeg   \n",
       "8  Typ_Mil_Rha_4616_Recto_GUIDED_GRAD_CAM.jpeg   \n",
       "9  Typ_Mil_Rha_4926_Recto_GUIDED_GRAD_CAM.jpeg   \n",
       "\n",
       "                         filename_verso_cam_gb  \n",
       "0  Typ_Mac_Rha_1015_Verso_GUIDED_GRAD_CAM.jpeg  \n",
       "1  Typ_Mil_Rha_4564_Verso_GUIDED_GRAD_CAM.jpeg  \n",
       "2  Typ_Big_Rhe_1406_Verso_GUIDED_GRAD_CAM.jpeg  \n",
       "3  Typ_Syl_Rha_0209_Verso_GUIDED_GRAD_CAM.jpeg  \n",
       "4  Typ_Mil_Rha_5016_Verso_GUIDED_GRAD_CAM.jpeg  \n",
       "5  Typ_Syl_Rha_0500_Verso_GUIDED_GRAD_CAM.jpeg  \n",
       "6  Typ_Pse_Rha_1773_Verso_GUIDED_GRAD_CAM.jpeg  \n",
       "7  Typ_Mac_Rhe_0148_Verso_GUIDED_GRAD_CAM.jpeg  \n",
       "8  Typ_Mil_Rha_4616_Verso_GUIDED_GRAD_CAM.jpeg  \n",
       "9  Typ_Mil_Rha_4926_Verso_GUIDED_GRAD_CAM.jpeg  "
      ]
     },
     "execution_count": 19,
     "metadata": {},
     "output_type": "execute_result"
    }
   ],
   "source": [
    "df_results_test.head(10)"
   ]
  },
  {
   "cell_type": "code",
   "execution_count": 20,
   "id": "c3e84588-ff98-4fe3-b4a2-5a1cd5488cf6",
   "metadata": {
    "tags": []
   },
   "outputs": [],
   "source": [
    "df_results_test[\"outputs_test_preds\"] = df_results_test[\"outputs_test_preds\"].apply(lambda x : le.inverse_transform([x])[0])\n",
    "df_results_test[\"real_labels\"] = df_results_test[\"real_labels\"].apply(lambda x : le.inverse_transform([x])[0])"
   ]
  },
  {
   "cell_type": "code",
   "execution_count": 21,
   "id": "f21b40f4-4417-47b6-b8bf-cd60cb4cdba1",
   "metadata": {
    "tags": []
   },
   "outputs": [
    {
     "data": {
      "text/html": [
       "<div>\n",
       "<style scoped>\n",
       "    .dataframe tbody tr th:only-of-type {\n",
       "        vertical-align: middle;\n",
       "    }\n",
       "\n",
       "    .dataframe tbody tr th {\n",
       "        vertical-align: top;\n",
       "    }\n",
       "\n",
       "    .dataframe thead th {\n",
       "        text-align: right;\n",
       "    }\n",
       "</style>\n",
       "<table border=\"1\" class=\"dataframe\">\n",
       "  <thead>\n",
       "    <tr style=\"text-align: right;\">\n",
       "      <th></th>\n",
       "      <th>path_test_data_recto</th>\n",
       "      <th>path_test_data_verso</th>\n",
       "      <th>outputs_test_preds</th>\n",
       "      <th>outputs_test_probs</th>\n",
       "      <th>real_labels</th>\n",
       "      <th>filename_recto_gc</th>\n",
       "      <th>filename_verso_gc</th>\n",
       "      <th>filename_recto_cam_gb</th>\n",
       "      <th>filename_verso_cam_gb</th>\n",
       "    </tr>\n",
       "  </thead>\n",
       "  <tbody>\n",
       "    <tr>\n",
       "      <th>0</th>\n",
       "      <td>Typ_Mac_Rha_1015_Recto.jpeg</td>\n",
       "      <td>Typ_Mac_Rha_1015_Verso.jpeg</td>\n",
       "      <td>Pse</td>\n",
       "      <td>0.732424</td>\n",
       "      <td>Mac</td>\n",
       "      <td>Typ_Mac_Rha_1015_Recto_GRAD_CAM.jpeg</td>\n",
       "      <td>Typ_Mac_Rha_1015_Verso_GRAD_CAM.jpeg</td>\n",
       "      <td>Typ_Mac_Rha_1015_Recto_GUIDED_GRAD_CAM.jpeg</td>\n",
       "      <td>Typ_Mac_Rha_1015_Verso_GUIDED_GRAD_CAM.jpeg</td>\n",
       "    </tr>\n",
       "    <tr>\n",
       "      <th>1</th>\n",
       "      <td>Typ_Mil_Rha_4564_Recto.jpeg</td>\n",
       "      <td>Typ_Mil_Rha_4564_Verso.jpeg</td>\n",
       "      <td>Mil</td>\n",
       "      <td>0.999790</td>\n",
       "      <td>Mil</td>\n",
       "      <td>Typ_Mil_Rha_4564_Recto_GRAD_CAM.jpeg</td>\n",
       "      <td>Typ_Mil_Rha_4564_Verso_GRAD_CAM.jpeg</td>\n",
       "      <td>Typ_Mil_Rha_4564_Recto_GUIDED_GRAD_CAM.jpeg</td>\n",
       "      <td>Typ_Mil_Rha_4564_Verso_GUIDED_GRAD_CAM.jpeg</td>\n",
       "    </tr>\n",
       "    <tr>\n",
       "      <th>2</th>\n",
       "      <td>Typ_Big_Rhe_1406_Recto.jpeg</td>\n",
       "      <td>Typ_Big_Rhe_1406_Verso.jpeg</td>\n",
       "      <td>Pse</td>\n",
       "      <td>0.483821</td>\n",
       "      <td>Big</td>\n",
       "      <td>Typ_Big_Rhe_1406_Recto_GRAD_CAM.jpeg</td>\n",
       "      <td>Typ_Big_Rhe_1406_Verso_GRAD_CAM.jpeg</td>\n",
       "      <td>Typ_Big_Rhe_1406_Recto_GUIDED_GRAD_CAM.jpeg</td>\n",
       "      <td>Typ_Big_Rhe_1406_Verso_GUIDED_GRAD_CAM.jpeg</td>\n",
       "    </tr>\n",
       "    <tr>\n",
       "      <th>3</th>\n",
       "      <td>Typ_Syl_Rha_0209_Recto.jpeg</td>\n",
       "      <td>Typ_Syl_Rha_0209_Verso.jpeg</td>\n",
       "      <td>Syl</td>\n",
       "      <td>0.999817</td>\n",
       "      <td>Syl</td>\n",
       "      <td>Typ_Syl_Rha_0209_Recto_GRAD_CAM.jpeg</td>\n",
       "      <td>Typ_Syl_Rha_0209_Verso_GRAD_CAM.jpeg</td>\n",
       "      <td>Typ_Syl_Rha_0209_Recto_GUIDED_GRAD_CAM.jpeg</td>\n",
       "      <td>Typ_Syl_Rha_0209_Verso_GUIDED_GRAD_CAM.jpeg</td>\n",
       "    </tr>\n",
       "    <tr>\n",
       "      <th>4</th>\n",
       "      <td>Typ_Mil_Rha_5016_Recto.jpeg</td>\n",
       "      <td>Typ_Mil_Rha_5016_Verso.jpeg</td>\n",
       "      <td>Mil</td>\n",
       "      <td>0.999995</td>\n",
       "      <td>Mil</td>\n",
       "      <td>Typ_Mil_Rha_5016_Recto_GRAD_CAM.jpeg</td>\n",
       "      <td>Typ_Mil_Rha_5016_Verso_GRAD_CAM.jpeg</td>\n",
       "      <td>Typ_Mil_Rha_5016_Recto_GUIDED_GRAD_CAM.jpeg</td>\n",
       "      <td>Typ_Mil_Rha_5016_Verso_GUIDED_GRAD_CAM.jpeg</td>\n",
       "    </tr>\n",
       "    <tr>\n",
       "      <th>5</th>\n",
       "      <td>Typ_Syl_Rha_0500_Recto.jpeg</td>\n",
       "      <td>Typ_Syl_Rha_0500_Verso.jpeg</td>\n",
       "      <td>Syl</td>\n",
       "      <td>0.999999</td>\n",
       "      <td>Syl</td>\n",
       "      <td>Typ_Syl_Rha_0500_Recto_GRAD_CAM.jpeg</td>\n",
       "      <td>Typ_Syl_Rha_0500_Verso_GRAD_CAM.jpeg</td>\n",
       "      <td>Typ_Syl_Rha_0500_Recto_GUIDED_GRAD_CAM.jpeg</td>\n",
       "      <td>Typ_Syl_Rha_0500_Verso_GUIDED_GRAD_CAM.jpeg</td>\n",
       "    </tr>\n",
       "    <tr>\n",
       "      <th>6</th>\n",
       "      <td>Typ_Pse_Rha_1773_Recto.jpeg</td>\n",
       "      <td>Typ_Pse_Rha_1773_Verso.jpeg</td>\n",
       "      <td>Pse</td>\n",
       "      <td>0.961986</td>\n",
       "      <td>Pse</td>\n",
       "      <td>Typ_Pse_Rha_1773_Recto_GRAD_CAM.jpeg</td>\n",
       "      <td>Typ_Pse_Rha_1773_Verso_GRAD_CAM.jpeg</td>\n",
       "      <td>Typ_Pse_Rha_1773_Recto_GUIDED_GRAD_CAM.jpeg</td>\n",
       "      <td>Typ_Pse_Rha_1773_Verso_GUIDED_GRAD_CAM.jpeg</td>\n",
       "    </tr>\n",
       "    <tr>\n",
       "      <th>7</th>\n",
       "      <td>Typ_Mac_Rhe_0148_Recto.jpeg</td>\n",
       "      <td>Typ_Mac_Rhe_0148_Verso.jpeg</td>\n",
       "      <td>Mac</td>\n",
       "      <td>0.998216</td>\n",
       "      <td>Mac</td>\n",
       "      <td>Typ_Mac_Rhe_0148_Recto_GRAD_CAM.jpeg</td>\n",
       "      <td>Typ_Mac_Rhe_0148_Verso_GRAD_CAM.jpeg</td>\n",
       "      <td>Typ_Mac_Rhe_0148_Recto_GUIDED_GRAD_CAM.jpeg</td>\n",
       "      <td>Typ_Mac_Rhe_0148_Verso_GUIDED_GRAD_CAM.jpeg</td>\n",
       "    </tr>\n",
       "    <tr>\n",
       "      <th>8</th>\n",
       "      <td>Typ_Mil_Rha_4616_Recto.jpeg</td>\n",
       "      <td>Typ_Mil_Rha_4616_Verso.jpeg</td>\n",
       "      <td>Mil</td>\n",
       "      <td>0.999988</td>\n",
       "      <td>Mil</td>\n",
       "      <td>Typ_Mil_Rha_4616_Recto_GRAD_CAM.jpeg</td>\n",
       "      <td>Typ_Mil_Rha_4616_Verso_GRAD_CAM.jpeg</td>\n",
       "      <td>Typ_Mil_Rha_4616_Recto_GUIDED_GRAD_CAM.jpeg</td>\n",
       "      <td>Typ_Mil_Rha_4616_Verso_GUIDED_GRAD_CAM.jpeg</td>\n",
       "    </tr>\n",
       "    <tr>\n",
       "      <th>9</th>\n",
       "      <td>Typ_Mil_Rha_4926_Recto.jpeg</td>\n",
       "      <td>Typ_Mil_Rha_4926_Verso.jpeg</td>\n",
       "      <td>Mil</td>\n",
       "      <td>0.999725</td>\n",
       "      <td>Mil</td>\n",
       "      <td>Typ_Mil_Rha_4926_Recto_GRAD_CAM.jpeg</td>\n",
       "      <td>Typ_Mil_Rha_4926_Verso_GRAD_CAM.jpeg</td>\n",
       "      <td>Typ_Mil_Rha_4926_Recto_GUIDED_GRAD_CAM.jpeg</td>\n",
       "      <td>Typ_Mil_Rha_4926_Verso_GUIDED_GRAD_CAM.jpeg</td>\n",
       "    </tr>\n",
       "  </tbody>\n",
       "</table>\n",
       "</div>"
      ],
      "text/plain": [
       "          path_test_data_recto         path_test_data_verso  \\\n",
       "0  Typ_Mac_Rha_1015_Recto.jpeg  Typ_Mac_Rha_1015_Verso.jpeg   \n",
       "1  Typ_Mil_Rha_4564_Recto.jpeg  Typ_Mil_Rha_4564_Verso.jpeg   \n",
       "2  Typ_Big_Rhe_1406_Recto.jpeg  Typ_Big_Rhe_1406_Verso.jpeg   \n",
       "3  Typ_Syl_Rha_0209_Recto.jpeg  Typ_Syl_Rha_0209_Verso.jpeg   \n",
       "4  Typ_Mil_Rha_5016_Recto.jpeg  Typ_Mil_Rha_5016_Verso.jpeg   \n",
       "5  Typ_Syl_Rha_0500_Recto.jpeg  Typ_Syl_Rha_0500_Verso.jpeg   \n",
       "6  Typ_Pse_Rha_1773_Recto.jpeg  Typ_Pse_Rha_1773_Verso.jpeg   \n",
       "7  Typ_Mac_Rhe_0148_Recto.jpeg  Typ_Mac_Rhe_0148_Verso.jpeg   \n",
       "8  Typ_Mil_Rha_4616_Recto.jpeg  Typ_Mil_Rha_4616_Verso.jpeg   \n",
       "9  Typ_Mil_Rha_4926_Recto.jpeg  Typ_Mil_Rha_4926_Verso.jpeg   \n",
       "\n",
       "  outputs_test_preds  outputs_test_probs real_labels  \\\n",
       "0                Pse            0.732424         Mac   \n",
       "1                Mil            0.999790         Mil   \n",
       "2                Pse            0.483821         Big   \n",
       "3                Syl            0.999817         Syl   \n",
       "4                Mil            0.999995         Mil   \n",
       "5                Syl            0.999999         Syl   \n",
       "6                Pse            0.961986         Pse   \n",
       "7                Mac            0.998216         Mac   \n",
       "8                Mil            0.999988         Mil   \n",
       "9                Mil            0.999725         Mil   \n",
       "\n",
       "                      filename_recto_gc                     filename_verso_gc  \\\n",
       "0  Typ_Mac_Rha_1015_Recto_GRAD_CAM.jpeg  Typ_Mac_Rha_1015_Verso_GRAD_CAM.jpeg   \n",
       "1  Typ_Mil_Rha_4564_Recto_GRAD_CAM.jpeg  Typ_Mil_Rha_4564_Verso_GRAD_CAM.jpeg   \n",
       "2  Typ_Big_Rhe_1406_Recto_GRAD_CAM.jpeg  Typ_Big_Rhe_1406_Verso_GRAD_CAM.jpeg   \n",
       "3  Typ_Syl_Rha_0209_Recto_GRAD_CAM.jpeg  Typ_Syl_Rha_0209_Verso_GRAD_CAM.jpeg   \n",
       "4  Typ_Mil_Rha_5016_Recto_GRAD_CAM.jpeg  Typ_Mil_Rha_5016_Verso_GRAD_CAM.jpeg   \n",
       "5  Typ_Syl_Rha_0500_Recto_GRAD_CAM.jpeg  Typ_Syl_Rha_0500_Verso_GRAD_CAM.jpeg   \n",
       "6  Typ_Pse_Rha_1773_Recto_GRAD_CAM.jpeg  Typ_Pse_Rha_1773_Verso_GRAD_CAM.jpeg   \n",
       "7  Typ_Mac_Rhe_0148_Recto_GRAD_CAM.jpeg  Typ_Mac_Rhe_0148_Verso_GRAD_CAM.jpeg   \n",
       "8  Typ_Mil_Rha_4616_Recto_GRAD_CAM.jpeg  Typ_Mil_Rha_4616_Verso_GRAD_CAM.jpeg   \n",
       "9  Typ_Mil_Rha_4926_Recto_GRAD_CAM.jpeg  Typ_Mil_Rha_4926_Verso_GRAD_CAM.jpeg   \n",
       "\n",
       "                         filename_recto_cam_gb  \\\n",
       "0  Typ_Mac_Rha_1015_Recto_GUIDED_GRAD_CAM.jpeg   \n",
       "1  Typ_Mil_Rha_4564_Recto_GUIDED_GRAD_CAM.jpeg   \n",
       "2  Typ_Big_Rhe_1406_Recto_GUIDED_GRAD_CAM.jpeg   \n",
       "3  Typ_Syl_Rha_0209_Recto_GUIDED_GRAD_CAM.jpeg   \n",
       "4  Typ_Mil_Rha_5016_Recto_GUIDED_GRAD_CAM.jpeg   \n",
       "5  Typ_Syl_Rha_0500_Recto_GUIDED_GRAD_CAM.jpeg   \n",
       "6  Typ_Pse_Rha_1773_Recto_GUIDED_GRAD_CAM.jpeg   \n",
       "7  Typ_Mac_Rhe_0148_Recto_GUIDED_GRAD_CAM.jpeg   \n",
       "8  Typ_Mil_Rha_4616_Recto_GUIDED_GRAD_CAM.jpeg   \n",
       "9  Typ_Mil_Rha_4926_Recto_GUIDED_GRAD_CAM.jpeg   \n",
       "\n",
       "                         filename_verso_cam_gb  \n",
       "0  Typ_Mac_Rha_1015_Verso_GUIDED_GRAD_CAM.jpeg  \n",
       "1  Typ_Mil_Rha_4564_Verso_GUIDED_GRAD_CAM.jpeg  \n",
       "2  Typ_Big_Rhe_1406_Verso_GUIDED_GRAD_CAM.jpeg  \n",
       "3  Typ_Syl_Rha_0209_Verso_GUIDED_GRAD_CAM.jpeg  \n",
       "4  Typ_Mil_Rha_5016_Verso_GUIDED_GRAD_CAM.jpeg  \n",
       "5  Typ_Syl_Rha_0500_Verso_GUIDED_GRAD_CAM.jpeg  \n",
       "6  Typ_Pse_Rha_1773_Verso_GUIDED_GRAD_CAM.jpeg  \n",
       "7  Typ_Mac_Rhe_0148_Verso_GUIDED_GRAD_CAM.jpeg  \n",
       "8  Typ_Mil_Rha_4616_Verso_GUIDED_GRAD_CAM.jpeg  \n",
       "9  Typ_Mil_Rha_4926_Verso_GUIDED_GRAD_CAM.jpeg  "
      ]
     },
     "execution_count": 21,
     "metadata": {},
     "output_type": "execute_result"
    }
   ],
   "source": [
    "df_results_test.head(10)"
   ]
  },
  {
   "cell_type": "code",
   "execution_count": 26,
   "id": "a258b315-ebec-4b80-964d-8148fb6f59a2",
   "metadata": {
    "tags": []
   },
   "outputs": [],
   "source": [
    "df_results_test.to_csv(\"/home/onyxia/work/pfe-deep-learning-maladies-plantes/multi_vue_pytorch/outputs/\"+model_name+\"_df_results_test.csv\")"
   ]
  },
  {
   "cell_type": "code",
   "execution_count": 74,
   "id": "568ee668-c8bb-44e7-994f-52a827442d63",
   "metadata": {
    "tags": []
   },
   "outputs": [
    {
     "data": {
      "application/vnd.jupyter.widget-view+json": {
       "model_id": "dce8515f09024bd690c8cb194bc04187",
       "version_major": 2,
       "version_minor": 0
      },
      "text/plain": [
       "  0%|          | 0/91 [00:00<?, ?it/s]"
      ]
     },
     "metadata": {},
     "output_type": "display_data"
    }
   ],
   "source": [
    "preds, probs, _ = trainer.predict(trainer.testRectoloader,trainer.testVersoloader)"
   ]
  },
  {
   "cell_type": "code",
   "execution_count": 75,
   "id": "f5fa8ad7-2431-442e-abf5-97fc5bf33984",
   "metadata": {
    "tags": []
   },
   "outputs": [
    {
     "name": "stdout",
     "output_type": "stream",
     "text": [
      "[2, 3, 1, 6, 3, 6, 5, 2, 3, 3] [0.5339010953903198, 0.895734965801239, 0.5230067372322083, 0.9999940395355225, 0.9792180061340332, 1.0, 0.9384658932685852, 0.9912988543510437, 0.9873083233833313, 0.9702541828155518]\n"
     ]
    }
   ],
   "source": [
    "print(preds[:10],probs[:10])"
   ]
  },
  {
   "cell_type": "code",
   "execution_count": 44,
   "id": "4a1fd0f7-c6c8-45b5-a43c-6ebed46629b4",
   "metadata": {
    "tags": []
   },
   "outputs": [
    {
     "data": {
      "text/plain": [
       "2885"
      ]
     },
     "execution_count": 44,
     "metadata": {},
     "output_type": "execute_result"
    }
   ],
   "source": [
    "df_results_test['outputs_test_preds'].value_counts().sum()"
   ]
  },
  {
   "cell_type": "code",
   "execution_count": 43,
   "id": "baf9cd9a-95bb-4754-8f5c-61d91da41b36",
   "metadata": {
    "tags": []
   },
   "outputs": [
    {
     "data": {
      "text/plain": [
       "0.9518197573656846"
      ]
     },
     "execution_count": 43,
     "metadata": {},
     "output_type": "execute_result"
    }
   ],
   "source": [
    "accuracy_score(df_results_test['real_labels'],df_results_test['outputs_test_preds'])"
   ]
  },
  {
   "cell_type": "markdown",
   "id": "183a848a-36fc-4d45-ac9f-171c521b2f64",
   "metadata": {},
   "source": [
    "### Aty Images"
   ]
  },
  {
   "cell_type": "code",
   "execution_count": 27,
   "id": "5c5d71e6-2ee7-45c9-ba4b-019915e1696d",
   "metadata": {
    "tags": []
   },
   "outputs": [
    {
     "name": "stderr",
     "output_type": "stream",
     "text": [
      "100%|██████████| 649/649 [03:26<00:00,  3.14it/s]\n"
     ]
    }
   ],
   "source": [
    "from torch.nn import functional as F\n",
    "model.eval()\n",
    "counter=0\n",
    "outputs_aty_preds= []\n",
    "outputs_aty_probs = []\n",
    "filename_aty_recto_gc = []\n",
    "filename_aty_verso_gc = []\n",
    "filename_aty_recto_cam_gb = []\n",
    "filename_aty_verso_cam_gb = []\n",
    "model.eval()\n",
    "for i, (recto,verso) in tqdm(enumerate(zip(atydatasetRecto,atydatasetVerso)), total=len(atydatasetRecto)):\n",
    "    with torch.no_grad():\n",
    "        counter += 1\n",
    "        image_recto = recto\n",
    "        image_recto = image_recto.unsqueeze(0).to(trainer.device)\n",
    "        image_verso = verso\n",
    "        image_verso = image_verso.unsqueeze(0).to(trainer.device)\n",
    "        # Forward pass.\n",
    "        outputs_aty = model([image_recto,image_verso])\n",
    "        outputs_aty_prob = F.softmax(outputs_aty,dim=1)\n",
    "        prob , pred = torch.max(outputs_aty_prob.data, 1)\n",
    "        real_labels.append(label)\n",
    "        outputs_aty_preds.append(pred)\n",
    "        outputs_aty_probs.append(prob)\n",
    "    # GRAD CAM STUFF\n",
    "    gc_filenames, cam_gb_filenames = compute_and_save_gradcam(image_recto,image_verso,[PATH_ATY_DATASET_RECTO[i],PATH_ATY_DATASET_VERSO[i]])\n",
    "    filename_aty_recto_gc.append(os.path.basename(gc_filenames[0]))\n",
    "    filename_aty_verso_gc.append(os.path.basename(gc_filenames [1]))\n",
    "    filename_aty_recto_cam_gb.append(os.path.basename(cam_gb_filenames[0]))\n",
    "    filename_aty_verso_cam_gb.append(os.path.basename(cam_gb_filenames[1]))"
   ]
  },
  {
   "cell_type": "code",
   "execution_count": 28,
   "id": "40ea95ad-2aec-402c-a228-a65247d7eeaf",
   "metadata": {
    "tags": []
   },
   "outputs": [],
   "source": [
    "df_results_aty = pd.DataFrame({\"path_aty_data_recto\": PATH_ATY_DATASET_RECTO,\n",
    "                                \"path_aty_data_verso\" : PATH_ATY_DATASET_VERSO,\n",
    "                                \"outputs_aty_preds\" : [out.cpu().numpy()[0] for out in outputs_aty_preds],\n",
    "                                \"outputs_aty_probs\" : [out.cpu().numpy()[0] for out in outputs_aty_probs],\n",
    "                                \"filename_aty_recto_gc\" : filename_aty_recto_gc,\n",
    "                                \"filename_aty_verso_gc\" : filename_aty_verso_gc,\n",
    "                                \"filename_aty_recto_cam_gb\" : filename_aty_recto_cam_gb,\n",
    "                                \"filename_verso_cam_gb\" : filename_aty_verso_cam_gb})\n",
    "                                "
   ]
  },
  {
   "cell_type": "code",
   "execution_count": 29,
   "id": "52c6364f-2353-4d1d-b36b-971be25b87ec",
   "metadata": {
    "tags": []
   },
   "outputs": [],
   "source": [
    "df_results_aty[\"outputs_aty_preds\"] = df_results_aty[\"outputs_aty_preds\"].apply(lambda x : le.inverse_transform([x])[0])"
   ]
  },
  {
   "cell_type": "code",
   "execution_count": 30,
   "id": "e2d0fe50-8044-45e9-9d82-45df2963d9d7",
   "metadata": {
    "tags": []
   },
   "outputs": [],
   "source": [
    "df_results_aty.to_csv(\"/home/onyxia/work/pfe-deep-learning-maladies-plantes/multi_vue_pytorch/outputs/\"+model_name+\"_df_results_aty.csv\")"
   ]
  },
  {
   "cell_type": "markdown",
   "id": "8429b45a-01a9-4be6-be8f-391555434e4c",
   "metadata": {},
   "source": [
    "### Ext Images"
   ]
  },
  {
   "cell_type": "code",
   "execution_count": 27,
   "id": "30d4876b-c1c3-4581-b4e9-e664730d31f6",
   "metadata": {
    "tags": []
   },
   "outputs": [
    {
     "name": "stderr",
     "output_type": "stream",
     "text": [
      "100%|██████████| 394/394 [02:57<00:00,  2.23it/s]\n"
     ]
    }
   ],
   "source": [
    "from torch.nn import functional as F\n",
    "model.eval()\n",
    "counter=0\n",
    "outputs_ext_preds= []\n",
    "outputs_ext_probs = []\n",
    "filename_ext_recto_gc = []\n",
    "filename_ext_verso_gc = []\n",
    "filename_ext_recto_cam_gb = []\n",
    "filename_ext_verso_cam_gb = []\n",
    "model.eval()\n",
    "for i, (recto,verso) in tqdm(enumerate(zip(extdatasetRecto,extdatasetVerso)), total=len(extdatasetRecto)):\n",
    "    with torch.no_grad():\n",
    "        counter += 1\n",
    "        image_recto = recto\n",
    "        image_recto = image_recto.unsqueeze(0).to(trainer.device)\n",
    "        image_verso = verso\n",
    "        image_verso = image_verso.unsqueeze(0).to(trainer.device)\n",
    "        # Forward pass.\n",
    "        outputs_ext = model([image_recto,image_verso])\n",
    "        outputs_ext_prob = F.softmax(outputs_ext,dim=1)\n",
    "        prob , pred = torch.max(outputs_ext_prob.data, 1)\n",
    "        real_labels.append(label)\n",
    "        outputs_ext_preds.append(pred)\n",
    "        outputs_ext_probs.append(prob)\n",
    "    # GRAD CAM STUFF\n",
    "    gc_filenames, cam_gb_filenames = compute_and_save_gradcam(image_recto,image_verso,[PATH_EXT_DATASET_RECTO[i],PATH_EXT_DATASET_VERSO[i]])\n",
    "    filename_ext_recto_gc.append(os.path.basename(gc_filenames[0]))\n",
    "    filename_ext_verso_gc.append(os.path.basename(gc_filenames [1]))\n",
    "    filename_ext_recto_cam_gb.append(os.path.basename(cam_gb_filenames[0]))\n",
    "    filename_ext_verso_cam_gb.append(os.path.basename(cam_gb_filenames[1]))"
   ]
  },
  {
   "cell_type": "code",
   "execution_count": 28,
   "id": "60f5f500-0e9b-4700-8c66-795268e83008",
   "metadata": {
    "tags": []
   },
   "outputs": [],
   "source": [
    "df_results_ext = pd.DataFrame({\"path_ext_data_recto\": PATH_EXT_DATASET_RECTO,\n",
    "                                \"path_ext_data_verso\" : PATH_EXT_DATASET_VERSO,\n",
    "                                \"outputs_ext_preds\" : [out.cpu().numpy()[0] for out in outputs_ext_preds],\n",
    "                                \"outputs_ext_probs\" : [out.cpu().numpy()[0] for out in outputs_ext_probs],\n",
    "                                \"filename_ext_recto_gc\" : filename_ext_recto_gc,\n",
    "                                \"filename_ext_verso_gc\" : filename_ext_verso_gc,\n",
    "                                \"filename_ext_recto_cam_gb\" : filename_ext_recto_cam_gb,\n",
    "                                \"filename_verso_cam_gb\" : filename_ext_verso_cam_gb})"
   ]
  },
  {
   "cell_type": "code",
   "execution_count": 29,
   "id": "c7c372d4-e7e4-4eb3-92b1-28fac239f985",
   "metadata": {
    "tags": []
   },
   "outputs": [],
   "source": [
    "df_results_ext[\"outputs_ext_preds\"] = df_results_ext[\"outputs_ext_preds\"].apply(lambda x : le.inverse_transform([x])[0])\n",
    "df_results_ext.to_csv(\"/home/onyxia/work/pfe-deep-learning-maladies-plantes/multi_vue_pytorch/outputs/\"+model_name+\"_df_results_ext.csv\")"
   ]
  },
  {
   "cell_type": "code",
   "execution_count": 32,
   "id": "1498d0c7-a50a-4ea6-8119-a713522dcffa",
   "metadata": {
    "tags": []
   },
   "outputs": [
    {
     "data": {
      "text/html": [
       "<div>\n",
       "<style scoped>\n",
       "    .dataframe tbody tr th:only-of-type {\n",
       "        vertical-align: middle;\n",
       "    }\n",
       "\n",
       "    .dataframe tbody tr th {\n",
       "        vertical-align: top;\n",
       "    }\n",
       "\n",
       "    .dataframe thead th {\n",
       "        text-align: right;\n",
       "    }\n",
       "</style>\n",
       "<table border=\"1\" class=\"dataframe\">\n",
       "  <thead>\n",
       "    <tr style=\"text-align: right;\">\n",
       "      <th></th>\n",
       "      <th>path_ext_data_recto</th>\n",
       "      <th>path_ext_data_verso</th>\n",
       "      <th>outputs_ext_preds</th>\n",
       "      <th>outputs_ext_probs</th>\n",
       "      <th>filename_ext_recto_gc</th>\n",
       "      <th>filename_ext_verso_gc</th>\n",
       "      <th>filename_ext_recto_cam_gb</th>\n",
       "      <th>filename_verso_cam_gb</th>\n",
       "    </tr>\n",
       "  </thead>\n",
       "  <tbody>\n",
       "    <tr>\n",
       "      <th>0</th>\n",
       "      <td>Ext_Bio_0020_Recto.jpeg</td>\n",
       "      <td>Ext_Bio_0020_Verso.jpeg</td>\n",
       "      <td>Alt</td>\n",
       "      <td>0.870731</td>\n",
       "      <td>Ext_Bio_0020_Recto_GRAD_CAM.jpeg</td>\n",
       "      <td>Ext_Bio_0020_Verso_GRAD_CAM.jpeg</td>\n",
       "      <td>Ext_Bio_0020_Recto_GUIDED_GRAD_CAM.jpeg</td>\n",
       "      <td>Ext_Bio_0020_Verso_GUIDED_GRAD_CAM.jpeg</td>\n",
       "    </tr>\n",
       "    <tr>\n",
       "      <th>1</th>\n",
       "      <td>Ext_Bio_0035_Recto.jpeg</td>\n",
       "      <td>Ext_Bio_0035_Verso.jpeg</td>\n",
       "      <td>Syl</td>\n",
       "      <td>0.994071</td>\n",
       "      <td>Ext_Bio_0035_Recto_GRAD_CAM.jpeg</td>\n",
       "      <td>Ext_Bio_0035_Verso_GRAD_CAM.jpeg</td>\n",
       "      <td>Ext_Bio_0035_Recto_GUIDED_GRAD_CAM.jpeg</td>\n",
       "      <td>Ext_Bio_0035_Verso_GUIDED_GRAD_CAM.jpeg</td>\n",
       "    </tr>\n",
       "    <tr>\n",
       "      <th>2</th>\n",
       "      <td>Ext_Bio_0036_Recto.jpeg</td>\n",
       "      <td>Ext_Bio_0036_Verso.jpeg</td>\n",
       "      <td>Mac</td>\n",
       "      <td>0.437899</td>\n",
       "      <td>Ext_Bio_0036_Recto_GRAD_CAM.jpeg</td>\n",
       "      <td>Ext_Bio_0036_Verso_GRAD_CAM.jpeg</td>\n",
       "      <td>Ext_Bio_0036_Recto_GUIDED_GRAD_CAM.jpeg</td>\n",
       "      <td>Ext_Bio_0036_Verso_GUIDED_GRAD_CAM.jpeg</td>\n",
       "    </tr>\n",
       "    <tr>\n",
       "      <th>3</th>\n",
       "      <td>Ext_Bio_0038_Recto.jpeg</td>\n",
       "      <td>Ext_Bio_0038_Verso.jpeg</td>\n",
       "      <td>Mac</td>\n",
       "      <td>0.746596</td>\n",
       "      <td>Ext_Bio_0038_Recto_GRAD_CAM.jpeg</td>\n",
       "      <td>Ext_Bio_0038_Verso_GRAD_CAM.jpeg</td>\n",
       "      <td>Ext_Bio_0038_Recto_GUIDED_GRAD_CAM.jpeg</td>\n",
       "      <td>Ext_Bio_0038_Verso_GUIDED_GRAD_CAM.jpeg</td>\n",
       "    </tr>\n",
       "    <tr>\n",
       "      <th>4</th>\n",
       "      <td>Ext_Rha_2301_Recto.jpeg</td>\n",
       "      <td>Ext_Rha_2301_Verso.jpeg</td>\n",
       "      <td>Alt</td>\n",
       "      <td>0.482000</td>\n",
       "      <td>Ext_Rha_2301_Recto_GRAD_CAM.jpeg</td>\n",
       "      <td>Ext_Rha_2301_Verso_GRAD_CAM.jpeg</td>\n",
       "      <td>Ext_Rha_2301_Recto_GUIDED_GRAD_CAM.jpeg</td>\n",
       "      <td>Ext_Rha_2301_Verso_GUIDED_GRAD_CAM.jpeg</td>\n",
       "    </tr>\n",
       "    <tr>\n",
       "      <th>5</th>\n",
       "      <td>Ext_Rha_2432_Recto.jpeg</td>\n",
       "      <td>Ext_Rha_2432_Verso.jpeg</td>\n",
       "      <td>Syl</td>\n",
       "      <td>0.971778</td>\n",
       "      <td>Ext_Rha_2432_Recto_GRAD_CAM.jpeg</td>\n",
       "      <td>Ext_Rha_2432_Verso_GRAD_CAM.jpeg</td>\n",
       "      <td>Ext_Rha_2432_Recto_GUIDED_GRAD_CAM.jpeg</td>\n",
       "      <td>Ext_Rha_2432_Verso_GUIDED_GRAD_CAM.jpeg</td>\n",
       "    </tr>\n",
       "    <tr>\n",
       "      <th>6</th>\n",
       "      <td>Ext_Rha_2433_Recto.jpeg</td>\n",
       "      <td>Ext_Rha_2433_Verso.jpeg</td>\n",
       "      <td>Syl</td>\n",
       "      <td>0.999177</td>\n",
       "      <td>Ext_Rha_2433_Recto_GRAD_CAM.jpeg</td>\n",
       "      <td>Ext_Rha_2433_Verso_GRAD_CAM.jpeg</td>\n",
       "      <td>Ext_Rha_2433_Recto_GUIDED_GRAD_CAM.jpeg</td>\n",
       "      <td>Ext_Rha_2433_Verso_GUIDED_GRAD_CAM.jpeg</td>\n",
       "    </tr>\n",
       "    <tr>\n",
       "      <th>7</th>\n",
       "      <td>Ext_Rha_2434_Recto.jpeg</td>\n",
       "      <td>Ext_Rha_2434_Verso.jpeg</td>\n",
       "      <td>Syl</td>\n",
       "      <td>0.963252</td>\n",
       "      <td>Ext_Rha_2434_Recto_GRAD_CAM.jpeg</td>\n",
       "      <td>Ext_Rha_2434_Verso_GRAD_CAM.jpeg</td>\n",
       "      <td>Ext_Rha_2434_Recto_GUIDED_GRAD_CAM.jpeg</td>\n",
       "      <td>Ext_Rha_2434_Verso_GUIDED_GRAD_CAM.jpeg</td>\n",
       "    </tr>\n",
       "    <tr>\n",
       "      <th>8</th>\n",
       "      <td>Ext_Rha_2435_Recto.jpeg</td>\n",
       "      <td>Ext_Rha_2435_Verso.jpeg</td>\n",
       "      <td>Syl</td>\n",
       "      <td>0.961535</td>\n",
       "      <td>Ext_Rha_2435_Recto_GRAD_CAM.jpeg</td>\n",
       "      <td>Ext_Rha_2435_Verso_GRAD_CAM.jpeg</td>\n",
       "      <td>Ext_Rha_2435_Recto_GUIDED_GRAD_CAM.jpeg</td>\n",
       "      <td>Ext_Rha_2435_Verso_GUIDED_GRAD_CAM.jpeg</td>\n",
       "    </tr>\n",
       "    <tr>\n",
       "      <th>9</th>\n",
       "      <td>Ext_Rha_2436_Recto.jpeg</td>\n",
       "      <td>Ext_Rha_2436_Verso.jpeg</td>\n",
       "      <td>Syl</td>\n",
       "      <td>0.992694</td>\n",
       "      <td>Ext_Rha_2436_Recto_GRAD_CAM.jpeg</td>\n",
       "      <td>Ext_Rha_2436_Verso_GRAD_CAM.jpeg</td>\n",
       "      <td>Ext_Rha_2436_Recto_GUIDED_GRAD_CAM.jpeg</td>\n",
       "      <td>Ext_Rha_2436_Verso_GUIDED_GRAD_CAM.jpeg</td>\n",
       "    </tr>\n",
       "    <tr>\n",
       "      <th>10</th>\n",
       "      <td>Ext_Rha_2437_Recto.jpeg</td>\n",
       "      <td>Ext_Rha_2437_Verso.jpeg</td>\n",
       "      <td>Mil</td>\n",
       "      <td>0.785263</td>\n",
       "      <td>Ext_Rha_2437_Recto_GRAD_CAM.jpeg</td>\n",
       "      <td>Ext_Rha_2437_Verso_GRAD_CAM.jpeg</td>\n",
       "      <td>Ext_Rha_2437_Recto_GUIDED_GRAD_CAM.jpeg</td>\n",
       "      <td>Ext_Rha_2437_Verso_GUIDED_GRAD_CAM.jpeg</td>\n",
       "    </tr>\n",
       "    <tr>\n",
       "      <th>11</th>\n",
       "      <td>Ext_Rha_2438_Recto.jpeg</td>\n",
       "      <td>Ext_Rha_2438_Verso.jpeg</td>\n",
       "      <td>Syl</td>\n",
       "      <td>0.986559</td>\n",
       "      <td>Ext_Rha_2438_Recto_GRAD_CAM.jpeg</td>\n",
       "      <td>Ext_Rha_2438_Verso_GRAD_CAM.jpeg</td>\n",
       "      <td>Ext_Rha_2438_Recto_GUIDED_GRAD_CAM.jpeg</td>\n",
       "      <td>Ext_Rha_2438_Verso_GUIDED_GRAD_CAM.jpeg</td>\n",
       "    </tr>\n",
       "    <tr>\n",
       "      <th>12</th>\n",
       "      <td>Ext_Rha_2439_Recto.jpeg</td>\n",
       "      <td>Ext_Rha_2439_Verso.jpeg</td>\n",
       "      <td>Syl</td>\n",
       "      <td>0.998495</td>\n",
       "      <td>Ext_Rha_2439_Recto_GRAD_CAM.jpeg</td>\n",
       "      <td>Ext_Rha_2439_Verso_GRAD_CAM.jpeg</td>\n",
       "      <td>Ext_Rha_2439_Recto_GUIDED_GRAD_CAM.jpeg</td>\n",
       "      <td>Ext_Rha_2439_Verso_GUIDED_GRAD_CAM.jpeg</td>\n",
       "    </tr>\n",
       "    <tr>\n",
       "      <th>13</th>\n",
       "      <td>Ext_Rha_2440_Recto.jpeg</td>\n",
       "      <td>Ext_Rha_2440_Verso.jpeg</td>\n",
       "      <td>Syl</td>\n",
       "      <td>0.990071</td>\n",
       "      <td>Ext_Rha_2440_Recto_GRAD_CAM.jpeg</td>\n",
       "      <td>Ext_Rha_2440_Verso_GRAD_CAM.jpeg</td>\n",
       "      <td>Ext_Rha_2440_Recto_GUIDED_GRAD_CAM.jpeg</td>\n",
       "      <td>Ext_Rha_2440_Verso_GUIDED_GRAD_CAM.jpeg</td>\n",
       "    </tr>\n",
       "    <tr>\n",
       "      <th>14</th>\n",
       "      <td>Ext_Rha_2441_Recto.jpeg</td>\n",
       "      <td>Ext_Rha_2441_Verso.jpeg</td>\n",
       "      <td>Syl</td>\n",
       "      <td>0.995547</td>\n",
       "      <td>Ext_Rha_2441_Recto_GRAD_CAM.jpeg</td>\n",
       "      <td>Ext_Rha_2441_Verso_GRAD_CAM.jpeg</td>\n",
       "      <td>Ext_Rha_2441_Recto_GUIDED_GRAD_CAM.jpeg</td>\n",
       "      <td>Ext_Rha_2441_Verso_GUIDED_GRAD_CAM.jpeg</td>\n",
       "    </tr>\n",
       "    <tr>\n",
       "      <th>15</th>\n",
       "      <td>Ext_Rha_2442_Recto.jpeg</td>\n",
       "      <td>Ext_Rha_2442_Verso.jpeg</td>\n",
       "      <td>Syl</td>\n",
       "      <td>0.933599</td>\n",
       "      <td>Ext_Rha_2442_Recto_GRAD_CAM.jpeg</td>\n",
       "      <td>Ext_Rha_2442_Verso_GRAD_CAM.jpeg</td>\n",
       "      <td>Ext_Rha_2442_Recto_GUIDED_GRAD_CAM.jpeg</td>\n",
       "      <td>Ext_Rha_2442_Verso_GUIDED_GRAD_CAM.jpeg</td>\n",
       "    </tr>\n",
       "    <tr>\n",
       "      <th>16</th>\n",
       "      <td>Ext_Rha_2495_Recto.jpeg</td>\n",
       "      <td>Ext_Rha_2495_Verso.jpeg</td>\n",
       "      <td>Syl</td>\n",
       "      <td>0.830095</td>\n",
       "      <td>Ext_Rha_2495_Recto_GRAD_CAM.jpeg</td>\n",
       "      <td>Ext_Rha_2495_Verso_GRAD_CAM.jpeg</td>\n",
       "      <td>Ext_Rha_2495_Recto_GUIDED_GRAD_CAM.jpeg</td>\n",
       "      <td>Ext_Rha_2495_Verso_GUIDED_GRAD_CAM.jpeg</td>\n",
       "    </tr>\n",
       "    <tr>\n",
       "      <th>17</th>\n",
       "      <td>Ext_Rha_2496_Recto.jpeg</td>\n",
       "      <td>Ext_Rha_2496_Verso.jpeg</td>\n",
       "      <td>Mil</td>\n",
       "      <td>0.593387</td>\n",
       "      <td>Ext_Rha_2496_Recto_GRAD_CAM.jpeg</td>\n",
       "      <td>Ext_Rha_2496_Verso_GRAD_CAM.jpeg</td>\n",
       "      <td>Ext_Rha_2496_Recto_GUIDED_GRAD_CAM.jpeg</td>\n",
       "      <td>Ext_Rha_2496_Verso_GUIDED_GRAD_CAM.jpeg</td>\n",
       "    </tr>\n",
       "    <tr>\n",
       "      <th>18</th>\n",
       "      <td>Ext_Rha_2497_Recto.jpeg</td>\n",
       "      <td>Ext_Rha_2497_Verso.jpeg</td>\n",
       "      <td>Syl</td>\n",
       "      <td>0.672128</td>\n",
       "      <td>Ext_Rha_2497_Recto_GRAD_CAM.jpeg</td>\n",
       "      <td>Ext_Rha_2497_Verso_GRAD_CAM.jpeg</td>\n",
       "      <td>Ext_Rha_2497_Recto_GUIDED_GRAD_CAM.jpeg</td>\n",
       "      <td>Ext_Rha_2497_Verso_GUIDED_GRAD_CAM.jpeg</td>\n",
       "    </tr>\n",
       "    <tr>\n",
       "      <th>19</th>\n",
       "      <td>Ext_Rha_2498_Recto.jpeg</td>\n",
       "      <td>Ext_Rha_2498_Verso.jpeg</td>\n",
       "      <td>Syl</td>\n",
       "      <td>0.971167</td>\n",
       "      <td>Ext_Rha_2498_Recto_GRAD_CAM.jpeg</td>\n",
       "      <td>Ext_Rha_2498_Verso_GRAD_CAM.jpeg</td>\n",
       "      <td>Ext_Rha_2498_Recto_GUIDED_GRAD_CAM.jpeg</td>\n",
       "      <td>Ext_Rha_2498_Verso_GUIDED_GRAD_CAM.jpeg</td>\n",
       "    </tr>\n",
       "  </tbody>\n",
       "</table>\n",
       "</div>"
      ],
      "text/plain": [
       "        path_ext_data_recto      path_ext_data_verso outputs_ext_preds  \\\n",
       "0   Ext_Bio_0020_Recto.jpeg  Ext_Bio_0020_Verso.jpeg               Alt   \n",
       "1   Ext_Bio_0035_Recto.jpeg  Ext_Bio_0035_Verso.jpeg               Syl   \n",
       "2   Ext_Bio_0036_Recto.jpeg  Ext_Bio_0036_Verso.jpeg               Mac   \n",
       "3   Ext_Bio_0038_Recto.jpeg  Ext_Bio_0038_Verso.jpeg               Mac   \n",
       "4   Ext_Rha_2301_Recto.jpeg  Ext_Rha_2301_Verso.jpeg               Alt   \n",
       "5   Ext_Rha_2432_Recto.jpeg  Ext_Rha_2432_Verso.jpeg               Syl   \n",
       "6   Ext_Rha_2433_Recto.jpeg  Ext_Rha_2433_Verso.jpeg               Syl   \n",
       "7   Ext_Rha_2434_Recto.jpeg  Ext_Rha_2434_Verso.jpeg               Syl   \n",
       "8   Ext_Rha_2435_Recto.jpeg  Ext_Rha_2435_Verso.jpeg               Syl   \n",
       "9   Ext_Rha_2436_Recto.jpeg  Ext_Rha_2436_Verso.jpeg               Syl   \n",
       "10  Ext_Rha_2437_Recto.jpeg  Ext_Rha_2437_Verso.jpeg               Mil   \n",
       "11  Ext_Rha_2438_Recto.jpeg  Ext_Rha_2438_Verso.jpeg               Syl   \n",
       "12  Ext_Rha_2439_Recto.jpeg  Ext_Rha_2439_Verso.jpeg               Syl   \n",
       "13  Ext_Rha_2440_Recto.jpeg  Ext_Rha_2440_Verso.jpeg               Syl   \n",
       "14  Ext_Rha_2441_Recto.jpeg  Ext_Rha_2441_Verso.jpeg               Syl   \n",
       "15  Ext_Rha_2442_Recto.jpeg  Ext_Rha_2442_Verso.jpeg               Syl   \n",
       "16  Ext_Rha_2495_Recto.jpeg  Ext_Rha_2495_Verso.jpeg               Syl   \n",
       "17  Ext_Rha_2496_Recto.jpeg  Ext_Rha_2496_Verso.jpeg               Mil   \n",
       "18  Ext_Rha_2497_Recto.jpeg  Ext_Rha_2497_Verso.jpeg               Syl   \n",
       "19  Ext_Rha_2498_Recto.jpeg  Ext_Rha_2498_Verso.jpeg               Syl   \n",
       "\n",
       "    outputs_ext_probs             filename_ext_recto_gc  \\\n",
       "0            0.870731  Ext_Bio_0020_Recto_GRAD_CAM.jpeg   \n",
       "1            0.994071  Ext_Bio_0035_Recto_GRAD_CAM.jpeg   \n",
       "2            0.437899  Ext_Bio_0036_Recto_GRAD_CAM.jpeg   \n",
       "3            0.746596  Ext_Bio_0038_Recto_GRAD_CAM.jpeg   \n",
       "4            0.482000  Ext_Rha_2301_Recto_GRAD_CAM.jpeg   \n",
       "5            0.971778  Ext_Rha_2432_Recto_GRAD_CAM.jpeg   \n",
       "6            0.999177  Ext_Rha_2433_Recto_GRAD_CAM.jpeg   \n",
       "7            0.963252  Ext_Rha_2434_Recto_GRAD_CAM.jpeg   \n",
       "8            0.961535  Ext_Rha_2435_Recto_GRAD_CAM.jpeg   \n",
       "9            0.992694  Ext_Rha_2436_Recto_GRAD_CAM.jpeg   \n",
       "10           0.785263  Ext_Rha_2437_Recto_GRAD_CAM.jpeg   \n",
       "11           0.986559  Ext_Rha_2438_Recto_GRAD_CAM.jpeg   \n",
       "12           0.998495  Ext_Rha_2439_Recto_GRAD_CAM.jpeg   \n",
       "13           0.990071  Ext_Rha_2440_Recto_GRAD_CAM.jpeg   \n",
       "14           0.995547  Ext_Rha_2441_Recto_GRAD_CAM.jpeg   \n",
       "15           0.933599  Ext_Rha_2442_Recto_GRAD_CAM.jpeg   \n",
       "16           0.830095  Ext_Rha_2495_Recto_GRAD_CAM.jpeg   \n",
       "17           0.593387  Ext_Rha_2496_Recto_GRAD_CAM.jpeg   \n",
       "18           0.672128  Ext_Rha_2497_Recto_GRAD_CAM.jpeg   \n",
       "19           0.971167  Ext_Rha_2498_Recto_GRAD_CAM.jpeg   \n",
       "\n",
       "               filename_ext_verso_gc                filename_ext_recto_cam_gb  \\\n",
       "0   Ext_Bio_0020_Verso_GRAD_CAM.jpeg  Ext_Bio_0020_Recto_GUIDED_GRAD_CAM.jpeg   \n",
       "1   Ext_Bio_0035_Verso_GRAD_CAM.jpeg  Ext_Bio_0035_Recto_GUIDED_GRAD_CAM.jpeg   \n",
       "2   Ext_Bio_0036_Verso_GRAD_CAM.jpeg  Ext_Bio_0036_Recto_GUIDED_GRAD_CAM.jpeg   \n",
       "3   Ext_Bio_0038_Verso_GRAD_CAM.jpeg  Ext_Bio_0038_Recto_GUIDED_GRAD_CAM.jpeg   \n",
       "4   Ext_Rha_2301_Verso_GRAD_CAM.jpeg  Ext_Rha_2301_Recto_GUIDED_GRAD_CAM.jpeg   \n",
       "5   Ext_Rha_2432_Verso_GRAD_CAM.jpeg  Ext_Rha_2432_Recto_GUIDED_GRAD_CAM.jpeg   \n",
       "6   Ext_Rha_2433_Verso_GRAD_CAM.jpeg  Ext_Rha_2433_Recto_GUIDED_GRAD_CAM.jpeg   \n",
       "7   Ext_Rha_2434_Verso_GRAD_CAM.jpeg  Ext_Rha_2434_Recto_GUIDED_GRAD_CAM.jpeg   \n",
       "8   Ext_Rha_2435_Verso_GRAD_CAM.jpeg  Ext_Rha_2435_Recto_GUIDED_GRAD_CAM.jpeg   \n",
       "9   Ext_Rha_2436_Verso_GRAD_CAM.jpeg  Ext_Rha_2436_Recto_GUIDED_GRAD_CAM.jpeg   \n",
       "10  Ext_Rha_2437_Verso_GRAD_CAM.jpeg  Ext_Rha_2437_Recto_GUIDED_GRAD_CAM.jpeg   \n",
       "11  Ext_Rha_2438_Verso_GRAD_CAM.jpeg  Ext_Rha_2438_Recto_GUIDED_GRAD_CAM.jpeg   \n",
       "12  Ext_Rha_2439_Verso_GRAD_CAM.jpeg  Ext_Rha_2439_Recto_GUIDED_GRAD_CAM.jpeg   \n",
       "13  Ext_Rha_2440_Verso_GRAD_CAM.jpeg  Ext_Rha_2440_Recto_GUIDED_GRAD_CAM.jpeg   \n",
       "14  Ext_Rha_2441_Verso_GRAD_CAM.jpeg  Ext_Rha_2441_Recto_GUIDED_GRAD_CAM.jpeg   \n",
       "15  Ext_Rha_2442_Verso_GRAD_CAM.jpeg  Ext_Rha_2442_Recto_GUIDED_GRAD_CAM.jpeg   \n",
       "16  Ext_Rha_2495_Verso_GRAD_CAM.jpeg  Ext_Rha_2495_Recto_GUIDED_GRAD_CAM.jpeg   \n",
       "17  Ext_Rha_2496_Verso_GRAD_CAM.jpeg  Ext_Rha_2496_Recto_GUIDED_GRAD_CAM.jpeg   \n",
       "18  Ext_Rha_2497_Verso_GRAD_CAM.jpeg  Ext_Rha_2497_Recto_GUIDED_GRAD_CAM.jpeg   \n",
       "19  Ext_Rha_2498_Verso_GRAD_CAM.jpeg  Ext_Rha_2498_Recto_GUIDED_GRAD_CAM.jpeg   \n",
       "\n",
       "                      filename_verso_cam_gb  \n",
       "0   Ext_Bio_0020_Verso_GUIDED_GRAD_CAM.jpeg  \n",
       "1   Ext_Bio_0035_Verso_GUIDED_GRAD_CAM.jpeg  \n",
       "2   Ext_Bio_0036_Verso_GUIDED_GRAD_CAM.jpeg  \n",
       "3   Ext_Bio_0038_Verso_GUIDED_GRAD_CAM.jpeg  \n",
       "4   Ext_Rha_2301_Verso_GUIDED_GRAD_CAM.jpeg  \n",
       "5   Ext_Rha_2432_Verso_GUIDED_GRAD_CAM.jpeg  \n",
       "6   Ext_Rha_2433_Verso_GUIDED_GRAD_CAM.jpeg  \n",
       "7   Ext_Rha_2434_Verso_GUIDED_GRAD_CAM.jpeg  \n",
       "8   Ext_Rha_2435_Verso_GUIDED_GRAD_CAM.jpeg  \n",
       "9   Ext_Rha_2436_Verso_GUIDED_GRAD_CAM.jpeg  \n",
       "10  Ext_Rha_2437_Verso_GUIDED_GRAD_CAM.jpeg  \n",
       "11  Ext_Rha_2438_Verso_GUIDED_GRAD_CAM.jpeg  \n",
       "12  Ext_Rha_2439_Verso_GUIDED_GRAD_CAM.jpeg  \n",
       "13  Ext_Rha_2440_Verso_GUIDED_GRAD_CAM.jpeg  \n",
       "14  Ext_Rha_2441_Verso_GUIDED_GRAD_CAM.jpeg  \n",
       "15  Ext_Rha_2442_Verso_GUIDED_GRAD_CAM.jpeg  \n",
       "16  Ext_Rha_2495_Verso_GUIDED_GRAD_CAM.jpeg  \n",
       "17  Ext_Rha_2496_Verso_GUIDED_GRAD_CAM.jpeg  \n",
       "18  Ext_Rha_2497_Verso_GUIDED_GRAD_CAM.jpeg  \n",
       "19  Ext_Rha_2498_Verso_GUIDED_GRAD_CAM.jpeg  "
      ]
     },
     "execution_count": 32,
     "metadata": {},
     "output_type": "execute_result"
    }
   ],
   "source": [
    "df_results_ext.head(20)"
   ]
  },
  {
   "cell_type": "code",
   "execution_count": 30,
   "id": "14ae7cef-16f5-4021-bc86-60866bc6b7ec",
   "metadata": {
    "tags": []
   },
   "outputs": [
    {
     "data": {
      "text/plain": [
       "Syl    283\n",
       "Mac     63\n",
       "Alt     29\n",
       "Mil      9\n",
       "Myc      6\n",
       "Pse      3\n",
       "Big      1\n",
       "Name: outputs_ext_preds, dtype: int64"
      ]
     },
     "execution_count": 30,
     "metadata": {},
     "output_type": "execute_result"
    }
   ],
   "source": [
    "df_results_ext[\"outputs_ext_preds\"].value_counts()"
   ]
  },
  {
   "cell_type": "markdown",
   "id": "7d57e6d3-261c-405d-8449-d39ffa4678f7",
   "metadata": {},
   "source": [
    "## For "
   ]
  }
 ],
 "metadata": {
  "kernelspec": {
   "display_name": "Python 3 (ipykernel)",
   "language": "python",
   "name": "python3"
  },
  "language_info": {
   "codemirror_mode": {
    "name": "ipython",
    "version": 3
   },
   "file_extension": ".py",
   "mimetype": "text/x-python",
   "name": "python",
   "nbconvert_exporter": "python",
   "pygments_lexer": "ipython3",
   "version": "3.10.9"
  },
  "vscode": {
   "interpreter": {
    "hash": "3fa046f995eb80ac40c0869a1f9df46519f4ada8b8c395ef25dd1aa1a1a2fc63"
   }
  }
 },
 "nbformat": 4,
 "nbformat_minor": 5
}
